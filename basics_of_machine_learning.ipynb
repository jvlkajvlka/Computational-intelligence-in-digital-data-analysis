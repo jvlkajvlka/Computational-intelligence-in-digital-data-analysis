{
  "nbformat": 4,
  "nbformat_minor": 0,
  "metadata": {
    "colab": {
      "name": "IO projekt 1.ipynb",
      "provenance": [],
      "collapsed_sections": [
        "mVIt9EFqVEof",
        "5WS_ogBh6GbQ",
        "zOSDgkQl7Bsm",
        "KRUM8gD2NDWe",
        "I9FVo5lXV7iL",
        "mbjh8bCz7vDS",
        "PTBB7TMFQHOR",
        "Gym5eeqJ8FnJ"
      ],
      "toc_visible": true
    },
    "kernelspec": {
      "name": "python3",
      "display_name": "Python 3"
    },
    "language_info": {
      "name": "python"
    },
    "accelerator": "GPU"
  },
  "cells": [
    {
      "cell_type": "markdown",
      "metadata": {
        "id": "mVIt9EFqVEof"
      },
      "source": [
        "# Importy "
      ]
    },
    {
      "cell_type": "code",
      "metadata": {
        "colab": {
          "base_uri": "https://localhost:8080/"
        },
        "id": "WMKtj4N09q48",
        "outputId": "4847beaa-eaab-44e3-bfaa-68be91238490"
      },
      "source": [
        "!nvcc --version\n",
        "!pip install git+git://github.com/andreinechaev/nvcc4jupyter.git\n",
        "\n",
        "%load_ext nvcc_plugin"
      ],
      "execution_count": null,
      "outputs": [
        {
          "output_type": "stream",
          "text": [
            "nvcc: NVIDIA (R) Cuda compiler driver\n",
            "Copyright (c) 2005-2020 NVIDIA Corporation\n",
            "Built on Wed_Jul_22_19:09:09_PDT_2020\n",
            "Cuda compilation tools, release 11.0, V11.0.221\n",
            "Build cuda_11.0_bu.TC445_37.28845127_0\n",
            "Collecting git+git://github.com/andreinechaev/nvcc4jupyter.git\n",
            "  Cloning git://github.com/andreinechaev/nvcc4jupyter.git to /tmp/pip-req-build-90amzoua\n",
            "  Running command git clone -q git://github.com/andreinechaev/nvcc4jupyter.git /tmp/pip-req-build-90amzoua\n",
            "Building wheels for collected packages: NVCCPlugin\n",
            "  Building wheel for NVCCPlugin (setup.py) ... \u001b[?25l\u001b[?25hdone\n",
            "  Created wheel for NVCCPlugin: filename=NVCCPlugin-0.0.2-cp37-none-any.whl size=4307 sha256=675edd1870dc3c8338905cb821259bbf7a9c796a7094d6ce42cb530ffe9e9977\n",
            "  Stored in directory: /tmp/pip-ephem-wheel-cache-6t7id5eu/wheels/10/c2/05/ca241da37bff77d60d31a9174f988109c61ba989e4d4650516\n",
            "Successfully built NVCCPlugin\n",
            "Installing collected packages: NVCCPlugin\n",
            "Successfully installed NVCCPlugin-0.0.2\n",
            "created output directory at /content/src\n",
            "Out bin /content/result.out\n"
          ],
          "name": "stdout"
        }
      ]
    },
    {
      "cell_type": "code",
      "metadata": {
        "id": "lp5ot1RFEYeR"
      },
      "source": [
        "import numpy as np\n",
        "import pandas as pd\n",
        "import matplotlib.pyplot as plt\n",
        "%matplotlib inline \n",
        "import seaborn as sns\n",
        "from sklearn.preprocessing import LabelEncoder\n",
        "from sklearn.model_selection import train_test_split,cross_val_score\n",
        "from sklearn.metrics import classification_report, confusion_matrix\n",
        "from sklearn.ensemble import RandomForestClassifier\n",
        "from sklearn.model_selection import learning_curve,validation_curve\n",
        "from sklearn.model_selection import RandomizedSearchCV, GridSearchCV\n",
        "\n",
        "from sklearn.metrics import precision_score\n",
        "from sklearn.metrics import recall_score\n",
        "from sklearn.metrics import f1_score\n",
        "from sklearn.datasets import load_breast_cancer\n",
        "from sklearn.preprocessing import StandardScaler\n",
        "from sklearn.preprocessing import Normalizer\n",
        "from sklearn.pipeline import Pipeline\n",
        "from sklearn.svm import SVC\n",
        "from sklearn.decomposition import PCA \n",
        "\n",
        "\n"
      ],
      "execution_count": null,
      "outputs": []
    },
    {
      "cell_type": "code",
      "metadata": {
        "colab": {
          "base_uri": "https://localhost:8080/"
        },
        "id": "21NqKcXuKznJ",
        "outputId": "49446c1d-f5c8-47e6-f3fd-58e202b5fe2a"
      },
      "source": [
        "from google.colab import drive\n",
        "drive.mount('/content/drive')\n"
      ],
      "execution_count": null,
      "outputs": [
        {
          "output_type": "stream",
          "text": [
            "Mounted at /content/drive\n"
          ],
          "name": "stdout"
        }
      ]
    },
    {
      "cell_type": "markdown",
      "metadata": {
        "id": "5WS_ogBh6GbQ"
      },
      "source": [
        "# Wczytanie i przygotowanie danych"
      ]
    },
    {
      "cell_type": "code",
      "metadata": {
        "id": "IGlnRV3qJKGo"
      },
      "source": [
        "# Wczytujemy dane:  \n",
        "data = pd.read_csv('/content/drive/My Drive/car.data.csv', header = None) "
      ],
      "execution_count": null,
      "outputs": []
    },
    {
      "cell_type": "code",
      "metadata": {
        "id": "hw6vac74Jo5y",
        "colab": {
          "base_uri": "https://localhost:8080/"
        },
        "outputId": "57b53402-8fad-4b98-a196-898f70b9c95f"
      },
      "source": [
        "data.head()"
      ],
      "execution_count": null,
      "outputs": [
        {
          "output_type": "execute_result",
          "data": {
            "text/html": [
              "<div>\n",
              "<style scoped>\n",
              "    .dataframe tbody tr th:only-of-type {\n",
              "        vertical-align: middle;\n",
              "    }\n",
              "\n",
              "    .dataframe tbody tr th {\n",
              "        vertical-align: top;\n",
              "    }\n",
              "\n",
              "    .dataframe thead th {\n",
              "        text-align: right;\n",
              "    }\n",
              "</style>\n",
              "<table border=\"1\" class=\"dataframe\">\n",
              "  <thead>\n",
              "    <tr style=\"text-align: right;\">\n",
              "      <th></th>\n",
              "      <th>0</th>\n",
              "      <th>1</th>\n",
              "      <th>2</th>\n",
              "      <th>3</th>\n",
              "      <th>4</th>\n",
              "      <th>5</th>\n",
              "      <th>6</th>\n",
              "    </tr>\n",
              "  </thead>\n",
              "  <tbody>\n",
              "    <tr>\n",
              "      <th>0</th>\n",
              "      <td>vhigh</td>\n",
              "      <td>vhigh</td>\n",
              "      <td>2</td>\n",
              "      <td>2</td>\n",
              "      <td>small</td>\n",
              "      <td>low</td>\n",
              "      <td>unacc</td>\n",
              "    </tr>\n",
              "    <tr>\n",
              "      <th>1</th>\n",
              "      <td>vhigh</td>\n",
              "      <td>vhigh</td>\n",
              "      <td>2</td>\n",
              "      <td>2</td>\n",
              "      <td>small</td>\n",
              "      <td>med</td>\n",
              "      <td>unacc</td>\n",
              "    </tr>\n",
              "    <tr>\n",
              "      <th>2</th>\n",
              "      <td>vhigh</td>\n",
              "      <td>vhigh</td>\n",
              "      <td>2</td>\n",
              "      <td>2</td>\n",
              "      <td>small</td>\n",
              "      <td>high</td>\n",
              "      <td>unacc</td>\n",
              "    </tr>\n",
              "    <tr>\n",
              "      <th>3</th>\n",
              "      <td>vhigh</td>\n",
              "      <td>vhigh</td>\n",
              "      <td>2</td>\n",
              "      <td>2</td>\n",
              "      <td>med</td>\n",
              "      <td>low</td>\n",
              "      <td>unacc</td>\n",
              "    </tr>\n",
              "    <tr>\n",
              "      <th>4</th>\n",
              "      <td>vhigh</td>\n",
              "      <td>vhigh</td>\n",
              "      <td>2</td>\n",
              "      <td>2</td>\n",
              "      <td>med</td>\n",
              "      <td>med</td>\n",
              "      <td>unacc</td>\n",
              "    </tr>\n",
              "  </tbody>\n",
              "</table>\n",
              "</div>"
            ],
            "text/plain": [
              "       0      1  2  3      4     5      6\n",
              "0  vhigh  vhigh  2  2  small   low  unacc\n",
              "1  vhigh  vhigh  2  2  small   med  unacc\n",
              "2  vhigh  vhigh  2  2  small  high  unacc\n",
              "3  vhigh  vhigh  2  2    med   low  unacc\n",
              "4  vhigh  vhigh  2  2    med   med  unacc"
            ]
          },
          "metadata": {
            "tags": []
          },
          "execution_count": 10
        }
      ]
    },
    {
      "cell_type": "code",
      "metadata": {
        "colab": {
          "base_uri": "https://localhost:8080/"
        },
        "id": "t6cOsOgDKKOV",
        "outputId": "7d5d1c34-2627-4fc2-da28-bb72ebca400e"
      },
      "source": [
        "# Zmiana nazw kolumny i wyświetlenie informacji \n",
        "col_names = ['buying', 'maint', 'doors', 'persons', 'lug_boot', 'safety', 'class']\n",
        "data.columns = col_names\n",
        "\n",
        "for col in col_names:\n",
        "    print(data[col].value_counts())"
      ],
      "execution_count": null,
      "outputs": [
        {
          "output_type": "stream",
          "text": [
            "vhigh    432\n",
            "high     432\n",
            "low      432\n",
            "med      432\n",
            "Name: buying, dtype: int64\n",
            "vhigh    432\n",
            "high     432\n",
            "low      432\n",
            "med      432\n",
            "Name: maint, dtype: int64\n",
            "4        432\n",
            "2        432\n",
            "5more    432\n",
            "3        432\n",
            "Name: doors, dtype: int64\n",
            "4       576\n",
            "2       576\n",
            "more    576\n",
            "Name: persons, dtype: int64\n",
            "small    576\n",
            "big      576\n",
            "med      576\n",
            "Name: lug_boot, dtype: int64\n",
            "high    576\n",
            "low     576\n",
            "med     576\n",
            "Name: safety, dtype: int64\n",
            "unacc    1210\n",
            "acc       384\n",
            "good       69\n",
            "vgood      65\n",
            "Name: class, dtype: int64\n"
          ],
          "name": "stdout"
        }
      ]
    },
    {
      "cell_type": "code",
      "metadata": {
        "colab": {
          "base_uri": "https://localhost:8080/"
        },
        "id": "HkO2SRN9KSBD",
        "outputId": "688dcaa4-bb6c-4964-bbb0-b45e690ff596"
      },
      "source": [
        "data.describe()"
      ],
      "execution_count": null,
      "outputs": [
        {
          "output_type": "execute_result",
          "data": {
            "text/html": [
              "<div>\n",
              "<style scoped>\n",
              "    .dataframe tbody tr th:only-of-type {\n",
              "        vertical-align: middle;\n",
              "    }\n",
              "\n",
              "    .dataframe tbody tr th {\n",
              "        vertical-align: top;\n",
              "    }\n",
              "\n",
              "    .dataframe thead th {\n",
              "        text-align: right;\n",
              "    }\n",
              "</style>\n",
              "<table border=\"1\" class=\"dataframe\">\n",
              "  <thead>\n",
              "    <tr style=\"text-align: right;\">\n",
              "      <th></th>\n",
              "      <th>buying</th>\n",
              "      <th>maint</th>\n",
              "      <th>doors</th>\n",
              "      <th>persons</th>\n",
              "      <th>lug_boot</th>\n",
              "      <th>safety</th>\n",
              "      <th>class</th>\n",
              "    </tr>\n",
              "  </thead>\n",
              "  <tbody>\n",
              "    <tr>\n",
              "      <th>count</th>\n",
              "      <td>1728</td>\n",
              "      <td>1728</td>\n",
              "      <td>1728</td>\n",
              "      <td>1728</td>\n",
              "      <td>1728</td>\n",
              "      <td>1728</td>\n",
              "      <td>1728</td>\n",
              "    </tr>\n",
              "    <tr>\n",
              "      <th>unique</th>\n",
              "      <td>4</td>\n",
              "      <td>4</td>\n",
              "      <td>4</td>\n",
              "      <td>3</td>\n",
              "      <td>3</td>\n",
              "      <td>3</td>\n",
              "      <td>4</td>\n",
              "    </tr>\n",
              "    <tr>\n",
              "      <th>top</th>\n",
              "      <td>vhigh</td>\n",
              "      <td>vhigh</td>\n",
              "      <td>4</td>\n",
              "      <td>4</td>\n",
              "      <td>small</td>\n",
              "      <td>high</td>\n",
              "      <td>unacc</td>\n",
              "    </tr>\n",
              "    <tr>\n",
              "      <th>freq</th>\n",
              "      <td>432</td>\n",
              "      <td>432</td>\n",
              "      <td>432</td>\n",
              "      <td>576</td>\n",
              "      <td>576</td>\n",
              "      <td>576</td>\n",
              "      <td>1210</td>\n",
              "    </tr>\n",
              "  </tbody>\n",
              "</table>\n",
              "</div>"
            ],
            "text/plain": [
              "       buying  maint doors persons lug_boot safety  class\n",
              "count    1728   1728  1728    1728     1728   1728   1728\n",
              "unique      4      4     4       3        3      3      4\n",
              "top     vhigh  vhigh     4       4    small   high  unacc\n",
              "freq      432    432   432     576      576    576   1210"
            ]
          },
          "metadata": {
            "tags": []
          },
          "execution_count": 12
        }
      ]
    },
    {
      "cell_type": "code",
      "metadata": {
        "colab": {
          "base_uri": "https://localhost:8080/"
        },
        "id": "iqmlTNK6Kw_a",
        "outputId": "55854f38-86e7-47c3-a47e-6304b7cfc020"
      },
      "source": [
        "# Podsumowanie danych\n",
        "data.info()"
      ],
      "execution_count": null,
      "outputs": [
        {
          "output_type": "stream",
          "text": [
            "<class 'pandas.core.frame.DataFrame'>\n",
            "RangeIndex: 1728 entries, 0 to 1727\n",
            "Data columns (total 7 columns):\n",
            " #   Column    Non-Null Count  Dtype \n",
            "---  ------    --------------  ----- \n",
            " 0   buying    1728 non-null   object\n",
            " 1   maint     1728 non-null   object\n",
            " 2   doors     1728 non-null   object\n",
            " 3   persons   1728 non-null   object\n",
            " 4   lug_boot  1728 non-null   object\n",
            " 5   safety    1728 non-null   object\n",
            " 6   class     1728 non-null   object\n",
            "dtypes: object(7)\n",
            "memory usage: 94.6+ KB\n"
          ],
          "name": "stdout"
        }
      ]
    },
    {
      "cell_type": "code",
      "metadata": {
        "colab": {
          "base_uri": "https://localhost:8080/"
        },
        "id": "xcjLWjdHLB4j",
        "outputId": "e644b3ba-3aaf-45c3-8b61-903d0c30845b"
      },
      "source": [
        "# Sprawdzenie czy w bazie występują jakieś brakujące wartości\n",
        "data.isnull().sum()"
      ],
      "execution_count": null,
      "outputs": [
        {
          "output_type": "execute_result",
          "data": {
            "text/plain": [
              "buying      0\n",
              "maint       0\n",
              "doors       0\n",
              "persons     0\n",
              "lug_boot    0\n",
              "safety      0\n",
              "class       0\n",
              "dtype: int64"
            ]
          },
          "metadata": {
            "tags": []
          },
          "execution_count": 14
        }
      ]
    },
    {
      "cell_type": "markdown",
      "metadata": {
        "id": "zOSDgkQl7Bsm"
      },
      "source": [
        "# Wykresy przedstawiające liczbę unikalnych wartości w kolumnie"
      ]
    },
    {
      "cell_type": "code",
      "metadata": {
        "colab": {
          "base_uri": "https://localhost:8080/"
        },
        "id": "-wyVh9reOhZt",
        "outputId": "90625b8a-c0d4-4a06-dd84-e8e7e60b5cbc"
      },
      "source": [
        "\n",
        "for i in data.columns:\n",
        "    plt.figure(figsize=(12,6))\n",
        "    plt.title(\"For feature '%s'\"%i)\n",
        "    sns.countplot(data[i],hue=data['class'])"
      ],
      "execution_count": null,
      "outputs": [
        {
          "output_type": "stream",
          "text": [
            "/usr/local/lib/python3.7/dist-packages/seaborn/_decorators.py:43: FutureWarning: Pass the following variable as a keyword arg: x. From version 0.12, the only valid positional argument will be `data`, and passing other arguments without an explicit keyword will result in an error or misinterpretation.\n",
            "  FutureWarning\n",
            "/usr/local/lib/python3.7/dist-packages/seaborn/_decorators.py:43: FutureWarning: Pass the following variable as a keyword arg: x. From version 0.12, the only valid positional argument will be `data`, and passing other arguments without an explicit keyword will result in an error or misinterpretation.\n",
            "  FutureWarning\n",
            "/usr/local/lib/python3.7/dist-packages/seaborn/_decorators.py:43: FutureWarning: Pass the following variable as a keyword arg: x. From version 0.12, the only valid positional argument will be `data`, and passing other arguments without an explicit keyword will result in an error or misinterpretation.\n",
            "  FutureWarning\n",
            "/usr/local/lib/python3.7/dist-packages/seaborn/_decorators.py:43: FutureWarning: Pass the following variable as a keyword arg: x. From version 0.12, the only valid positional argument will be `data`, and passing other arguments without an explicit keyword will result in an error or misinterpretation.\n",
            "  FutureWarning\n",
            "/usr/local/lib/python3.7/dist-packages/seaborn/_decorators.py:43: FutureWarning: Pass the following variable as a keyword arg: x. From version 0.12, the only valid positional argument will be `data`, and passing other arguments without an explicit keyword will result in an error or misinterpretation.\n",
            "  FutureWarning\n",
            "/usr/local/lib/python3.7/dist-packages/seaborn/_decorators.py:43: FutureWarning: Pass the following variable as a keyword arg: x. From version 0.12, the only valid positional argument will be `data`, and passing other arguments without an explicit keyword will result in an error or misinterpretation.\n",
            "  FutureWarning\n",
            "/usr/local/lib/python3.7/dist-packages/seaborn/_decorators.py:43: FutureWarning: Pass the following variable as a keyword arg: x. From version 0.12, the only valid positional argument will be `data`, and passing other arguments without an explicit keyword will result in an error or misinterpretation.\n",
            "  FutureWarning\n"
          ],
          "name": "stderr"
        },
        {
          "output_type": "display_data",
          "data": {
            "image/png": "[encoded data removed]",
            "text/plain": [
              "<Figure size 864x432 with 1 Axes>"
            ]
          },
          "metadata": {
            "tags": [],
            "needs_background": "light"
          }
        },
        {
          "output_type": "display_data",
          "data": {
            "image/png": "[encoded data removed]",
            "text/plain": [
              "<Figure size 864x432 with 1 Axes>"
            ]
          },
          "metadata": {
            "tags": [],
            "needs_background": "light"
          }
        },
        {
          "output_type": "display_data",
          "data": {
            "image/png": "[encoded data removed]",
            "text/plain": [
              "<Figure size 864x432 with 1 Axes>"
            ]
          },
          "metadata": {
            "tags": [],
            "needs_background": "light"
          }
        },
        {
          "output_type": "display_data",
          "data": {
            "image/png": "[encoded data removed]",
            "text/plain": [
              "<Figure size 864x432 with 1 Axes>"
            ]
          },
          "metadata": {
            "tags": [],
            "needs_background": "light"
          }
        },
        {
          "output_type": "display_data",
          "data": {
            "image/png": "[encoded data removed]",
            "text/plain": [
              "<Figure size 864x432 with 1 Axes>"
            ]
          },
          "metadata": {
            "tags": [],
            "needs_background": "light"
          }
        },
        {
          "output_type": "display_data",
          "data": {
            "image/png": "[encoded data removed]",
            "text/plain": [
              "<Figure size 864x432 with 1 Axes>"
            ]
          },
          "metadata": {
            "tags": [],
            "needs_background": "light"
          }
        },
        {
          "output_type": "display_data",
          "data": {
            "image/png": "[encoded data removed]",
            "text/plain": [
              "<Figure size 864x432 with 1 Axes>"
            ]
          },
          "metadata": {
            "tags": [],
            "needs_background": "light"
          }
        }
      ]
    },
    {
      "cell_type": "markdown",
      "metadata": {
        "id": "IBBGzBTUM4p0"
      },
      "source": [
        "Ponieważ algorytmy scikit-learn na ogół nie działają z wartościami łańcuchowymi, przekonwertowałyśmy kategorie ciągów na liczby całkowite."
      ]
    },
    {
      "cell_type": "code",
      "metadata": {
        "id": "F9xL_bm-QCdZ"
      },
      "source": [
        "le=LabelEncoder()\n",
        "\n",
        "for i in data.columns:\n",
        "    data[i]=le.fit_transform(data[i])"
      ],
      "execution_count": null,
      "outputs": []
    },
    {
      "cell_type": "code",
      "metadata": {
        "colab": {
          "base_uri": "https://localhost:8080/"
        },
        "id": "n7CQIMlzQI6w",
        "outputId": "90312e48-c674-45eb-e6be-268e199756c0"
      },
      "source": [
        "data.head()"
      ],
      "execution_count": null,
      "outputs": [
        {
          "output_type": "execute_result",
          "data": {
            "text/html": [
              "<div>\n",
              "<style scoped>\n",
              "    .dataframe tbody tr th:only-of-type {\n",
              "        vertical-align: middle;\n",
              "    }\n",
              "\n",
              "    .dataframe tbody tr th {\n",
              "        vertical-align: top;\n",
              "    }\n",
              "\n",
              "    .dataframe thead th {\n",
              "        text-align: right;\n",
              "    }\n",
              "</style>\n",
              "<table border=\"1\" class=\"dataframe\">\n",
              "  <thead>\n",
              "    <tr style=\"text-align: right;\">\n",
              "      <th></th>\n",
              "      <th>buying</th>\n",
              "      <th>maint</th>\n",
              "      <th>doors</th>\n",
              "      <th>persons</th>\n",
              "      <th>lug_boot</th>\n",
              "      <th>safety</th>\n",
              "      <th>class</th>\n",
              "    </tr>\n",
              "  </thead>\n",
              "  <tbody>\n",
              "    <tr>\n",
              "      <th>0</th>\n",
              "      <td>3</td>\n",
              "      <td>3</td>\n",
              "      <td>0</td>\n",
              "      <td>0</td>\n",
              "      <td>2</td>\n",
              "      <td>1</td>\n",
              "      <td>2</td>\n",
              "    </tr>\n",
              "    <tr>\n",
              "      <th>1</th>\n",
              "      <td>3</td>\n",
              "      <td>3</td>\n",
              "      <td>0</td>\n",
              "      <td>0</td>\n",
              "      <td>2</td>\n",
              "      <td>2</td>\n",
              "      <td>2</td>\n",
              "    </tr>\n",
              "    <tr>\n",
              "      <th>2</th>\n",
              "      <td>3</td>\n",
              "      <td>3</td>\n",
              "      <td>0</td>\n",
              "      <td>0</td>\n",
              "      <td>2</td>\n",
              "      <td>0</td>\n",
              "      <td>2</td>\n",
              "    </tr>\n",
              "    <tr>\n",
              "      <th>3</th>\n",
              "      <td>3</td>\n",
              "      <td>3</td>\n",
              "      <td>0</td>\n",
              "      <td>0</td>\n",
              "      <td>1</td>\n",
              "      <td>1</td>\n",
              "      <td>2</td>\n",
              "    </tr>\n",
              "    <tr>\n",
              "      <th>4</th>\n",
              "      <td>3</td>\n",
              "      <td>3</td>\n",
              "      <td>0</td>\n",
              "      <td>0</td>\n",
              "      <td>1</td>\n",
              "      <td>2</td>\n",
              "      <td>2</td>\n",
              "    </tr>\n",
              "  </tbody>\n",
              "</table>\n",
              "</div>"
            ],
            "text/plain": [
              "   buying  maint  doors  persons  lug_boot  safety  class\n",
              "0       3      3      0        0         2       1      2\n",
              "1       3      3      0        0         2       2      2\n",
              "2       3      3      0        0         2       0      2\n",
              "3       3      3      0        0         1       1      2\n",
              "4       3      3      0        0         1       2      2"
            ]
          },
          "metadata": {
            "tags": []
          },
          "execution_count": 17
        }
      ]
    },
    {
      "cell_type": "markdown",
      "metadata": {
        "id": "KRUM8gD2NDWe"
      },
      "source": [
        "\n",
        "\n",
        "# Mapa termiczna kolumn w zestawie danych ze sobą"
      ]
    },
    {
      "cell_type": "code",
      "metadata": {
        "colab": {
          "base_uri": "https://localhost:8080/"
        },
        "id": "u2k9s0FTQSZj",
        "outputId": "fc6d2e37-b600-4fb6-8c7c-13f31bb9119a"
      },
      "source": [
        "fig=plt.figure(figsize=(10,6))\n",
        "sns.heatmap(data.corr(),annot=True)"
      ],
      "execution_count": null,
      "outputs": [
        {
          "output_type": "execute_result",
          "data": {
            "text/plain": [
              "<matplotlib.axes._subplots.AxesSubplot at 0x7f2729c2a150>"
            ]
          },
          "metadata": {
            "tags": []
          },
          "execution_count": 18
        },
        {
          "output_type": "display_data",
          "data": {
            "image/png": "[encoded data removed]",
            "text/plain": [
              "<Figure size 720x432 with 2 Axes>"
            ]
          },
          "metadata": {
            "tags": [],
            "needs_background": "light"
          }
        }
      ]
    },
    {
      "cell_type": "markdown",
      "metadata": {
        "id": "I9FVo5lXV7iL"
      },
      "source": [
        "# Wybór zbioru uczącego i testowego"
      ]
    },
    {
      "cell_type": "markdown",
      "metadata": {
        "id": "gQaCO9XGNVPZ"
      },
      "source": [
        "Pomijając wartości przekątnych można zauważyć, że większość kolumn wykazuje bardzo słabą korelację z „klasą”. Kolumna „osoby” wykazuje słaby związek z „klasą”. Inne kolumny z wyjątkiem \"klasy\" nie wykazują żadnej korelacji między sobą.\n",
        "\n",
        "Tak więc wykreślanie tych kolumn ze sobą lub przeprowadzanie na nich jakiejkolwiek analizy może nie dać żadnych produktywnych wyników.\n",
        "\n",
        "\n",
        "\n",
        "*  X - ramka danych zawierająca dane / cechy wejściowe\n",
        "*  y - szereg, którego wyniki należy przewidzieć.\n",
        "\n",
        "\n",
        "\n"
      ]
    },
    {
      "cell_type": "code",
      "metadata": {
        "id": "1rL2DAmMQiWG"
      },
      "source": [
        "X=data[data.columns[:-1]]\n",
        "y=data['class']"
      ],
      "execution_count": null,
      "outputs": []
    },
    {
      "cell_type": "code",
      "metadata": {
        "id": "Y1vl4qmoQ9CV"
      },
      "source": [
        "# Podział na zbiory testowe, trenujące itd.\n",
        "X_train, X_test, y_train, y_test = train_test_split(X, y, test_size=0.25, random_state=51)\n"
      ],
      "execution_count": null,
      "outputs": []
    },
    {
      "cell_type": "markdown",
      "metadata": {
        "id": "65DwFrj0Vxpk"
      },
      "source": [
        "Używamy wyłącznie grupy uczącej i testowej w pythonowym scikit learn mamy taką bardzo prostą funkcję train_test_split. Tak jak nazwa mówi, dzieli nam zbiór na zbiór danych uczących i testujących (bez grupy walidującej). Robi to losowo (jest opcja wyboru odpowiedniego random state). Można odpowiednio dobrać proporcję grupy testowej."
      ]
    },
    {
      "cell_type": "markdown",
      "metadata": {
        "id": "mbjh8bCz7vDS"
      },
      "source": [
        "# Algorytm uczenia maszynowego"
      ]
    },
    {
      "cell_type": "markdown",
      "metadata": {
        "id": "YryT9brmT_TW"
      },
      "source": [
        "Random forest to elastyczny, łatwy w użyciu algorytm uczenia maszynowego, który zapewnia, nawet bez dostrajania hiperparametrów, świetne wyniki przez większość czasu. Jest to również jeden z najczęściej używanych algorytmów, ze względu na swoją prostotę i różnorodność (może być stosowany zarówno do zadań klasyfikacyjnych, jak i regresyjnych). Budowany przez niego „las” to zbiór drzew decyzyjnych, zwykle trenowanych metodą „workowania”. Ogólna idea metody pakowania polega na tym, że połączenie modeli uczenia się zwiększa ogólny wynik.Mówiąc prościej: losowy las tworzy wiele drzew decyzyjnych i łączy je w celu uzyskania dokładniejszej i stabilniejszej prognozy"
      ]
    },
    {
      "cell_type": "markdown",
      "metadata": {
        "id": "zf_k1qSdUuUO"
      },
      "source": [
        "Hiperparametry:\n",
        "\n",
        "1. n_estimators = liczba drzew w przedpolu\n",
        "2. max_features = maksymalna liczba cech branych pod uwagę przy dzieleniu węzła\n",
        "3. max_depth = maksymalna liczba poziomów w każdym drzewie decyzyjnym\n",
        "4. min_samples_split = minimalna liczba punktów danych umieszczonych w węźle przed podziałem węzła\n",
        "5. min_samples_leaf = minimalna liczba punktów danych dozwolonych w węźle liścia\n",
        "6. bootstrap = metoda próbkowania punktów danych (z wymianą lub bez)\n",
        "\n",
        "\n"
      ]
    },
    {
      "cell_type": "code",
      "metadata": {
        "id": "Ozq1YxsNRN-z"
      },
      "source": [
        "rfc=RandomForestClassifier(n_jobs=-1,random_state=51)"
      ],
      "execution_count": null,
      "outputs": []
    },
    {
      "cell_type": "code",
      "metadata": {
        "colab": {
          "base_uri": "https://localhost:8080/"
        },
        "id": "DwMEilpQRVyM",
        "outputId": "b17f63aa-300b-428d-a4fc-316191e7fae3"
      },
      "source": [
        "rfc.fit(X_train,y_train)\n"
      ],
      "execution_count": null,
      "outputs": [
        {
          "output_type": "execute_result",
          "data": {
            "text/plain": [
              "RandomForestClassifier(bootstrap=True, ccp_alpha=0.0, class_weight=None,\n",
              "                       criterion='gini', max_depth=None, max_features='auto',\n",
              "                       max_leaf_nodes=None, max_samples=None,\n",
              "                       min_impurity_decrease=0.0, min_impurity_split=None,\n",
              "                       min_samples_leaf=1, min_samples_split=2,\n",
              "                       min_weight_fraction_leaf=0.0, n_estimators=100,\n",
              "                       n_jobs=-1, oob_score=False, random_state=51, verbose=0,\n",
              "                       warm_start=False)"
            ]
          },
          "metadata": {
            "tags": []
          },
          "execution_count": 22
        }
      ]
    },
    {
      "cell_type": "code",
      "metadata": {
        "id": "vCL-ywRlbZBy",
        "colab": {
          "base_uri": "https://localhost:8080/"
        },
        "outputId": "996976c5-7504-4b38-85f1-741b5a2c98d6"
      },
      "source": [
        "y_pred = rfc.predict (X_test) \n",
        "cnm = confusion_matrix (y_test, y_pred)\n",
        "print(cnm)"
      ],
      "execution_count": null,
      "outputs": [
        {
          "output_type": "stream",
          "text": [
            "[[ 92   4   2   1]\n",
            " [  1  19   0   0]\n",
            " [  8   0 293   0]\n",
            " [  1   0   0  11]]\n"
          ],
          "name": "stdout"
        }
      ]
    },
    {
      "cell_type": "code",
      "metadata": {
        "colab": {
          "base_uri": "https://localhost:8080/"
        },
        "id": "ztAPkQmTIe3-",
        "outputId": "dd7af909-e71b-482f-85db-ccdbf3b1fd0d"
      },
      "source": [
        "print(\"Accuracy on test set: \", rfc.score(X_test,y_test)*100,\"%\")\n",
        "print(\"Accuracy on traing set : \", rfc.score(X_train,y_train)*100,\"%\")"
      ],
      "execution_count": null,
      "outputs": [
        {
          "output_type": "stream",
          "text": [
            "Accuracy on test set:  96.06481481481481 %\n",
            "Accuracy on traing set :  100.0 %\n"
          ],
          "name": "stdout"
        }
      ]
    },
    {
      "cell_type": "markdown",
      "metadata": {
        "id": "JcHMJLqwf1ub"
      },
      "source": [
        "** **pogrubiony tekst**Optymalizowany** **parametr**: kombinacja liniowa liczb pomyłek z różnymi wagami "
      ]
    },
    {
      "cell_type": "code",
      "metadata": {
        "colab": {
          "base_uri": "https://localhost:8080/"
        },
        "id": "Z_utdKJ_deMN",
        "outputId": "9db4ee50-41e7-4107-c3ab-ce86259d9e17"
      },
      "source": [
        "\n",
        "opt_param = (cnm[0,1] * 3 + cnm[0,2] * 4 + cnm[0,3] * 5 + cnm[1,0] * 6 + cnm[1,2] * 7 + cnm[1,3] * 8 + cnm[2,0] * 8 + cnm[2,1] * 7 + cnm[2,3] * 6 + cnm[3,2] * 3 + cnm[3,1] * 4 + cnm[3,0] * 5)/12\n",
        "\n",
        "print(opt_param) "
      ],
      "execution_count": null,
      "outputs": [
        {
          "output_type": "stream",
          "text": [
            "8.333333333333334\n"
          ],
          "name": "stdout"
        }
      ]
    },
    {
      "cell_type": "markdown",
      "metadata": {
        "id": "b86XHx5SfqZs"
      },
      "source": [
        "Wartość optymalizowanego parametru przy podstawowym użyciu algorytmu to 8,34. Ten parameter musimy minimalizować."
      ]
    },
    {
      "cell_type": "markdown",
      "metadata": {
        "id": "PTBB7TMFQHOR"
      },
      "source": [
        "# Funkcja do Macierzy pomyłek\n"
      ]
    },
    {
      "cell_type": "code",
      "metadata": {
        "id": "YJl1lZDRRFyL"
      },
      "source": [
        "def plot_confusion_matrix(cm,\n",
        "                          target_names,\n",
        "                          title='Confusion matrix',\n",
        "                          cmap=None,\n",
        "                          normalize=True):\n",
        "    import matplotlib.pyplot as plt\n",
        "    import numpy as np\n",
        "    import itertools\n",
        "\n",
        "    accuracy = np.trace(cm) / float(np.sum(cm))\n",
        "    misclass = 1 - accuracy\n",
        "\n",
        "    if cmap is None:\n",
        "        cmap = plt.get_cmap('Blues')\n",
        "\n",
        "    plt.figure(figsize=(8, 6))\n",
        "    plt.imshow(cm, interpolation='nearest', cmap=cmap)\n",
        "    plt.title(title)\n",
        "    plt.colorbar()\n",
        "\n",
        "    if target_names is not None:\n",
        "        tick_marks = np.arange(len(target_names))\n",
        "        plt.xticks(tick_marks, target_names, rotation=45)\n",
        "        plt.yticks(tick_marks, target_names)\n",
        "\n",
        "    if normalize:\n",
        "        cm = cm.astype('float') / cm.sum(axis=1)[:, np.newaxis]\n",
        "\n",
        "\n",
        "    thresh = cm.max() / 1.5 if normalize else cm.max() / 2\n",
        "    for i, j in itertools.product(range(cm.shape[0]), range(cm.shape[1])):\n",
        "        if normalize:\n",
        "            plt.text(j, i, \"{:0.4f}\".format(cm[i, j]),\n",
        "                     horizontalalignment=\"center\",\n",
        "                     color=\"white\" if cm[i, j] > thresh else \"black\")\n",
        "        else:\n",
        "            plt.text(j, i, \"{:,}\".format(cm[i, j]),\n",
        "                     horizontalalignment=\"center\",\n",
        "                     color=\"white\" if cm[i, j] > thresh else \"black\")\n",
        "\n",
        "\n",
        "    plt.tight_layout()\n",
        "    plt.ylabel('True label')\n",
        "    plt.xlabel('Predicted label\\naccuracy={:0.4f}; misclass={:0.4f}'.format(accuracy, misclass))\n",
        "    plt.show()"
      ],
      "execution_count": null,
      "outputs": []
    },
    {
      "cell_type": "markdown",
      "metadata": {
        "id": "Gym5eeqJ8FnJ"
      },
      "source": [
        "# Macierz pomyłek dla podstawowego modelu RFC"
      ]
    },
    {
      "cell_type": "code",
      "metadata": {
        "colab": {
          "base_uri": "https://localhost:8080/"
        },
        "id": "AhBljDoiRH6d",
        "outputId": "6ba7eec7-eda0-48bf-e70a-d7ef276b3804"
      },
      "source": [
        "plot_confusion_matrix(cnm,\n",
        "                      target_names= None,\n",
        "                      title='Confusion matrix')"
      ],
      "execution_count": null,
      "outputs": [
        {
          "output_type": "display_data",
          "data": {
            "image/png": "[encoded data removed]",
            "text/plain": [
              "<Figure size 576x432 with 2 Axes>"
            ]
          },
          "metadata": {
            "tags": [],
            "needs_background": "light"
          }
        }
      ]
    },
    {
      "cell_type": "markdown",
      "metadata": {
        "id": "vph24e6PRe6H"
      },
      "source": [
        "Podstawowy model RFC zapewnia 96% dokładności.\n",
        "\n",
        "\n",
        "\n"
      ]
    },
    {
      "cell_type": "markdown",
      "metadata": {
        "id": "Yonh7FEM9FYW"
      },
      "source": [
        "# Znalezienie optymalnych wartości hiperparametrów na siatce (grid search)"
      ]
    },
    {
      "cell_type": "markdown",
      "metadata": {
        "id": "U9SbP7kIXLMM"
      },
      "source": [
        "Jest to pierwsza metoda jaka powstała i jest bardzo intuicyjna. Przeszukiwanie sieci to technika strojenia hiperparametrów, która może ułatwić zbudowanie modelu i ocenę modelu dla każdej kombinacji parametrów algorytmów na sieć. Polega na tym, że rysujemy siatkę parametrów, które chcemy przetestować. Załóżmy, że chcemy przetestować dwa hiperparametry: max_features (od 1 do 6) oraz n_estimators (6 wartości).\n",
        "\n",
        "Wówczas możemy wyliczyć 7 x 10 = 70 modeli, aby sprawdzić wszystkie możliwości. Wykorzystując dodatkowo walidację krzyżową przy cv = 10 otrzymalibyśmy 70 x 10 = 700 modeli.\n",
        "\n",
        "Główna wada tego rozwiązania: czas wyliczenia."
      ]
    },
    {
      "cell_type": "code",
      "metadata": {
        "id": "-kZahQoyTn3x"
      },
      "source": [
        "param_grid={\n",
        "           'max_features':[2,3,4,5,6,'auto'],\n",
        "           'n_estimators':[10,20,100,120,150,200],}"
      ],
      "execution_count": null,
      "outputs": []
    },
    {
      "cell_type": "code",
      "metadata": {
        "id": "KmgWZ7itTq2M"
      },
      "source": [
        "grid=GridSearchCV(estimator=RandomForestClassifier(n_jobs=-1,random_state=51), param_grid=param_grid,cv=10,n_jobs=-1)"
      ],
      "execution_count": null,
      "outputs": []
    },
    {
      "cell_type": "code",
      "metadata": {
        "colab": {
          "base_uri": "https://localhost:8080/"
        },
        "id": "lFGPSlAoT__U",
        "outputId": "dc33b6cd-40f6-4a19-d746-43b58d4d18c8"
      },
      "source": [
        "grid.fit(X_train,y_train)"
      ],
      "execution_count": null,
      "outputs": [
        {
          "output_type": "execute_result",
          "data": {
            "text/plain": [
              "GridSearchCV(cv=10, error_score=nan,\n",
              "             estimator=RandomForestClassifier(bootstrap=True, ccp_alpha=0.0,\n",
              "                                              class_weight=None,\n",
              "                                              criterion='gini', max_depth=None,\n",
              "                                              max_features='auto',\n",
              "                                              max_leaf_nodes=None,\n",
              "                                              max_samples=None,\n",
              "                                              min_impurity_decrease=0.0,\n",
              "                                              min_impurity_split=None,\n",
              "                                              min_samples_leaf=1,\n",
              "                                              min_samples_split=2,\n",
              "                                              min_weight_fraction_leaf=0.0,\n",
              "                                              n_estimators=100, n_jobs=-1,\n",
              "                                              oob_score=False, random_state=51,\n",
              "                                              verbose=0, warm_start=False),\n",
              "             iid='deprecated', n_jobs=-1,\n",
              "             param_grid={'max_features': [2, 3, 4, 5, 6, 'auto'],\n",
              "                         'n_estimators': [10, 20, 100, 120, 150, 200]},\n",
              "             pre_dispatch='2*n_jobs', refit=True, return_train_score=False,\n",
              "             scoring=None, verbose=0)"
            ]
          },
          "metadata": {
            "tags": []
          },
          "execution_count": 30
        }
      ]
    },
    {
      "cell_type": "markdown",
      "metadata": {
        "id": "wFm7sBlSQaza"
      },
      "source": [
        ""
      ]
    },
    {
      "cell_type": "code",
      "metadata": {
        "colab": {
          "base_uri": "https://localhost:8080/"
        },
        "id": "yrP8_mnwUxRz",
        "outputId": "0fd38ad4-7fa2-452e-c2ca-d393b0aa897f"
      },
      "source": [
        "print(grid.best_params_)\n",
        "print(grid.best_score_)\n",
        "\n",
        "grid.get_params()"
      ],
      "execution_count": null,
      "outputs": [
        {
          "output_type": "stream",
          "text": [
            "{'max_features': 6, 'n_estimators': 20}\n",
            "0.9822719141323792\n"
          ],
          "name": "stdout"
        },
        {
          "output_type": "execute_result",
          "data": {
            "text/plain": [
              "{'cv': 10,\n",
              " 'error_score': nan,\n",
              " 'estimator': RandomForestClassifier(bootstrap=True, ccp_alpha=0.0, class_weight=None,\n",
              "                        criterion='gini', max_depth=None, max_features='auto',\n",
              "                        max_leaf_nodes=None, max_samples=None,\n",
              "                        min_impurity_decrease=0.0, min_impurity_split=None,\n",
              "                        min_samples_leaf=1, min_samples_split=2,\n",
              "                        min_weight_fraction_leaf=0.0, n_estimators=100,\n",
              "                        n_jobs=-1, oob_score=False, random_state=51, verbose=0,\n",
              "                        warm_start=False),\n",
              " 'estimator__bootstrap': True,\n",
              " 'estimator__ccp_alpha': 0.0,\n",
              " 'estimator__class_weight': None,\n",
              " 'estimator__criterion': 'gini',\n",
              " 'estimator__max_depth': None,\n",
              " 'estimator__max_features': 'auto',\n",
              " 'estimator__max_leaf_nodes': None,\n",
              " 'estimator__max_samples': None,\n",
              " 'estimator__min_impurity_decrease': 0.0,\n",
              " 'estimator__min_impurity_split': None,\n",
              " 'estimator__min_samples_leaf': 1,\n",
              " 'estimator__min_samples_split': 2,\n",
              " 'estimator__min_weight_fraction_leaf': 0.0,\n",
              " 'estimator__n_estimators': 100,\n",
              " 'estimator__n_jobs': -1,\n",
              " 'estimator__oob_score': False,\n",
              " 'estimator__random_state': 51,\n",
              " 'estimator__verbose': 0,\n",
              " 'estimator__warm_start': False,\n",
              " 'iid': 'deprecated',\n",
              " 'n_jobs': -1,\n",
              " 'param_grid': {'max_features': [2, 3, 4, 5, 6, 'auto'],\n",
              "  'n_estimators': [10, 20, 100, 120, 150, 200]},\n",
              " 'pre_dispatch': '2*n_jobs',\n",
              " 'refit': True,\n",
              " 'return_train_score': False,\n",
              " 'scoring': None,\n",
              " 'verbose': 0}"
            ]
          },
          "metadata": {
            "tags": []
          },
          "execution_count": 31
        }
      ]
    },
    {
      "cell_type": "markdown",
      "metadata": {
        "id": "od3rFT9biaDT"
      },
      "source": [
        "# Macierz pomyłek po optymalizacji parametrów\n"
      ]
    },
    {
      "cell_type": "code",
      "metadata": {
        "colab": {
          "base_uri": "https://localhost:8080/",
          "height": 467
        },
        "id": "bH3epKap2iiE",
        "outputId": "bd196b47-90ad-48e7-e415-5a1031074278"
      },
      "source": [
        "rfc_opt = RandomForestClassifier(n_estimators=20,n_jobs=-1,random_state=51,max_features=6)\n",
        "rfc_opt.fit(X_train,y_train)\n",
        "y_pred_opt = rfc_opt.predict (X_test) \n",
        "cnm_opt = confusion_matrix (y_test, y_pred_opt)\n",
        "\n",
        "plot_confusion_matrix(cnm_opt,\n",
        "                      target_names= None,\n",
        "                      title='Confusion matrix')\n"
      ],
      "execution_count": null,
      "outputs": [
        {
          "output_type": "display_data",
          "data": {
            "image/png": "[encoded data removed]",
            "text/plain": [
              "<Figure size 576x432 with 2 Axes>"
            ]
          },
          "metadata": {
            "tags": [],
            "needs_background": "light"
          }
        }
      ]
    },
    {
      "cell_type": "code",
      "metadata": {
        "colab": {
          "base_uri": "https://localhost:8080/"
        },
        "id": "KM3ilPw7J7y9",
        "outputId": "19704b1b-aa92-4839-adf2-5c7138a567a0"
      },
      "source": [
        "print(\"Accuracy on test set: \", rfc_opt.score(X_test,y_test)*100,\"%\")\n",
        "print(\"Accuracy on traing set : \", rfc_opt.score(X_train,y_train)*100,\"%\")"
      ],
      "execution_count": null,
      "outputs": [
        {
          "output_type": "stream",
          "text": [
            "Accuracy on test set:  96.99074074074075 %\n",
            "Accuracy on traing set :  100.0 %\n"
          ],
          "name": "stdout"
        }
      ]
    },
    {
      "cell_type": "markdown",
      "metadata": {
        "id": "M0cjUC10hoXd"
      },
      "source": [
        "Model RFC z zoptymalizowanymi parametrami zapewnia 97% dokładności.\n",
        "\n",
        "\n",
        "\n"
      ]
    },
    {
      "cell_type": "code",
      "metadata": {
        "colab": {
          "base_uri": "https://localhost:8080/"
        },
        "id": "DwcVgR3VeNRh",
        "outputId": "953d6971-234a-441d-89c0-51980ab3578e"
      },
      "source": [
        "# Optymalizowany parametr\n",
        "opt_param_2 = (cnm_opt[0,1] * 3 + cnm_opt[0,2] * 4 + cnm_opt[0,3] * 5 + cnm_opt[1,0] * 6 + cnm_opt[1,2] * 7 + cnm_opt[1,3] * 8 + cnm_opt[2,0] * 8 + cnm_opt[2,1] * 7 + cnm_opt[2,3] * 6 + cnm_opt[3,2] * 3 + cnm_opt[3,1] * 4 + cnm_opt[3,0] * 5)/12\n",
        "\n",
        "print(opt_param_2)"
      ],
      "execution_count": null,
      "outputs": [
        {
          "output_type": "stream",
          "text": [
            "6.166666666666667\n"
          ],
          "name": "stdout"
        }
      ]
    },
    {
      "cell_type": "markdown",
      "metadata": {
        "id": "_9UQOr8IU6kZ"
      },
      "source": [
        "**Tak więc przy powyższych parametrach RFC wartość optymalzowanego parametru zmieniła się z 8,34 na 6,17.**\n"
      ]
    },
    {
      "cell_type": "markdown",
      "metadata": {
        "id": "vqH3X7oEQbv3"
      },
      "source": [
        "# Zbadanie wpływu normalizacji, standaryzacji i PCA"
      ]
    },
    {
      "cell_type": "code",
      "metadata": {
        "colab": {
          "base_uri": "https://localhost:8080/"
        },
        "id": "hARarOG7ribf",
        "outputId": "d490276f-9bf3-4b02-83fe-fd4a87838866"
      },
      "source": [
        "pca = PCA()\n",
        "\n",
        "pipe = Pipeline(steps=[('scaler', Normalizer()) , ('pca', PCA()), ('clf', RandomForestClassifier()) ])\n",
        "\n",
        "param_grid = dict( scaler=['passthrough', Normalizer(), StandardScaler()],\n",
        "                    clf__n_estimators = [20,50,100,150],\n",
        "                    clf__n_jobs = [-1],\n",
        "                    clf__random_state = [51],\n",
        "                    clf__max_features = [1,2,3,4,5,6],\n",
        "                    pca__n_components = [1,2,3,4])\n",
        "\n",
        "search = GridSearchCV(pipe, param_grid, n_jobs=-1)\n",
        "search.fit(X_train, y_train)\n",
        "print(\"Best parameter (CV score=%0.3f):\" % search.best_score_)\n",
        "print(search.best_params_)\n",
        "\n"
      ],
      "execution_count": null,
      "outputs": [
        {
          "output_type": "stream",
          "text": [
            "Best parameter (CV score=0.779):\n",
            "{'clf__max_features': 3, 'clf__n_estimators': 150, 'clf__n_jobs': -1, 'clf__random_state': 51, 'pca__n_components': 4, 'scaler': 'passthrough'}\n"
          ],
          "name": "stdout"
        }
      ]
    }
  ]
}