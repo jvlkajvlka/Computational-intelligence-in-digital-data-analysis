{
  "nbformat": 4,
  "nbformat_minor": 0,
  "metadata": {
    "colab": {
      "name": "Projekt_2_A_Gnoisnka_J_Ignacyk.ipynb",
      "provenance": [],
      "collapsed_sections": [
        "9lqh-Av21eN-",
        "U_Z9SGAwIaNm",
        "cx5FLg9s4SnS",
        "vPv8tQWY4hck"
      ],
      "toc_visible": true
    },
    "kernelspec": {
      "display_name": "Python 3",
      "language": "python",
      "name": "python3"
    },
    "language_info": {
      "codemirror_mode": {
        "name": "ipython",
        "version": 3
      },
      "file_extension": ".py",
      "mimetype": "text/x-python",
      "name": "python",
      "nbconvert_exporter": "python",
      "pygments_lexer": "ipython3",
      "version": "3.8.3"
    },
    "accelerator": "GPU"
  },
  "cells": [
    {
      "cell_type": "markdown",
      "metadata": {
        "id": "A_wWXJCQzQqj"
      },
      "source": [
        "***Autorki***: Anna Gnoińska - ania.gnoinska@gmail.com\n",
        "Julia Ignacyk - juliaignacyk@gmail.com\n"
      ]
    },
    {
      "cell_type": "markdown",
      "metadata": {
        "id": "9lqh-Av21eN-"
      },
      "source": [
        "# Funkcje pomocnicze"
      ]
    },
    {
      "cell_type": "code",
      "metadata": {
        "id": "xpCGHhYWrLEi"
      },
      "source": [
        "import cv2\n",
        "import numpy as np\n",
        "import matplotlib.pyplot as plt\n",
        "from sklearn import svm\n",
        "from sklearn.metrics import classification_report, confusion_matrix\n",
        "from sklearn.ensemble import RandomForestClassifier\n",
        "from keras import models\n",
        "from keras import layers\n",
        "from keras.utils import to_categorical\n",
        "from sklearn.metrics import classification_report, confusion_matrix\n",
        "import numpy as np\n",
        "import seaborn as sns\n",
        "import pandas as pd\n",
        "from sklearn import neural_network\n",
        "from sklearn.model_selection import cross_val_score\n",
        "from sklearn.model_selection import GridSearchCV\n",
        "%matplotlib inline\n"
      ],
      "execution_count": 20,
      "outputs": []
    },
    {
      "cell_type": "code",
      "metadata": {
        "id": "qN2OlmW3rUll"
      },
      "source": [
        "## [deskew]\n",
        "SZ=28\n",
        "affine_flags = cv2.WARP_INVERSE_MAP|cv2.INTER_LINEAR\n",
        "\n",
        "def deskew(img):\n",
        "    m = cv2.moments(img)\n",
        "    if abs(m['mu02']) < 1e-2:\n",
        "        return img.copy()\n",
        "    skew = m['mu11']/m['mu02']\n",
        "    M = np.float32([[1, skew, -0.5*SZ*skew], [0, 1, 0]])\n",
        "    img = cv2.warpAffine(img,M,(SZ, SZ),flags=affine_flags)\n",
        "    return img\n",
        "## [deskew]\n"
      ],
      "execution_count": 21,
      "outputs": []
    },
    {
      "cell_type": "code",
      "metadata": {
        "id": "UvIsa5nzrbzK"
      },
      "source": [
        "def showOpencvImage(image, isGray=False):\n",
        "    fig = plt.figure(figsize=(6, 6))\n",
        "    plt.imshow(image, cmap = 'gray')\n",
        "    plt.show()"
      ],
      "execution_count": 22,
      "outputs": []
    },
    {
      "cell_type": "code",
      "metadata": {
        "id": "kegBUVlCrepj"
      },
      "source": [
        "def openCVHOG(im):\n",
        "    winSize = (20,20)\n",
        "    blockSize = (10,10)\n",
        "    blockStride = (5,5)\n",
        "    cellSize = (10,10)\n",
        "    nbins = 9\n",
        "    derivAperture = 1\n",
        "    winSigma = -1.\n",
        "    histogramNormType = 0\n",
        "    L2HysThreshold = 0.2\n",
        "    gammaCorrection = 1\n",
        "    nlevels = 64\n",
        "    signedGradients = True\n",
        "\n",
        "    hog = cv2.HOGDescriptor(winSize,blockSize,blockStride,cellSize,nbins,derivAperture,winSigma,histogramNormType,L2HysThreshold,gammaCorrection,nlevels, signedGradients)\n",
        "    descriptor = np.ravel(hog.compute(im))\n",
        "    \n",
        "    return descriptor"
      ],
      "execution_count": 23,
      "outputs": []
    },
    {
      "cell_type": "code",
      "metadata": {
        "id": "HfbI1iAH0k4W"
      },
      "source": [
        "def SVM_best_params(imData, train_labels):\n",
        "  parameters = {'kernel':('linear','rbf'), 'C':[1,10], 'gamma':('scale', 'auto')}\n",
        "\n",
        "  svc = svm.SVC()\n",
        "  clf = GridSearchCV(svc, parameters, cv=5, verbose=3)\n",
        "  clf.fit(imData[:6000], train_labels[:6000])\n",
        "  print(\"\\nBest score: \")\n",
        "  print(clf.best_score_)\n",
        "  print(\"\\nBest params: \")\n",
        "  print(clf.best_params_)\n",
        "\n",
        "  return clf.best_params_"
      ],
      "execution_count": 24,
      "outputs": []
    },
    {
      "cell_type": "code",
      "metadata": {
        "id": "mXPa2ErdIkdP"
      },
      "source": [
        "def SVM_classifier(imData, train_labels):\n",
        "  \n",
        "  model = svm.SVC(**SVM_best_params(imData,train_labels))\n",
        "  model = model.fit(imData[0:600,:],train_labels[0:600])\n",
        "\n",
        "  pred_labels = model.predict(imData[600:1000,:])\n",
        "  mask = pred_labels==train_labels[600:1000]\n",
        "  correct = np.count_nonzero(mask)\n",
        "  print(\"\\nAccuracy:\")\n",
        "  print(correct*100.0/pred_labels.size)\n",
        "\n",
        "  cm = confusion_matrix(train_labels[600:1000], pred_labels)\n",
        "  print(\"\\nConfusion matrix:\")\n",
        "  fig = plt.figure(figsize = (10,10))\n",
        "  sns.heatmap(cm, annot = True, square = True, fmt = 'd', cbar = False)\n",
        "  plt.show()\n",
        "  \n",
        "  print(\"\\nClassification report:\")\n",
        "  print(classification_report(train_labels[600:1000], pred_labels))"
      ],
      "execution_count": 25,
      "outputs": []
    },
    {
      "cell_type": "code",
      "metadata": {
        "id": "aM_TKsyv3BlM"
      },
      "source": [
        "def RFC_best_params(imData, train_labels):\n",
        "  params = {'max_features': [1,15,30],\n",
        "          'max_depth': [5,10,25], \n",
        "          'criterion': [\"entropy\",\"gini\"]}\n",
        "  model = RandomForestClassifier()\n",
        "\n",
        "  grid=GridSearchCV(estimator=model, param_grid=params, cv=5, verbose=4)\n",
        "  grid.fit(imData[:6000], train_labels[:6000])\n",
        "\n",
        "  print(\"Best score: \")\n",
        "  print(grid.best_score_)\n",
        "  print(\"\\nBest params: \")\n",
        "  print(grid.best_params_)\n",
        "  return grid.best_params_"
      ],
      "execution_count": 26,
      "outputs": []
    },
    {
      "cell_type": "code",
      "metadata": {
        "id": "6_W-LTXkKHef"
      },
      "source": [
        "def RFC_classifier(imData,train_labels):\n",
        "  rfc =  RandomForestClassifier(**RFC_best_params(imData,train_labels))\n",
        "  rfc = rfc.fit(imData[0:600,:],train_labels[0:600])\n",
        "\n",
        "  pred_labels = rfc.predict(imData[600:1000,:])\n",
        "\n",
        "  mask = pred_labels==train_labels[600:1000]\n",
        "  correct = np.count_nonzero(mask)\n",
        "  print(\"\\nAccuracy:\")\n",
        "  print(correct*100.0/pred_labels.size)\n",
        "\n",
        "  cm = confusion_matrix(train_labels[600:1000], pred_labels)\n",
        "  \n",
        "  print(\"\\nConfusion matrix:\")\n",
        "  fig = plt.figure(figsize = (10,10))\n",
        "  sns.heatmap(cm, annot = True, square = True, fmt = 'd', cbar = False)\n",
        "  plt.show()\n",
        "\n",
        "\n",
        "  print(\"\\nClassification report:\")\n",
        "  print(classification_report(train_labels[600:1000], pred_labels))"
      ],
      "execution_count": 27,
      "outputs": []
    },
    {
      "cell_type": "code",
      "metadata": {
        "id": "UWVt5X-eXpWr"
      },
      "source": [
        "from keras.wrappers.scikit_learn import KerasClassifier\n",
        "from keras import models\n",
        "from keras import layers\n",
        "from keras.utils import to_categorical\n",
        "\n",
        "def create_model():\n",
        "  network_deskewed = models.Sequential()\n",
        "  network_deskewed.add(layers.Dense(512, activation='relu'))\n",
        "  network_deskewed.add(layers.Dense(10, activation='softmax'))\n",
        "  network_deskewed.compile(optimizer='rmsprop',\n",
        "                  loss='categorical_crossentropy',\n",
        "                  metrics=['accuracy'])\n",
        "  return network_deskewed\n",
        "\n",
        "def NN_best_params(imData, encoded_train_labels, network):\n",
        "  epochs = [8, 10, 15]\n",
        "  param_grid = dict(epochs=epochs)\n",
        "  grid = GridSearchCV(network, param_grid, cv=5, n_jobs=-1)\n",
        "\n",
        "\n",
        "  grid.fit(imData2[:7500], encoded_train_labels[:7500], batch_size=128)\n",
        "\n",
        "  print(\"Best score: %0.4f\" % clf_grid.best_score_)\n",
        "  print(\"\\nBest params: \")\n",
        "  print(grid.best_params_)  \n",
        "\n"
      ],
      "execution_count": 89,
      "outputs": []
    },
    {
      "cell_type": "markdown",
      "metadata": {
        "id": "1QriSICO1kv1"
      },
      "source": [
        "# Projekt 2"
      ]
    },
    {
      "cell_type": "markdown",
      "metadata": {
        "id": "U_Z9SGAwIaNm"
      },
      "source": [
        "### Wczytanie danych"
      ]
    },
    {
      "cell_type": "code",
      "metadata": {
        "id": "2xkMAbtsrhnc"
      },
      "source": [
        "from keras.datasets import mnist\n",
        "\n",
        "(train_images, train_labels), (test_images, test_labels) = mnist.load_data()"
      ],
      "execution_count": 35,
      "outputs": []
    },
    {
      "cell_type": "markdown",
      "metadata": {
        "id": "cx5FLg9s4SnS"
      },
      "source": [
        "### Klasyfikatory bez wyrównania "
      ]
    },
    {
      "cell_type": "code",
      "metadata": {
        "colab": {
          "base_uri": "https://localhost:8080/",
          "height": 390
        },
        "id": "oNHSPTM3rnHx",
        "outputId": "e0a5a1a2-ac7a-4ddd-8488-6e39f7a22145"
      },
      "source": [
        "im_list = [train_images[i] for i in range(0,train_images.shape[0])] + [test_images[i] for i in range(0,test_images.shape[0])]\n",
        "\n",
        "# Przed wyrównaniem:\n",
        "showOpencvImage(train_images[1])\n",
        "print(train_labels[1])"
      ],
      "execution_count": 36,
      "outputs": [
        {
          "output_type": "display_data",
          "data": {
            "image/png": "[encoded data removed]",
            "text/plain": [
              "<Figure size 432x432 with 1 Axes>"
            ]
          },
          "metadata": {
            "tags": [],
            "needs_background": "light"
          }
        },
        {
          "output_type": "stream",
          "text": [
            "0\n"
          ],
          "name": "stdout"
        }
      ]
    },
    {
      "cell_type": "code",
      "metadata": {
        "colab": {
          "base_uri": "https://localhost:8080/"
        },
        "id": "tbM91U4_rrHC",
        "outputId": "ea306468-7a26-4acc-89e5-178f307df6b8"
      },
      "source": [
        "hogdata = [openCVHOG(im) for im in im_list]\n",
        "imData = np.float32(hogdata).reshape(-1,81)\n",
        "print(imData.shape)"
      ],
      "execution_count": 37,
      "outputs": [
        {
          "output_type": "stream",
          "text": [
            "(70000, 81)\n"
          ],
          "name": "stdout"
        }
      ]
    },
    {
      "cell_type": "markdown",
      "metadata": {
        "id": "H3Ajg8KY5wUA"
      },
      "source": [
        "**SVM**"
      ]
    },
    {
      "cell_type": "code",
      "metadata": {
        "colab": {
          "base_uri": "https://localhost:8080/"
        },
        "id": "NbQHTEikr1J_",
        "outputId": "6dc7f089-8d58-4c10-b4ae-f6839e8e81af"
      },
      "source": [
        "SVM_classifier(imData,train_labels)"
      ],
      "execution_count": null,
      "outputs": [
        {
          "output_type": "stream",
          "text": [
            "Fitting 5 folds for each of 8 candidates, totalling 40 fits\n",
            "[CV] C=1, gamma=scale, kernel=linear .................................\n"
          ],
          "name": "stdout"
        },
        {
          "output_type": "stream",
          "text": [
            "[Parallel(n_jobs=1)]: Using backend SequentialBackend with 1 concurrent workers.\n"
          ],
          "name": "stderr"
        },
        {
          "output_type": "stream",
          "text": [
            "[CV] ..... C=1, gamma=scale, kernel=linear, score=0.945, total=   0.6s\n",
            "[CV] C=1, gamma=scale, kernel=linear .................................\n"
          ],
          "name": "stdout"
        },
        {
          "output_type": "stream",
          "text": [
            "[Parallel(n_jobs=1)]: Done   1 out of   1 | elapsed:    0.6s remaining:    0.0s\n"
          ],
          "name": "stderr"
        },
        {
          "output_type": "stream",
          "text": [
            "[CV] ..... C=1, gamma=scale, kernel=linear, score=0.956, total=   0.6s\n",
            "[CV] C=1, gamma=scale, kernel=linear .................................\n"
          ],
          "name": "stdout"
        },
        {
          "output_type": "stream",
          "text": [
            "[Parallel(n_jobs=1)]: Done   2 out of   2 | elapsed:    1.3s remaining:    0.0s\n"
          ],
          "name": "stderr"
        },
        {
          "output_type": "stream",
          "text": [
            "[CV] ..... C=1, gamma=scale, kernel=linear, score=0.957, total=   0.6s\n",
            "[CV] C=1, gamma=scale, kernel=linear .................................\n",
            "[CV] ..... C=1, gamma=scale, kernel=linear, score=0.943, total=   0.6s\n",
            "[CV] C=1, gamma=scale, kernel=linear .................................\n",
            "[CV] ..... C=1, gamma=scale, kernel=linear, score=0.948, total=   0.6s\n",
            "[CV] C=1, gamma=scale, kernel=rbf ....................................\n",
            "[CV] ........ C=1, gamma=scale, kernel=rbf, score=0.951, total=   1.2s\n",
            "[CV] C=1, gamma=scale, kernel=rbf ....................................\n",
            "[CV] ........ C=1, gamma=scale, kernel=rbf, score=0.962, total=   1.3s\n",
            "[CV] C=1, gamma=scale, kernel=rbf ....................................\n",
            "[CV] ........ C=1, gamma=scale, kernel=rbf, score=0.966, total=   1.3s\n",
            "[CV] C=1, gamma=scale, kernel=rbf ....................................\n",
            "[CV] ........ C=1, gamma=scale, kernel=rbf, score=0.950, total=   1.3s\n",
            "[CV] C=1, gamma=scale, kernel=rbf ....................................\n",
            "[CV] ........ C=1, gamma=scale, kernel=rbf, score=0.953, total=   1.3s\n",
            "[CV] C=1, gamma=auto, kernel=linear ..................................\n",
            "[CV] ...... C=1, gamma=auto, kernel=linear, score=0.945, total=   0.6s\n",
            "[CV] C=1, gamma=auto, kernel=linear ..................................\n",
            "[CV] ...... C=1, gamma=auto, kernel=linear, score=0.956, total=   0.6s\n",
            "[CV] C=1, gamma=auto, kernel=linear ..................................\n",
            "[CV] ...... C=1, gamma=auto, kernel=linear, score=0.957, total=   0.6s\n",
            "[CV] C=1, gamma=auto, kernel=linear ..................................\n",
            "[CV] ...... C=1, gamma=auto, kernel=linear, score=0.943, total=   0.6s\n",
            "[CV] C=1, gamma=auto, kernel=linear ..................................\n",
            "[CV] ...... C=1, gamma=auto, kernel=linear, score=0.948, total=   0.6s\n",
            "[CV] C=1, gamma=auto, kernel=rbf .....................................\n",
            "[CV] ......... C=1, gamma=auto, kernel=rbf, score=0.920, total=   2.7s\n",
            "[CV] C=1, gamma=auto, kernel=rbf .....................................\n",
            "[CV] ......... C=1, gamma=auto, kernel=rbf, score=0.924, total=   2.7s\n",
            "[CV] C=1, gamma=auto, kernel=rbf .....................................\n",
            "[CV] ......... C=1, gamma=auto, kernel=rbf, score=0.923, total=   2.7s\n",
            "[CV] C=1, gamma=auto, kernel=rbf .....................................\n",
            "[CV] ......... C=1, gamma=auto, kernel=rbf, score=0.916, total=   2.7s\n",
            "[CV] C=1, gamma=auto, kernel=rbf .....................................\n",
            "[CV] ......... C=1, gamma=auto, kernel=rbf, score=0.910, total=   2.7s\n",
            "[CV] C=10, gamma=scale, kernel=linear ................................\n",
            "[CV] .... C=10, gamma=scale, kernel=linear, score=0.944, total=   0.6s\n",
            "[CV] C=10, gamma=scale, kernel=linear ................................\n",
            "[CV] .... C=10, gamma=scale, kernel=linear, score=0.953, total=   0.6s\n",
            "[CV] C=10, gamma=scale, kernel=linear ................................\n",
            "[CV] .... C=10, gamma=scale, kernel=linear, score=0.941, total=   0.6s\n",
            "[CV] C=10, gamma=scale, kernel=linear ................................\n",
            "[CV] .... C=10, gamma=scale, kernel=linear, score=0.936, total=   0.6s\n",
            "[CV] C=10, gamma=scale, kernel=linear ................................\n",
            "[CV] .... C=10, gamma=scale, kernel=linear, score=0.935, total=   0.6s\n",
            "[CV] C=10, gamma=scale, kernel=rbf ...................................\n",
            "[CV] ....... C=10, gamma=scale, kernel=rbf, score=0.960, total=   1.0s\n",
            "[CV] C=10, gamma=scale, kernel=rbf ...................................\n",
            "[CV] ....... C=10, gamma=scale, kernel=rbf, score=0.965, total=   1.1s\n",
            "[CV] C=10, gamma=scale, kernel=rbf ...................................\n",
            "[CV] ....... C=10, gamma=scale, kernel=rbf, score=0.963, total=   1.1s\n",
            "[CV] C=10, gamma=scale, kernel=rbf ...................................\n",
            "[CV] ....... C=10, gamma=scale, kernel=rbf, score=0.956, total=   1.1s\n",
            "[CV] C=10, gamma=scale, kernel=rbf ...................................\n",
            "[CV] ....... C=10, gamma=scale, kernel=rbf, score=0.953, total=   1.1s\n",
            "[CV] C=10, gamma=auto, kernel=linear .................................\n",
            "[CV] ..... C=10, gamma=auto, kernel=linear, score=0.944, total=   0.6s\n",
            "[CV] C=10, gamma=auto, kernel=linear .................................\n",
            "[CV] ..... C=10, gamma=auto, kernel=linear, score=0.953, total=   0.6s\n",
            "[CV] C=10, gamma=auto, kernel=linear .................................\n",
            "[CV] ..... C=10, gamma=auto, kernel=linear, score=0.941, total=   0.6s\n",
            "[CV] C=10, gamma=auto, kernel=linear .................................\n",
            "[CV] ..... C=10, gamma=auto, kernel=linear, score=0.936, total=   0.6s\n",
            "[CV] C=10, gamma=auto, kernel=linear .................................\n",
            "[CV] ..... C=10, gamma=auto, kernel=linear, score=0.935, total=   0.6s\n",
            "[CV] C=10, gamma=auto, kernel=rbf ....................................\n",
            "[CV] ........ C=10, gamma=auto, kernel=rbf, score=0.942, total=   1.2s\n",
            "[CV] C=10, gamma=auto, kernel=rbf ....................................\n",
            "[CV] ........ C=10, gamma=auto, kernel=rbf, score=0.956, total=   1.2s\n",
            "[CV] C=10, gamma=auto, kernel=rbf ....................................\n",
            "[CV] ........ C=10, gamma=auto, kernel=rbf, score=0.958, total=   1.2s\n",
            "[CV] C=10, gamma=auto, kernel=rbf ....................................\n",
            "[CV] ........ C=10, gamma=auto, kernel=rbf, score=0.937, total=   1.2s\n",
            "[CV] C=10, gamma=auto, kernel=rbf ....................................\n",
            "[CV] ........ C=10, gamma=auto, kernel=rbf, score=0.944, total=   1.2s\n"
          ],
          "name": "stdout"
        },
        {
          "output_type": "stream",
          "text": [
            "[Parallel(n_jobs=1)]: Done  40 out of  40 | elapsed:   43.2s finished\n"
          ],
          "name": "stderr"
        },
        {
          "output_type": "stream",
          "text": [
            "Best score: \n",
            "0.9594999999999999\n",
            "\n",
            "Best params: \n",
            "{'C': 10, 'gamma': 'scale', 'kernel': 'rbf'}\n",
            "\n",
            "Accuracy:\n",
            "92.0\n",
            "\n",
            "Confusion matrix:\n"
          ],
          "name": "stdout"
        },
        {
          "output_type": "display_data",
          "data": {
            "image/png": "[encoded data removed]",
            "text/plain": [
              "<Figure size 720x720 with 1 Axes>"
            ]
          },
          "metadata": {
            "tags": [],
            "needs_background": "light"
          }
        },
        {
          "output_type": "stream",
          "text": [
            "\n",
            "Classification report:\n",
            "              precision    recall  f1-score   support\n",
            "\n",
            "           0       0.88      0.97      0.93        39\n",
            "           1       0.97      1.00      0.99        37\n",
            "           2       0.82      0.91      0.86        35\n",
            "           3       0.94      0.94      0.94        34\n",
            "           4       0.98      0.87      0.92        46\n",
            "           5       0.95      0.88      0.91        41\n",
            "           6       0.90      0.93      0.91        40\n",
            "           7       0.94      0.91      0.93        55\n",
            "           8       0.90      0.95      0.92        38\n",
            "           9       0.91      0.86      0.88        35\n",
            "\n",
            "    accuracy                           0.92       400\n",
            "   macro avg       0.92      0.92      0.92       400\n",
            "weighted avg       0.92      0.92      0.92       400\n",
            "\n"
          ],
          "name": "stdout"
        }
      ]
    },
    {
      "cell_type": "markdown",
      "metadata": {
        "id": "VQalDPnG510k"
      },
      "source": [
        "**RFC**"
      ]
    },
    {
      "cell_type": "code",
      "metadata": {
        "colab": {
          "base_uri": "https://localhost:8080/"
        },
        "id": "CB0MMMKGr82u",
        "outputId": "107fcf39-c4d4-4371-eb28-654853aaf630"
      },
      "source": [
        "RFC_classifier(imData,train_labels)"
      ],
      "execution_count": null,
      "outputs": [
        {
          "output_type": "stream",
          "text": [
            "Fitting 5 folds for each of 18 candidates, totalling 90 fits\n",
            "[CV] criterion=entropy, max_depth=5, max_features=1 ..................\n"
          ],
          "name": "stdout"
        },
        {
          "output_type": "stream",
          "text": [
            "[Parallel(n_jobs=1)]: Using backend SequentialBackend with 1 concurrent workers.\n"
          ],
          "name": "stderr"
        },
        {
          "output_type": "stream",
          "text": [
            "[CV]  criterion=entropy, max_depth=5, max_features=1, score=0.870, total=   1.0s\n",
            "[CV] criterion=entropy, max_depth=5, max_features=1 ..................\n"
          ],
          "name": "stdout"
        },
        {
          "output_type": "stream",
          "text": [
            "[Parallel(n_jobs=1)]: Done   1 out of   1 | elapsed:    1.0s remaining:    0.0s\n"
          ],
          "name": "stderr"
        },
        {
          "output_type": "stream",
          "text": [
            "[CV]  criterion=entropy, max_depth=5, max_features=1, score=0.872, total=   1.0s\n",
            "[CV] criterion=entropy, max_depth=5, max_features=1 ..................\n"
          ],
          "name": "stdout"
        },
        {
          "output_type": "stream",
          "text": [
            "[Parallel(n_jobs=1)]: Done   2 out of   2 | elapsed:    2.1s remaining:    0.0s\n"
          ],
          "name": "stderr"
        },
        {
          "output_type": "stream",
          "text": [
            "[CV]  criterion=entropy, max_depth=5, max_features=1, score=0.853, total=   1.0s\n",
            "[CV] criterion=entropy, max_depth=5, max_features=1 ..................\n"
          ],
          "name": "stdout"
        },
        {
          "output_type": "stream",
          "text": [
            "[Parallel(n_jobs=1)]: Done   3 out of   3 | elapsed:    3.1s remaining:    0.0s\n"
          ],
          "name": "stderr"
        },
        {
          "output_type": "stream",
          "text": [
            "[CV]  criterion=entropy, max_depth=5, max_features=1, score=0.881, total=   1.0s\n",
            "[CV] criterion=entropy, max_depth=5, max_features=1 ..................\n",
            "[CV]  criterion=entropy, max_depth=5, max_features=1, score=0.858, total=   1.0s\n",
            "[CV] criterion=entropy, max_depth=5, max_features=15 .................\n",
            "[CV]  criterion=entropy, max_depth=5, max_features=15, score=0.886, total=  10.3s\n",
            "[CV] criterion=entropy, max_depth=5, max_features=15 .................\n",
            "[CV]  criterion=entropy, max_depth=5, max_features=15, score=0.897, total=  10.4s\n",
            "[CV] criterion=entropy, max_depth=5, max_features=15 .................\n",
            "[CV]  criterion=entropy, max_depth=5, max_features=15, score=0.896, total=  10.3s\n",
            "[CV] criterion=entropy, max_depth=5, max_features=15 .................\n",
            "[CV]  criterion=entropy, max_depth=5, max_features=15, score=0.875, total=  10.2s\n",
            "[CV] criterion=entropy, max_depth=5, max_features=15 .................\n",
            "[CV]  criterion=entropy, max_depth=5, max_features=15, score=0.868, total=  10.3s\n",
            "[CV] criterion=entropy, max_depth=5, max_features=30 .................\n",
            "[CV]  criterion=entropy, max_depth=5, max_features=30, score=0.871, total=  20.1s\n",
            "[CV] criterion=entropy, max_depth=5, max_features=30 .................\n",
            "[CV]  criterion=entropy, max_depth=5, max_features=30, score=0.880, total=  20.1s\n",
            "[CV] criterion=entropy, max_depth=5, max_features=30 .................\n",
            "[CV]  criterion=entropy, max_depth=5, max_features=30, score=0.877, total=  20.1s\n",
            "[CV] criterion=entropy, max_depth=5, max_features=30 .................\n",
            "[CV]  criterion=entropy, max_depth=5, max_features=30, score=0.861, total=  20.1s\n",
            "[CV] criterion=entropy, max_depth=5, max_features=30 .................\n",
            "[CV]  criterion=entropy, max_depth=5, max_features=30, score=0.838, total=  20.0s\n",
            "[CV] criterion=entropy, max_depth=10, max_features=1 .................\n",
            "[CV]  criterion=entropy, max_depth=10, max_features=1, score=0.909, total=   1.5s\n",
            "[CV] criterion=entropy, max_depth=10, max_features=1 .................\n",
            "[CV]  criterion=entropy, max_depth=10, max_features=1, score=0.917, total=   1.5s\n",
            "[CV] criterion=entropy, max_depth=10, max_features=1 .................\n",
            "[CV]  criterion=entropy, max_depth=10, max_features=1, score=0.925, total=   1.5s\n",
            "[CV] criterion=entropy, max_depth=10, max_features=1 .................\n",
            "[CV]  criterion=entropy, max_depth=10, max_features=1, score=0.917, total=   1.5s\n",
            "[CV] criterion=entropy, max_depth=10, max_features=1 .................\n",
            "[CV]  criterion=entropy, max_depth=10, max_features=1, score=0.908, total=   1.5s\n",
            "[CV] criterion=entropy, max_depth=10, max_features=15 ................\n",
            "[CV]  criterion=entropy, max_depth=10, max_features=15, score=0.932, total=  14.4s\n",
            "[CV] criterion=entropy, max_depth=10, max_features=15 ................\n",
            "[CV]  criterion=entropy, max_depth=10, max_features=15, score=0.953, total=  14.7s\n",
            "[CV] criterion=entropy, max_depth=10, max_features=15 ................\n",
            "[CV]  criterion=entropy, max_depth=10, max_features=15, score=0.937, total=  14.5s\n",
            "[CV] criterion=entropy, max_depth=10, max_features=15 ................\n",
            "[CV]  criterion=entropy, max_depth=10, max_features=15, score=0.927, total=  14.4s\n",
            "[CV] criterion=entropy, max_depth=10, max_features=15 ................\n",
            "[CV]  criterion=entropy, max_depth=10, max_features=15, score=0.931, total=  14.4s\n",
            "[CV] criterion=entropy, max_depth=10, max_features=30 ................\n",
            "[CV]  criterion=entropy, max_depth=10, max_features=30, score=0.932, total=  27.9s\n",
            "[CV] criterion=entropy, max_depth=10, max_features=30 ................\n",
            "[CV]  criterion=entropy, max_depth=10, max_features=30, score=0.952, total=  28.1s\n",
            "[CV] criterion=entropy, max_depth=10, max_features=30 ................\n",
            "[CV]  criterion=entropy, max_depth=10, max_features=30, score=0.938, total=  27.9s\n",
            "[CV] criterion=entropy, max_depth=10, max_features=30 ................\n",
            "[CV]  criterion=entropy, max_depth=10, max_features=30, score=0.922, total=  27.7s\n",
            "[CV] criterion=entropy, max_depth=10, max_features=30 ................\n",
            "[CV]  criterion=entropy, max_depth=10, max_features=30, score=0.925, total=  27.7s\n",
            "[CV] criterion=entropy, max_depth=25, max_features=1 .................\n",
            "[CV]  criterion=entropy, max_depth=25, max_features=1, score=0.921, total=   1.7s\n",
            "[CV] criterion=entropy, max_depth=25, max_features=1 .................\n",
            "[CV]  criterion=entropy, max_depth=25, max_features=1, score=0.938, total=   1.7s\n",
            "[CV] criterion=entropy, max_depth=25, max_features=1 .................\n",
            "[CV]  criterion=entropy, max_depth=25, max_features=1, score=0.938, total=   1.7s\n",
            "[CV] criterion=entropy, max_depth=25, max_features=1 .................\n",
            "[CV]  criterion=entropy, max_depth=25, max_features=1, score=0.922, total=   1.7s\n",
            "[CV] criterion=entropy, max_depth=25, max_features=1 .................\n",
            "[CV]  criterion=entropy, max_depth=25, max_features=1, score=0.921, total=   1.7s\n",
            "[CV] criterion=entropy, max_depth=25, max_features=15 ................\n",
            "[CV]  criterion=entropy, max_depth=25, max_features=15, score=0.941, total=  14.8s\n",
            "[CV] criterion=entropy, max_depth=25, max_features=15 ................\n",
            "[CV]  criterion=entropy, max_depth=25, max_features=15, score=0.950, total=  14.9s\n",
            "[CV] criterion=entropy, max_depth=25, max_features=15 ................\n",
            "[CV]  criterion=entropy, max_depth=25, max_features=15, score=0.942, total=  14.7s\n",
            "[CV] criterion=entropy, max_depth=25, max_features=15 ................\n",
            "[CV]  criterion=entropy, max_depth=25, max_features=15, score=0.933, total=  14.8s\n",
            "[CV] criterion=entropy, max_depth=25, max_features=15 ................\n",
            "[CV]  criterion=entropy, max_depth=25, max_features=15, score=0.934, total=  14.8s\n",
            "[CV] criterion=entropy, max_depth=25, max_features=30 ................\n",
            "[CV]  criterion=entropy, max_depth=25, max_features=30, score=0.932, total=  28.5s\n",
            "[CV] criterion=entropy, max_depth=25, max_features=30 ................\n",
            "[CV]  criterion=entropy, max_depth=25, max_features=30, score=0.951, total=  28.8s\n",
            "[CV] criterion=entropy, max_depth=25, max_features=30 ................\n",
            "[CV]  criterion=entropy, max_depth=25, max_features=30, score=0.944, total=  28.4s\n",
            "[CV] criterion=entropy, max_depth=25, max_features=30 ................\n",
            "[CV]  criterion=entropy, max_depth=25, max_features=30, score=0.927, total=  28.5s\n",
            "[CV] criterion=entropy, max_depth=25, max_features=30 ................\n",
            "[CV]  criterion=entropy, max_depth=25, max_features=30, score=0.931, total=  28.4s\n",
            "[CV] criterion=gini, max_depth=5, max_features=1 .....................\n",
            "[CV]  criterion=gini, max_depth=5, max_features=1, score=0.854, total=   0.4s\n",
            "[CV] criterion=gini, max_depth=5, max_features=1 .....................\n",
            "[CV]  criterion=gini, max_depth=5, max_features=1, score=0.872, total=   0.4s\n",
            "[CV] criterion=gini, max_depth=5, max_features=1 .....................\n",
            "[CV]  criterion=gini, max_depth=5, max_features=1, score=0.856, total=   0.4s\n",
            "[CV] criterion=gini, max_depth=5, max_features=1 .....................\n",
            "[CV]  criterion=gini, max_depth=5, max_features=1, score=0.863, total=   0.4s\n",
            "[CV] criterion=gini, max_depth=5, max_features=1 .....................\n",
            "[CV]  criterion=gini, max_depth=5, max_features=1, score=0.861, total=   0.4s\n",
            "[CV] criterion=gini, max_depth=5, max_features=15 ....................\n",
            "[CV]  criterion=gini, max_depth=5, max_features=15, score=0.873, total=   2.7s\n",
            "[CV] criterion=gini, max_depth=5, max_features=15 ....................\n",
            "[CV]  criterion=gini, max_depth=5, max_features=15, score=0.898, total=   2.7s\n",
            "[CV] criterion=gini, max_depth=5, max_features=15 ....................\n",
            "[CV]  criterion=gini, max_depth=5, max_features=15, score=0.882, total=   2.7s\n",
            "[CV] criterion=gini, max_depth=5, max_features=15 ....................\n",
            "[CV]  criterion=gini, max_depth=5, max_features=15, score=0.876, total=   2.7s\n",
            "[CV] criterion=gini, max_depth=5, max_features=15 ....................\n",
            "[CV]  criterion=gini, max_depth=5, max_features=15, score=0.859, total=   2.7s\n",
            "[CV] criterion=gini, max_depth=5, max_features=30 ....................\n",
            "[CV]  criterion=gini, max_depth=5, max_features=30, score=0.828, total=   5.1s\n",
            "[CV] criterion=gini, max_depth=5, max_features=30 ....................\n",
            "[CV]  criterion=gini, max_depth=5, max_features=30, score=0.872, total=   5.0s\n",
            "[CV] criterion=gini, max_depth=5, max_features=30 ....................\n",
            "[CV]  criterion=gini, max_depth=5, max_features=30, score=0.853, total=   5.0s\n",
            "[CV] criterion=gini, max_depth=5, max_features=30 ....................\n",
            "[CV]  criterion=gini, max_depth=5, max_features=30, score=0.848, total=   5.0s\n",
            "[CV] criterion=gini, max_depth=5, max_features=30 ....................\n",
            "[CV]  criterion=gini, max_depth=5, max_features=30, score=0.828, total=   5.0s\n",
            "[CV] criterion=gini, max_depth=10, max_features=1 ....................\n",
            "[CV]  criterion=gini, max_depth=10, max_features=1, score=0.913, total=   0.6s\n",
            "[CV] criterion=gini, max_depth=10, max_features=1 ....................\n",
            "[CV]  criterion=gini, max_depth=10, max_features=1, score=0.922, total=   0.6s\n",
            "[CV] criterion=gini, max_depth=10, max_features=1 ....................\n",
            "[CV]  criterion=gini, max_depth=10, max_features=1, score=0.922, total=   0.6s\n",
            "[CV] criterion=gini, max_depth=10, max_features=1 ....................\n",
            "[CV]  criterion=gini, max_depth=10, max_features=1, score=0.908, total=   0.6s\n",
            "[CV] criterion=gini, max_depth=10, max_features=1 ....................\n",
            "[CV]  criterion=gini, max_depth=10, max_features=1, score=0.905, total=   0.6s\n",
            "[CV] criterion=gini, max_depth=10, max_features=15 ...................\n",
            "[CV]  criterion=gini, max_depth=10, max_features=15, score=0.929, total=   4.4s\n",
            "[CV] criterion=gini, max_depth=10, max_features=15 ...................\n",
            "[CV]  criterion=gini, max_depth=10, max_features=15, score=0.948, total=   4.4s\n",
            "[CV] criterion=gini, max_depth=10, max_features=15 ...................\n",
            "[CV]  criterion=gini, max_depth=10, max_features=15, score=0.934, total=   4.4s\n",
            "[CV] criterion=gini, max_depth=10, max_features=15 ...................\n",
            "[CV]  criterion=gini, max_depth=10, max_features=15, score=0.923, total=   4.4s\n",
            "[CV] criterion=gini, max_depth=10, max_features=15 ...................\n",
            "[CV]  criterion=gini, max_depth=10, max_features=15, score=0.926, total=   4.4s\n",
            "[CV] criterion=gini, max_depth=10, max_features=30 ...................\n",
            "[CV]  criterion=gini, max_depth=10, max_features=30, score=0.926, total=   8.3s\n",
            "[CV] criterion=gini, max_depth=10, max_features=30 ...................\n",
            "[CV]  criterion=gini, max_depth=10, max_features=30, score=0.945, total=   8.3s\n",
            "[CV] criterion=gini, max_depth=10, max_features=30 ...................\n",
            "[CV]  criterion=gini, max_depth=10, max_features=30, score=0.928, total=   8.3s\n",
            "[CV] criterion=gini, max_depth=10, max_features=30 ...................\n",
            "[CV]  criterion=gini, max_depth=10, max_features=30, score=0.918, total=   8.2s\n",
            "[CV] criterion=gini, max_depth=10, max_features=30 ...................\n",
            "[CV]  criterion=gini, max_depth=10, max_features=30, score=0.916, total=   8.3s\n",
            "[CV] criterion=gini, max_depth=25, max_features=1 ....................\n",
            "[CV]  criterion=gini, max_depth=25, max_features=1, score=0.928, total=   0.7s\n",
            "[CV] criterion=gini, max_depth=25, max_features=1 ....................\n",
            "[CV]  criterion=gini, max_depth=25, max_features=1, score=0.936, total=   0.7s\n",
            "[CV] criterion=gini, max_depth=25, max_features=1 ....................\n",
            "[CV]  criterion=gini, max_depth=25, max_features=1, score=0.932, total=   0.7s\n",
            "[CV] criterion=gini, max_depth=25, max_features=1 ....................\n",
            "[CV]  criterion=gini, max_depth=25, max_features=1, score=0.925, total=   0.7s\n",
            "[CV] criterion=gini, max_depth=25, max_features=1 ....................\n",
            "[CV]  criterion=gini, max_depth=25, max_features=1, score=0.916, total=   0.7s\n",
            "[CV] criterion=gini, max_depth=25, max_features=15 ...................\n",
            "[CV]  criterion=gini, max_depth=25, max_features=15, score=0.946, total=   5.1s\n",
            "[CV] criterion=gini, max_depth=25, max_features=15 ...................\n",
            "[CV]  criterion=gini, max_depth=25, max_features=15, score=0.957, total=   5.1s\n",
            "[CV] criterion=gini, max_depth=25, max_features=15 ...................\n",
            "[CV]  criterion=gini, max_depth=25, max_features=15, score=0.947, total=   5.1s\n",
            "[CV] criterion=gini, max_depth=25, max_features=15 ...................\n",
            "[CV]  criterion=gini, max_depth=25, max_features=15, score=0.932, total=   5.1s\n",
            "[CV] criterion=gini, max_depth=25, max_features=15 ...................\n",
            "[CV]  criterion=gini, max_depth=25, max_features=15, score=0.933, total=   5.1s\n",
            "[CV] criterion=gini, max_depth=25, max_features=30 ...................\n",
            "[CV]  criterion=gini, max_depth=25, max_features=30, score=0.928, total=   9.7s\n",
            "[CV] criterion=gini, max_depth=25, max_features=30 ...................\n",
            "[CV]  criterion=gini, max_depth=25, max_features=30, score=0.951, total=   9.8s\n",
            "[CV] criterion=gini, max_depth=25, max_features=30 ...................\n",
            "[CV]  criterion=gini, max_depth=25, max_features=30, score=0.931, total=   9.7s\n",
            "[CV] criterion=gini, max_depth=25, max_features=30 ...................\n",
            "[CV]  criterion=gini, max_depth=25, max_features=30, score=0.928, total=   9.6s\n",
            "[CV] criterion=gini, max_depth=25, max_features=30 ...................\n",
            "[CV]  criterion=gini, max_depth=25, max_features=30, score=0.931, total=   9.6s\n"
          ],
          "name": "stdout"
        },
        {
          "output_type": "stream",
          "text": [
            "[Parallel(n_jobs=1)]: Done  90 out of  90 | elapsed: 13.1min finished\n"
          ],
          "name": "stderr"
        },
        {
          "output_type": "stream",
          "text": [
            "Best score: \n",
            "0.9428333333333333\n",
            "\n",
            "Best params: \n",
            "{'criterion': 'gini', 'max_depth': 25, 'max_features': 15}\n",
            "\n",
            "Accuracy:\n",
            "87.0\n",
            "\n",
            "Confusion matrix:\n"
          ],
          "name": "stdout"
        },
        {
          "output_type": "display_data",
          "data": {
            "image/png": "[encoded data removed]",
            "text/plain": [
              "<Figure size 720x720 with 1 Axes>"
            ]
          },
          "metadata": {
            "tags": [],
            "needs_background": "light"
          }
        },
        {
          "output_type": "stream",
          "text": [
            "\n",
            "Classification report:\n",
            "              precision    recall  f1-score   support\n",
            "\n",
            "           0       0.86      0.79      0.83        39\n",
            "           1       0.88      1.00      0.94        37\n",
            "           2       0.83      0.97      0.89        35\n",
            "           3       0.91      0.91      0.91        34\n",
            "           4       0.88      0.91      0.89        46\n",
            "           5       0.76      0.83      0.79        41\n",
            "           6       0.82      0.82      0.82        40\n",
            "           7       0.96      0.87      0.91        55\n",
            "           8       0.93      0.74      0.82        38\n",
            "           9       0.88      0.86      0.87        35\n",
            "\n",
            "    accuracy                           0.87       400\n",
            "   macro avg       0.87      0.87      0.87       400\n",
            "weighted avg       0.87      0.87      0.87       400\n",
            "\n"
          ],
          "name": "stdout"
        }
      ]
    },
    {
      "cell_type": "markdown",
      "metadata": {
        "id": "E06MLZEm54gF"
      },
      "source": [
        "**Sieć**"
      ]
    },
    {
      "cell_type": "code",
      "metadata": {
        "colab": {
          "base_uri": "https://localhost:8080/"
        },
        "id": "n2hhgDKZDu6q",
        "outputId": "4764ad3e-b781-4955-94ab-2888fcfad9c7"
      },
      "source": [
        "network = create_model\n",
        "NN_best_params(imData2, encoded_train_labels, KerasClassifier(network))"
      ],
      "execution_count": 91,
      "outputs": [
        {
          "output_type": "stream",
          "text": [
            "Epoch 1/10\n",
            "59/59 [==============================] - 1s 2ms/step - loss: 1.4653 - accuracy: 0.6662\n",
            "Epoch 2/10\n",
            "59/59 [==============================] - 0s 2ms/step - loss: 0.4373 - accuracy: 0.9052\n",
            "Epoch 3/10\n",
            "59/59 [==============================] - 0s 2ms/step - loss: 0.2643 - accuracy: 0.9290\n",
            "Epoch 4/10\n",
            "59/59 [==============================] - 0s 2ms/step - loss: 0.1972 - accuracy: 0.9455\n",
            "Epoch 5/10\n",
            "59/59 [==============================] - 0s 3ms/step - loss: 0.1695 - accuracy: 0.9552\n",
            "Epoch 6/10\n",
            "59/59 [==============================] - 0s 2ms/step - loss: 0.1571 - accuracy: 0.9536\n",
            "Epoch 7/10\n",
            "59/59 [==============================] - 0s 2ms/step - loss: 0.1357 - accuracy: 0.9579\n",
            "Epoch 8/10\n",
            "59/59 [==============================] - 0s 2ms/step - loss: 0.1270 - accuracy: 0.9615\n",
            "Epoch 9/10\n",
            "59/59 [==============================] - 0s 2ms/step - loss: 0.1236 - accuracy: 0.9650\n",
            "Epoch 10/10\n",
            "59/59 [==============================] - 0s 2ms/step - loss: 0.1137 - accuracy: 0.9663\n",
            "Best score: 0.8991\n",
            "\n",
            "Best params: \n",
            "{'epochs': 10}\n"
          ],
          "name": "stdout"
        }
      ]
    },
    {
      "cell_type": "code",
      "metadata": {
        "colab": {
          "base_uri": "https://localhost:8080/",
          "height": 1000
        },
        "id": "_8QSQYlJBd1l",
        "outputId": "f1f33eca-1125-4043-a163-2746ae66e46d"
      },
      "source": [
        "network = models.Sequential()\n",
        "network.add(layers.Dense(512, activation='relu', input_shape=(81,)))\n",
        "network.add(layers.Dense(10, activation='softmax'))\n",
        "\n",
        "network.compile(optimizer='rmsprop',\n",
        "                loss='categorical_crossentropy',\n",
        "                metrics=['accuracy'])\n",
        "\n",
        "encoded_train_labels = to_categorical(train_labels)\n",
        "\n",
        "network.fit(imData2[:7500], encoded_train_labels[:7500], epochs=10, batch_size=100)\n",
        "\n",
        "test_loss, test_acc = network.evaluate(imData[7500:10000], encoded_train_labels[7500:10000])\n",
        "print('\\nAccuracy:', test_acc)\n",
        "pred_probabilities = network.predict(imData[7500:10000])\n",
        "# print(pred_probabilities[0:1])\n",
        "pred_labels = np.argmax(pred_probabilities,-1)\n",
        "\n",
        "cm = confusion_matrix(train_labels[7500:10000], pred_labels)\n",
        "print(\"\\nConfusion matrix:\")\n",
        "fig = plt.figure(figsize = (10,10))\n",
        "sns.heatmap(cm, annot = True, square = True, fmt = 'd', cbar = False)\n",
        "plt.show()\n",
        "\n",
        "print(\"\\nClassification report:\")\n",
        "print(classification_report(train_labels[7500:10000], pred_labels))"
      ],
      "execution_count": 92,
      "outputs": [
        {
          "output_type": "stream",
          "text": [
            "Epoch 1/10\n",
            "75/75 [==============================] - 0s 2ms/step - loss: 1.4135 - accuracy: 0.7172\n",
            "Epoch 2/10\n",
            "75/75 [==============================] - 0s 2ms/step - loss: 0.3720 - accuracy: 0.9164\n",
            "Epoch 3/10\n",
            "75/75 [==============================] - 0s 2ms/step - loss: 0.2333 - accuracy: 0.9358\n",
            "Epoch 4/10\n",
            "75/75 [==============================] - 0s 2ms/step - loss: 0.1776 - accuracy: 0.9488\n",
            "Epoch 5/10\n",
            "75/75 [==============================] - 0s 2ms/step - loss: 0.1654 - accuracy: 0.9512\n",
            "Epoch 6/10\n",
            "75/75 [==============================] - 0s 2ms/step - loss: 0.1388 - accuracy: 0.9602\n",
            "Epoch 7/10\n",
            "75/75 [==============================] - 0s 2ms/step - loss: 0.1267 - accuracy: 0.9612\n",
            "Epoch 8/10\n",
            "75/75 [==============================] - 0s 2ms/step - loss: 0.1215 - accuracy: 0.9637\n",
            "Epoch 9/10\n",
            "75/75 [==============================] - 0s 2ms/step - loss: 0.1171 - accuracy: 0.9626\n",
            "Epoch 10/10\n",
            "75/75 [==============================] - 0s 2ms/step - loss: 0.1052 - accuracy: 0.9656\n",
            "79/79 [==============================] - 0s 2ms/step - loss: 0.4458 - accuracy: 0.8620\n",
            "\n",
            "Accuracy: 0.8619999885559082\n",
            "\n",
            "Confusion matrix:\n"
          ],
          "name": "stdout"
        },
        {
          "output_type": "display_data",
          "data": {
            "image/png": "[encoded data removed]",
            "text/plain": [
              "<Figure size 720x720 with 1 Axes>"
            ]
          },
          "metadata": {
            "tags": [],
            "needs_background": "light"
          }
        },
        {
          "output_type": "stream",
          "text": [
            "\n",
            "Classification report:\n",
            "              precision    recall  f1-score   support\n",
            "\n",
            "           0       0.96      0.70      0.81       256\n",
            "           1       0.97      0.83      0.90       285\n",
            "           2       0.69      0.91      0.79       264\n",
            "           3       0.84      0.94      0.89       270\n",
            "           4       0.94      0.93      0.94       222\n",
            "           5       0.89      0.83      0.86       200\n",
            "           6       0.88      0.94      0.91       263\n",
            "           7       0.95      0.86      0.90       265\n",
            "           8       0.87      0.74      0.80       243\n",
            "           9       0.76      0.94      0.84       232\n",
            "\n",
            "    accuracy                           0.86      2500\n",
            "   macro avg       0.88      0.86      0.86      2500\n",
            "weighted avg       0.88      0.86      0.86      2500\n",
            "\n"
          ],
          "name": "stdout"
        }
      ]
    },
    {
      "cell_type": "markdown",
      "metadata": {
        "id": "vPv8tQWY4hck"
      },
      "source": [
        "### Klasyfikatory z wyrównaniem "
      ]
    },
    {
      "cell_type": "code",
      "metadata": {
        "colab": {
          "base_uri": "https://localhost:8080/",
          "height": 406
        },
        "id": "yc3sRasn6Tmc",
        "outputId": "dee5dd26-d01d-4b08-c561-065eb9dbe633"
      },
      "source": [
        "from keras.datasets import mnist\n",
        "\n",
        "(train_images, train_labels), (test_images, test_labels) = mnist.load_data()\n",
        "\n",
        "train_deskewed = [deskew(im) for im in im_list[0:train_images.shape[0]]]\n",
        "test_deskewed = [deskew(im) for im in im_list[train_images.shape[0]:]]\n",
        "\n",
        "train_deskewed = np.asarray(train_deskewed)\n",
        "test_deskewed = np.asarray(test_deskewed)\n",
        "\n",
        "im_list2 = [train_deskewed[i] for i in range(0,train_deskewed.shape[0])] + [test_deskewed[i] for i in range(0,test_deskewed.shape[0])]\n",
        "print(len(im_list))\n",
        "\n",
        "# Po wyrównaniu: \n",
        "showOpencvImage(train_deskewed[1])\n",
        "print(train_labels[1])"
      ],
      "execution_count": 93,
      "outputs": [
        {
          "output_type": "stream",
          "text": [
            "70000\n"
          ],
          "name": "stdout"
        },
        {
          "output_type": "display_data",
          "data": {
            "image/png": "[encoded data removed]",
            "text/plain": [
              "<Figure size 432x432 with 1 Axes>"
            ]
          },
          "metadata": {
            "tags": [],
            "needs_background": "light"
          }
        },
        {
          "output_type": "stream",
          "text": [
            "0\n"
          ],
          "name": "stdout"
        }
      ]
    },
    {
      "cell_type": "code",
      "metadata": {
        "colab": {
          "base_uri": "https://localhost:8080/"
        },
        "id": "MbXSvxuP4K8Q",
        "outputId": "b374fa04-4b4d-4436-9bc1-be82f68271a4"
      },
      "source": [
        "hogdata2 = [openCVHOG(im) for im in im_list2]\n",
        "imData2 = np.float32(hogdata2).reshape(-1,81)\n",
        "print(imData2.shape)"
      ],
      "execution_count": 94,
      "outputs": [
        {
          "output_type": "stream",
          "text": [
            "(70000, 81)\n"
          ],
          "name": "stdout"
        }
      ]
    },
    {
      "cell_type": "markdown",
      "metadata": {
        "id": "HkziXUhZ_G8i"
      },
      "source": [
        " **SVM**"
      ]
    },
    {
      "cell_type": "code",
      "metadata": {
        "colab": {
          "base_uri": "https://localhost:8080/"
        },
        "id": "AgOeNE6QJ8dw",
        "outputId": "79231ef5-5c7b-49c6-afb8-2b150e6d90e4"
      },
      "source": [
        "SVM_classifier(imData2,train_labels)"
      ],
      "execution_count": null,
      "outputs": [
        {
          "output_type": "stream",
          "text": [
            "Fitting 5 folds for each of 8 candidates, totalling 40 fits\n",
            "[CV] C=1, gamma=scale, kernel=linear .................................\n"
          ],
          "name": "stdout"
        },
        {
          "output_type": "stream",
          "text": [
            "[Parallel(n_jobs=1)]: Using backend SequentialBackend with 1 concurrent workers.\n"
          ],
          "name": "stderr"
        },
        {
          "output_type": "stream",
          "text": [
            "[CV] ..... C=1, gamma=scale, kernel=linear, score=0.967, total=   0.5s\n",
            "[CV] C=1, gamma=scale, kernel=linear .................................\n"
          ],
          "name": "stdout"
        },
        {
          "output_type": "stream",
          "text": [
            "[Parallel(n_jobs=1)]: Done   1 out of   1 | elapsed:    0.5s remaining:    0.0s\n"
          ],
          "name": "stderr"
        },
        {
          "output_type": "stream",
          "text": [
            "[CV] ..... C=1, gamma=scale, kernel=linear, score=0.968, total=   0.5s\n",
            "[CV] C=1, gamma=scale, kernel=linear .................................\n"
          ],
          "name": "stdout"
        },
        {
          "output_type": "stream",
          "text": [
            "[Parallel(n_jobs=1)]: Done   2 out of   2 | elapsed:    1.0s remaining:    0.0s\n"
          ],
          "name": "stderr"
        },
        {
          "output_type": "stream",
          "text": [
            "[CV] ..... C=1, gamma=scale, kernel=linear, score=0.969, total=   0.5s\n",
            "[CV] C=1, gamma=scale, kernel=linear .................................\n",
            "[CV] ..... C=1, gamma=scale, kernel=linear, score=0.956, total=   0.5s\n",
            "[CV] C=1, gamma=scale, kernel=linear .................................\n",
            "[CV] ..... C=1, gamma=scale, kernel=linear, score=0.964, total=   0.5s\n",
            "[CV] C=1, gamma=scale, kernel=rbf ....................................\n",
            "[CV] ........ C=1, gamma=scale, kernel=rbf, score=0.967, total=   1.0s\n",
            "[CV] C=1, gamma=scale, kernel=rbf ....................................\n",
            "[CV] ........ C=1, gamma=scale, kernel=rbf, score=0.973, total=   1.0s\n",
            "[CV] C=1, gamma=scale, kernel=rbf ....................................\n",
            "[CV] ........ C=1, gamma=scale, kernel=rbf, score=0.969, total=   1.0s\n",
            "[CV] C=1, gamma=scale, kernel=rbf ....................................\n",
            "[CV] ........ C=1, gamma=scale, kernel=rbf, score=0.959, total=   1.0s\n",
            "[CV] C=1, gamma=scale, kernel=rbf ....................................\n",
            "[CV] ........ C=1, gamma=scale, kernel=rbf, score=0.967, total=   1.0s\n",
            "[CV] C=1, gamma=auto, kernel=linear ..................................\n",
            "[CV] ...... C=1, gamma=auto, kernel=linear, score=0.967, total=   0.5s\n",
            "[CV] C=1, gamma=auto, kernel=linear ..................................\n",
            "[CV] ...... C=1, gamma=auto, kernel=linear, score=0.968, total=   0.5s\n",
            "[CV] C=1, gamma=auto, kernel=linear ..................................\n",
            "[CV] ...... C=1, gamma=auto, kernel=linear, score=0.969, total=   0.5s\n",
            "[CV] C=1, gamma=auto, kernel=linear ..................................\n",
            "[CV] ...... C=1, gamma=auto, kernel=linear, score=0.956, total=   0.5s\n",
            "[CV] C=1, gamma=auto, kernel=linear ..................................\n",
            "[CV] ...... C=1, gamma=auto, kernel=linear, score=0.964, total=   0.5s\n",
            "[CV] C=1, gamma=auto, kernel=rbf .....................................\n",
            "[CV] ......... C=1, gamma=auto, kernel=rbf, score=0.946, total=   2.3s\n",
            "[CV] C=1, gamma=auto, kernel=rbf .....................................\n",
            "[CV] ......... C=1, gamma=auto, kernel=rbf, score=0.944, total=   2.3s\n",
            "[CV] C=1, gamma=auto, kernel=rbf .....................................\n",
            "[CV] ......... C=1, gamma=auto, kernel=rbf, score=0.951, total=   2.3s\n",
            "[CV] C=1, gamma=auto, kernel=rbf .....................................\n",
            "[CV] ......... C=1, gamma=auto, kernel=rbf, score=0.923, total=   2.3s\n",
            "[CV] C=1, gamma=auto, kernel=rbf .....................................\n",
            "[CV] ......... C=1, gamma=auto, kernel=rbf, score=0.933, total=   2.2s\n",
            "[CV] C=10, gamma=scale, kernel=linear ................................\n",
            "[CV] .... C=10, gamma=scale, kernel=linear, score=0.952, total=   0.5s\n",
            "[CV] C=10, gamma=scale, kernel=linear ................................\n",
            "[CV] .... C=10, gamma=scale, kernel=linear, score=0.966, total=   0.5s\n",
            "[CV] C=10, gamma=scale, kernel=linear ................................\n",
            "[CV] .... C=10, gamma=scale, kernel=linear, score=0.962, total=   0.5s\n",
            "[CV] C=10, gamma=scale, kernel=linear ................................\n",
            "[CV] .... C=10, gamma=scale, kernel=linear, score=0.952, total=   0.5s\n",
            "[CV] C=10, gamma=scale, kernel=linear ................................\n",
            "[CV] .... C=10, gamma=scale, kernel=linear, score=0.956, total=   0.5s\n",
            "[CV] C=10, gamma=scale, kernel=rbf ...................................\n",
            "[CV] ....... C=10, gamma=scale, kernel=rbf, score=0.969, total=   0.9s\n",
            "[CV] C=10, gamma=scale, kernel=rbf ...................................\n",
            "[CV] ....... C=10, gamma=scale, kernel=rbf, score=0.978, total=   0.9s\n",
            "[CV] C=10, gamma=scale, kernel=rbf ...................................\n",
            "[CV] ....... C=10, gamma=scale, kernel=rbf, score=0.970, total=   0.8s\n",
            "[CV] C=10, gamma=scale, kernel=rbf ...................................\n",
            "[CV] ....... C=10, gamma=scale, kernel=rbf, score=0.968, total=   0.8s\n",
            "[CV] C=10, gamma=scale, kernel=rbf ...................................\n",
            "[CV] ....... C=10, gamma=scale, kernel=rbf, score=0.968, total=   0.8s\n",
            "[CV] C=10, gamma=auto, kernel=linear .................................\n",
            "[CV] ..... C=10, gamma=auto, kernel=linear, score=0.952, total=   0.5s\n",
            "[CV] C=10, gamma=auto, kernel=linear .................................\n",
            "[CV] ..... C=10, gamma=auto, kernel=linear, score=0.966, total=   0.5s\n",
            "[CV] C=10, gamma=auto, kernel=linear .................................\n",
            "[CV] ..... C=10, gamma=auto, kernel=linear, score=0.962, total=   0.5s\n",
            "[CV] C=10, gamma=auto, kernel=linear .................................\n",
            "[CV] ..... C=10, gamma=auto, kernel=linear, score=0.952, total=   0.5s\n",
            "[CV] C=10, gamma=auto, kernel=linear .................................\n",
            "[CV] ..... C=10, gamma=auto, kernel=linear, score=0.956, total=   0.5s\n",
            "[CV] C=10, gamma=auto, kernel=rbf ....................................\n",
            "[CV] ........ C=10, gamma=auto, kernel=rbf, score=0.960, total=   0.9s\n",
            "[CV] C=10, gamma=auto, kernel=rbf ....................................\n",
            "[CV] ........ C=10, gamma=auto, kernel=rbf, score=0.965, total=   1.0s\n",
            "[CV] C=10, gamma=auto, kernel=rbf ....................................\n",
            "[CV] ........ C=10, gamma=auto, kernel=rbf, score=0.964, total=   1.0s\n",
            "[CV] C=10, gamma=auto, kernel=rbf ....................................\n",
            "[CV] ........ C=10, gamma=auto, kernel=rbf, score=0.953, total=   0.9s\n",
            "[CV] C=10, gamma=auto, kernel=rbf ....................................\n",
            "[CV] ........ C=10, gamma=auto, kernel=rbf, score=0.962, total=   0.9s\n"
          ],
          "name": "stdout"
        },
        {
          "output_type": "stream",
          "text": [
            "[Parallel(n_jobs=1)]: Done  40 out of  40 | elapsed:   35.1s finished\n"
          ],
          "name": "stderr"
        },
        {
          "output_type": "stream",
          "text": [
            "\n",
            "Best score: \n",
            "0.9706666666666667\n",
            "\n",
            "Best params: \n",
            "{'C': 10, 'gamma': 'scale', 'kernel': 'rbf'}\n",
            "\n",
            "Accuracy:\n",
            "93.75\n",
            "\n",
            "Confusion matrix:\n"
          ],
          "name": "stdout"
        },
        {
          "output_type": "display_data",
          "data": {
            "image/png": "[encoded data removed]",
            "text/plain": [
              "<Figure size 720x720 with 1 Axes>"
            ]
          },
          "metadata": {
            "tags": [],
            "needs_background": "light"
          }
        },
        {
          "output_type": "stream",
          "text": [
            "\n",
            "Classification report:\n",
            "              precision    recall  f1-score   support\n",
            "\n",
            "           0       0.89      1.00      0.94        39\n",
            "           1       0.97      1.00      0.99        37\n",
            "           2       0.94      0.97      0.96        35\n",
            "           3       0.89      1.00      0.94        34\n",
            "           4       0.95      0.91      0.93        46\n",
            "           5       0.95      0.93      0.94        41\n",
            "           6       0.93      0.93      0.93        40\n",
            "           7       0.94      0.91      0.93        55\n",
            "           8       1.00      0.92      0.96        38\n",
            "           9       0.91      0.83      0.87        35\n",
            "\n",
            "    accuracy                           0.94       400\n",
            "   macro avg       0.94      0.94      0.94       400\n",
            "weighted avg       0.94      0.94      0.94       400\n",
            "\n"
          ],
          "name": "stdout"
        }
      ]
    },
    {
      "cell_type": "markdown",
      "metadata": {
        "id": "d9N6CEYgACIm"
      },
      "source": [
        "**RFC**"
      ]
    },
    {
      "cell_type": "code",
      "metadata": {
        "colab": {
          "base_uri": "https://localhost:8080/"
        },
        "id": "bymuhq_04fwH",
        "outputId": "5e7f73db-7135-4b34-d03c-a49a0f2ea733"
      },
      "source": [
        "RFC_classifier(imData2,train_labels)"
      ],
      "execution_count": null,
      "outputs": [
        {
          "output_type": "stream",
          "text": [
            "Fitting 5 folds for each of 18 candidates, totalling 90 fits\n",
            "[CV] criterion=entropy, max_depth=5, max_features=1 ..................\n"
          ],
          "name": "stdout"
        },
        {
          "output_type": "stream",
          "text": [
            "[Parallel(n_jobs=1)]: Using backend SequentialBackend with 1 concurrent workers.\n"
          ],
          "name": "stderr"
        },
        {
          "output_type": "stream",
          "text": [
            "[CV]  criterion=entropy, max_depth=5, max_features=1, score=0.908, total=   1.1s\n",
            "[CV] criterion=entropy, max_depth=5, max_features=1 ..................\n"
          ],
          "name": "stdout"
        },
        {
          "output_type": "stream",
          "text": [
            "[Parallel(n_jobs=1)]: Done   1 out of   1 | elapsed:    1.1s remaining:    0.0s\n"
          ],
          "name": "stderr"
        },
        {
          "output_type": "stream",
          "text": [
            "[CV]  criterion=entropy, max_depth=5, max_features=1, score=0.920, total=   1.1s\n",
            "[CV] criterion=entropy, max_depth=5, max_features=1 ..................\n"
          ],
          "name": "stdout"
        },
        {
          "output_type": "stream",
          "text": [
            "[Parallel(n_jobs=1)]: Done   2 out of   2 | elapsed:    2.1s remaining:    0.0s\n"
          ],
          "name": "stderr"
        },
        {
          "output_type": "stream",
          "text": [
            "[CV]  criterion=entropy, max_depth=5, max_features=1, score=0.917, total=   1.1s\n",
            "[CV] criterion=entropy, max_depth=5, max_features=1 ..................\n"
          ],
          "name": "stdout"
        },
        {
          "output_type": "stream",
          "text": [
            "[Parallel(n_jobs=1)]: Done   3 out of   3 | elapsed:    3.2s remaining:    0.0s\n"
          ],
          "name": "stderr"
        },
        {
          "output_type": "stream",
          "text": [
            "[CV]  criterion=entropy, max_depth=5, max_features=1, score=0.899, total=   1.1s\n",
            "[CV] criterion=entropy, max_depth=5, max_features=1 ..................\n",
            "[CV]  criterion=entropy, max_depth=5, max_features=1, score=0.902, total=   1.1s\n",
            "[CV] criterion=entropy, max_depth=5, max_features=15 .................\n",
            "[CV]  criterion=entropy, max_depth=5, max_features=15, score=0.932, total=  10.6s\n",
            "[CV] criterion=entropy, max_depth=5, max_features=15 .................\n",
            "[CV]  criterion=entropy, max_depth=5, max_features=15, score=0.937, total=  10.6s\n",
            "[CV] criterion=entropy, max_depth=5, max_features=15 .................\n",
            "[CV]  criterion=entropy, max_depth=5, max_features=15, score=0.918, total=  10.6s\n",
            "[CV] criterion=entropy, max_depth=5, max_features=15 .................\n",
            "[CV]  criterion=entropy, max_depth=5, max_features=15, score=0.905, total=  10.6s\n",
            "[CV] criterion=entropy, max_depth=5, max_features=15 .................\n",
            "[CV]  criterion=entropy, max_depth=5, max_features=15, score=0.899, total=  10.6s\n",
            "[CV] criterion=entropy, max_depth=5, max_features=30 .................\n",
            "[CV]  criterion=entropy, max_depth=5, max_features=30, score=0.916, total=  20.5s\n",
            "[CV] criterion=entropy, max_depth=5, max_features=30 .................\n",
            "[CV]  criterion=entropy, max_depth=5, max_features=30, score=0.929, total=  20.5s\n",
            "[CV] criterion=entropy, max_depth=5, max_features=30 .................\n",
            "[CV]  criterion=entropy, max_depth=5, max_features=30, score=0.913, total=  20.5s\n",
            "[CV] criterion=entropy, max_depth=5, max_features=30 .................\n",
            "[CV]  criterion=entropy, max_depth=5, max_features=30, score=0.890, total=  20.3s\n",
            "[CV] criterion=entropy, max_depth=5, max_features=30 .................\n",
            "[CV]  criterion=entropy, max_depth=5, max_features=30, score=0.867, total=  20.4s\n",
            "[CV] criterion=entropy, max_depth=10, max_features=1 .................\n",
            "[CV]  criterion=entropy, max_depth=10, max_features=1, score=0.938, total=   1.5s\n",
            "[CV] criterion=entropy, max_depth=10, max_features=1 .................\n",
            "[CV]  criterion=entropy, max_depth=10, max_features=1, score=0.947, total=   1.5s\n",
            "[CV] criterion=entropy, max_depth=10, max_features=1 .................\n",
            "[CV]  criterion=entropy, max_depth=10, max_features=1, score=0.944, total=   1.5s\n",
            "[CV] criterion=entropy, max_depth=10, max_features=1 .................\n",
            "[CV]  criterion=entropy, max_depth=10, max_features=1, score=0.922, total=   1.5s\n",
            "[CV] criterion=entropy, max_depth=10, max_features=1 .................\n",
            "[CV]  criterion=entropy, max_depth=10, max_features=1, score=0.924, total=   1.5s\n",
            "[CV] criterion=entropy, max_depth=10, max_features=15 ................\n",
            "[CV]  criterion=entropy, max_depth=10, max_features=15, score=0.956, total=  14.3s\n",
            "[CV] criterion=entropy, max_depth=10, max_features=15 ................\n",
            "[CV]  criterion=entropy, max_depth=10, max_features=15, score=0.962, total=  14.5s\n",
            "[CV] criterion=entropy, max_depth=10, max_features=15 ................\n",
            "[CV]  criterion=entropy, max_depth=10, max_features=15, score=0.956, total=  14.3s\n",
            "[CV] criterion=entropy, max_depth=10, max_features=15 ................\n",
            "[CV]  criterion=entropy, max_depth=10, max_features=15, score=0.944, total=  14.4s\n",
            "[CV] criterion=entropy, max_depth=10, max_features=15 ................\n",
            "[CV]  criterion=entropy, max_depth=10, max_features=15, score=0.942, total=  14.1s\n",
            "[CV] criterion=entropy, max_depth=10, max_features=30 ................\n",
            "[CV]  criterion=entropy, max_depth=10, max_features=30, score=0.947, total=  27.2s\n",
            "[CV] criterion=entropy, max_depth=10, max_features=30 ................\n",
            "[CV]  criterion=entropy, max_depth=10, max_features=30, score=0.964, total=  27.3s\n",
            "[CV] criterion=entropy, max_depth=10, max_features=30 ................\n",
            "[CV]  criterion=entropy, max_depth=10, max_features=30, score=0.954, total=  27.2s\n",
            "[CV] criterion=entropy, max_depth=10, max_features=30 ................\n",
            "[CV]  criterion=entropy, max_depth=10, max_features=30, score=0.946, total=  27.2s\n",
            "[CV] criterion=entropy, max_depth=10, max_features=30 ................\n",
            "[CV]  criterion=entropy, max_depth=10, max_features=30, score=0.939, total=  27.1s\n",
            "[CV] criterion=entropy, max_depth=25, max_features=1 .................\n",
            "[CV]  criterion=entropy, max_depth=25, max_features=1, score=0.948, total=   1.7s\n",
            "[CV] criterion=entropy, max_depth=25, max_features=1 .................\n",
            "[CV]  criterion=entropy, max_depth=25, max_features=1, score=0.949, total=   1.7s\n",
            "[CV] criterion=entropy, max_depth=25, max_features=1 .................\n",
            "[CV]  criterion=entropy, max_depth=25, max_features=1, score=0.948, total=   1.7s\n",
            "[CV] criterion=entropy, max_depth=25, max_features=1 .................\n",
            "[CV]  criterion=entropy, max_depth=25, max_features=1, score=0.932, total=   1.7s\n",
            "[CV] criterion=entropy, max_depth=25, max_features=1 .................\n",
            "[CV]  criterion=entropy, max_depth=25, max_features=1, score=0.941, total=   1.6s\n",
            "[CV] criterion=entropy, max_depth=25, max_features=15 ................\n",
            "[CV]  criterion=entropy, max_depth=25, max_features=15, score=0.957, total=  14.5s\n",
            "[CV] criterion=entropy, max_depth=25, max_features=15 ................\n",
            "[CV]  criterion=entropy, max_depth=25, max_features=15, score=0.963, total=  14.5s\n",
            "[CV] criterion=entropy, max_depth=25, max_features=15 ................\n",
            "[CV]  criterion=entropy, max_depth=25, max_features=15, score=0.958, total=  14.5s\n",
            "[CV] criterion=entropy, max_depth=25, max_features=15 ................\n",
            "[CV]  criterion=entropy, max_depth=25, max_features=15, score=0.947, total=  14.5s\n",
            "[CV] criterion=entropy, max_depth=25, max_features=15 ................\n",
            "[CV]  criterion=entropy, max_depth=25, max_features=15, score=0.952, total=  14.4s\n",
            "[CV] criterion=entropy, max_depth=25, max_features=30 ................\n",
            "[CV]  criterion=entropy, max_depth=25, max_features=30, score=0.954, total=  27.7s\n",
            "[CV] criterion=entropy, max_depth=25, max_features=30 ................\n",
            "[CV]  criterion=entropy, max_depth=25, max_features=30, score=0.963, total=  27.8s\n",
            "[CV] criterion=entropy, max_depth=25, max_features=30 ................\n",
            "[CV]  criterion=entropy, max_depth=25, max_features=30, score=0.947, total=  28.1s\n",
            "[CV] criterion=entropy, max_depth=25, max_features=30 ................\n",
            "[CV]  criterion=entropy, max_depth=25, max_features=30, score=0.943, total=  27.7s\n",
            "[CV] criterion=entropy, max_depth=25, max_features=30 ................\n",
            "[CV]  criterion=entropy, max_depth=25, max_features=30, score=0.946, total=  27.7s\n",
            "[CV] criterion=gini, max_depth=5, max_features=1 .....................\n",
            "[CV]  criterion=gini, max_depth=5, max_features=1, score=0.894, total=   0.5s\n",
            "[CV] criterion=gini, max_depth=5, max_features=1 .....................\n",
            "[CV]  criterion=gini, max_depth=5, max_features=1, score=0.904, total=   0.5s\n",
            "[CV] criterion=gini, max_depth=5, max_features=1 .....................\n",
            "[CV]  criterion=gini, max_depth=5, max_features=1, score=0.908, total=   0.5s\n",
            "[CV] criterion=gini, max_depth=5, max_features=1 .....................\n",
            "[CV]  criterion=gini, max_depth=5, max_features=1, score=0.899, total=   0.5s\n",
            "[CV] criterion=gini, max_depth=5, max_features=1 .....................\n",
            "[CV]  criterion=gini, max_depth=5, max_features=1, score=0.902, total=   0.5s\n",
            "[CV] criterion=gini, max_depth=5, max_features=15 ....................\n",
            "[CV]  criterion=gini, max_depth=5, max_features=15, score=0.912, total=   2.9s\n",
            "[CV] criterion=gini, max_depth=5, max_features=15 ....................\n",
            "[CV]  criterion=gini, max_depth=5, max_features=15, score=0.926, total=   2.9s\n",
            "[CV] criterion=gini, max_depth=5, max_features=15 ....................\n",
            "[CV]  criterion=gini, max_depth=5, max_features=15, score=0.903, total=   2.9s\n",
            "[CV] criterion=gini, max_depth=5, max_features=15 ....................\n",
            "[CV]  criterion=gini, max_depth=5, max_features=15, score=0.887, total=   2.9s\n",
            "[CV] criterion=gini, max_depth=5, max_features=15 ....................\n",
            "[CV]  criterion=gini, max_depth=5, max_features=15, score=0.874, total=   2.9s\n",
            "[CV] criterion=gini, max_depth=5, max_features=30 ....................\n",
            "[CV]  criterion=gini, max_depth=5, max_features=30, score=0.895, total=   5.4s\n",
            "[CV] criterion=gini, max_depth=5, max_features=30 ....................\n",
            "[CV]  criterion=gini, max_depth=5, max_features=30, score=0.910, total=   5.4s\n",
            "[CV] criterion=gini, max_depth=5, max_features=30 ....................\n",
            "[CV]  criterion=gini, max_depth=5, max_features=30, score=0.887, total=   5.4s\n",
            "[CV] criterion=gini, max_depth=5, max_features=30 ....................\n",
            "[CV]  criterion=gini, max_depth=5, max_features=30, score=0.875, total=   5.3s\n",
            "[CV] criterion=gini, max_depth=5, max_features=30 ....................\n",
            "[CV]  criterion=gini, max_depth=5, max_features=30, score=0.859, total=   5.4s\n",
            "[CV] criterion=gini, max_depth=10, max_features=1 ....................\n",
            "[CV]  criterion=gini, max_depth=10, max_features=1, score=0.934, total=   0.6s\n",
            "[CV] criterion=gini, max_depth=10, max_features=1 ....................\n",
            "[CV]  criterion=gini, max_depth=10, max_features=1, score=0.937, total=   0.7s\n",
            "[CV] criterion=gini, max_depth=10, max_features=1 ....................\n",
            "[CV]  criterion=gini, max_depth=10, max_features=1, score=0.936, total=   0.6s\n",
            "[CV] criterion=gini, max_depth=10, max_features=1 ....................\n",
            "[CV]  criterion=gini, max_depth=10, max_features=1, score=0.921, total=   0.6s\n",
            "[CV] criterion=gini, max_depth=10, max_features=1 ....................\n",
            "[CV]  criterion=gini, max_depth=10, max_features=1, score=0.931, total=   0.6s\n",
            "[CV] criterion=gini, max_depth=10, max_features=15 ...................\n",
            "[CV]  criterion=gini, max_depth=10, max_features=15, score=0.947, total=   4.6s\n",
            "[CV] criterion=gini, max_depth=10, max_features=15 ...................\n",
            "[CV]  criterion=gini, max_depth=10, max_features=15, score=0.963, total=   4.6s\n",
            "[CV] criterion=gini, max_depth=10, max_features=15 ...................\n",
            "[CV]  criterion=gini, max_depth=10, max_features=15, score=0.951, total=   4.5s\n",
            "[CV] criterion=gini, max_depth=10, max_features=15 ...................\n",
            "[CV]  criterion=gini, max_depth=10, max_features=15, score=0.932, total=   4.6s\n",
            "[CV] criterion=gini, max_depth=10, max_features=15 ...................\n",
            "[CV]  criterion=gini, max_depth=10, max_features=15, score=0.938, total=   4.6s\n",
            "[CV] criterion=gini, max_depth=10, max_features=30 ...................\n",
            "[CV]  criterion=gini, max_depth=10, max_features=30, score=0.938, total=   8.8s\n",
            "[CV] criterion=gini, max_depth=10, max_features=30 ...................\n",
            "[CV]  criterion=gini, max_depth=10, max_features=30, score=0.958, total=   8.8s\n",
            "[CV] criterion=gini, max_depth=10, max_features=30 ...................\n",
            "[CV]  criterion=gini, max_depth=10, max_features=30, score=0.941, total=   8.8s\n",
            "[CV] criterion=gini, max_depth=10, max_features=30 ...................\n",
            "[CV]  criterion=gini, max_depth=10, max_features=30, score=0.931, total=   8.8s\n",
            "[CV] criterion=gini, max_depth=10, max_features=30 ...................\n",
            "[CV]  criterion=gini, max_depth=10, max_features=30, score=0.932, total=   8.8s\n",
            "[CV] criterion=gini, max_depth=25, max_features=1 ....................\n",
            "[CV]  criterion=gini, max_depth=25, max_features=1, score=0.949, total=   0.8s\n",
            "[CV] criterion=gini, max_depth=25, max_features=1 ....................\n",
            "[CV]  criterion=gini, max_depth=25, max_features=1, score=0.952, total=   0.8s\n",
            "[CV] criterion=gini, max_depth=25, max_features=1 ....................\n",
            "[CV]  criterion=gini, max_depth=25, max_features=1, score=0.946, total=   0.8s\n",
            "[CV] criterion=gini, max_depth=25, max_features=1 ....................\n",
            "[CV]  criterion=gini, max_depth=25, max_features=1, score=0.930, total=   0.7s\n",
            "[CV] criterion=gini, max_depth=25, max_features=1 ....................\n",
            "[CV]  criterion=gini, max_depth=25, max_features=1, score=0.940, total=   0.8s\n",
            "[CV] criterion=gini, max_depth=25, max_features=15 ...................\n",
            "[CV]  criterion=gini, max_depth=25, max_features=15, score=0.952, total=   5.3s\n",
            "[CV] criterion=gini, max_depth=25, max_features=15 ...................\n",
            "[CV]  criterion=gini, max_depth=25, max_features=15, score=0.965, total=   5.3s\n",
            "[CV] criterion=gini, max_depth=25, max_features=15 ...................\n",
            "[CV]  criterion=gini, max_depth=25, max_features=15, score=0.955, total=   5.3s\n",
            "[CV] criterion=gini, max_depth=25, max_features=15 ...................\n",
            "[CV]  criterion=gini, max_depth=25, max_features=15, score=0.939, total=   5.3s\n",
            "[CV] criterion=gini, max_depth=25, max_features=15 ...................\n",
            "[CV]  criterion=gini, max_depth=25, max_features=15, score=0.953, total=   5.2s\n",
            "[CV] criterion=gini, max_depth=25, max_features=30 ...................\n",
            "[CV]  criterion=gini, max_depth=25, max_features=30, score=0.949, total=  10.4s\n",
            "[CV] criterion=gini, max_depth=25, max_features=30 ...................\n",
            "[CV]  criterion=gini, max_depth=25, max_features=30, score=0.965, total=  10.3s\n",
            "[CV] criterion=gini, max_depth=25, max_features=30 ...................\n",
            "[CV]  criterion=gini, max_depth=25, max_features=30, score=0.950, total=  10.3s\n",
            "[CV] criterion=gini, max_depth=25, max_features=30 ...................\n",
            "[CV]  criterion=gini, max_depth=25, max_features=30, score=0.938, total=  10.3s\n",
            "[CV] criterion=gini, max_depth=25, max_features=30 ...................\n",
            "[CV]  criterion=gini, max_depth=25, max_features=30, score=0.946, total=  10.1s\n"
          ],
          "name": "stdout"
        },
        {
          "output_type": "stream",
          "text": [
            "[Parallel(n_jobs=1)]: Done  90 out of  90 | elapsed: 13.2min finished\n"
          ],
          "name": "stderr"
        },
        {
          "output_type": "stream",
          "text": [
            "Best score: \n",
            "0.9551666666666666\n",
            "\n",
            "Best params: \n",
            "{'criterion': 'entropy', 'max_depth': 25, 'max_features': 15}\n",
            "\n",
            "Accuracy:\n",
            "93.25\n",
            "\n",
            "Confusion matrix:\n"
          ],
          "name": "stdout"
        },
        {
          "output_type": "display_data",
          "data": {
            "image/png": "[encoded data removed]",
            "text/plain": [
              "<Figure size 720x720 with 1 Axes>"
            ]
          },
          "metadata": {
            "tags": [],
            "needs_background": "light"
          }
        },
        {
          "output_type": "stream",
          "text": [
            "\n",
            "Classification report:\n",
            "              precision    recall  f1-score   support\n",
            "\n",
            "           0       0.89      1.00      0.94        39\n",
            "           1       0.97      1.00      0.99        37\n",
            "           2       0.94      0.94      0.94        35\n",
            "           3       0.89      0.97      0.93        34\n",
            "           4       0.89      0.91      0.90        46\n",
            "           5       0.93      0.93      0.93        41\n",
            "           6       0.95      0.88      0.91        40\n",
            "           7       0.98      0.91      0.94        55\n",
            "           8       0.97      0.95      0.96        38\n",
            "           9       0.91      0.86      0.88        35\n",
            "\n",
            "    accuracy                           0.93       400\n",
            "   macro avg       0.93      0.93      0.93       400\n",
            "weighted avg       0.93      0.93      0.93       400\n",
            "\n"
          ],
          "name": "stdout"
        }
      ]
    },
    {
      "cell_type": "markdown",
      "metadata": {
        "id": "GK8-PtnM-N5N"
      },
      "source": [
        "**Sieć**"
      ]
    },
    {
      "cell_type": "code",
      "metadata": {
        "colab": {
          "base_uri": "https://localhost:8080/"
        },
        "id": "c9iqvQcrJdCU",
        "outputId": "582acba2-bc46-4abe-c6a9-fab2030b36ac"
      },
      "source": [
        "network = create_model\n",
        "NN_best_params(imData2, encoded_train_labels, KerasClassifier(network))"
      ],
      "execution_count": 95,
      "outputs": [
        {
          "output_type": "stream",
          "text": [
            "Epoch 1/15\n",
            "59/59 [==============================] - 0s 2ms/step - loss: 1.4976 - accuracy: 0.6712\n",
            "Epoch 2/15\n",
            "59/59 [==============================] - 0s 2ms/step - loss: 0.4476 - accuracy: 0.9089\n",
            "Epoch 3/15\n",
            "59/59 [==============================] - 0s 2ms/step - loss: 0.2657 - accuracy: 0.9347\n",
            "Epoch 4/15\n",
            "59/59 [==============================] - 0s 2ms/step - loss: 0.1970 - accuracy: 0.9473\n",
            "Epoch 5/15\n",
            "59/59 [==============================] - 0s 2ms/step - loss: 0.1593 - accuracy: 0.9527\n",
            "Epoch 6/15\n",
            "59/59 [==============================] - 0s 2ms/step - loss: 0.1496 - accuracy: 0.9552\n",
            "Epoch 7/15\n",
            "59/59 [==============================] - 0s 2ms/step - loss: 0.1320 - accuracy: 0.9600\n",
            "Epoch 8/15\n",
            "59/59 [==============================] - 0s 2ms/step - loss: 0.1372 - accuracy: 0.9598\n",
            "Epoch 9/15\n",
            "59/59 [==============================] - 0s 2ms/step - loss: 0.1259 - accuracy: 0.9626\n",
            "Epoch 10/15\n",
            "59/59 [==============================] - 0s 2ms/step - loss: 0.1119 - accuracy: 0.9647\n",
            "Epoch 11/15\n",
            "59/59 [==============================] - 0s 2ms/step - loss: 0.1123 - accuracy: 0.9644\n",
            "Epoch 12/15\n",
            "59/59 [==============================] - 0s 2ms/step - loss: 0.1051 - accuracy: 0.9670\n",
            "Epoch 13/15\n",
            "59/59 [==============================] - 0s 2ms/step - loss: 0.0993 - accuracy: 0.9676\n",
            "Epoch 14/15\n",
            "59/59 [==============================] - 0s 2ms/step - loss: 0.1041 - accuracy: 0.9661\n",
            "Epoch 15/15\n",
            "59/59 [==============================] - 0s 2ms/step - loss: 0.0893 - accuracy: 0.9714\n",
            "Best score: 0.8991\n",
            "\n",
            "Best params: \n",
            "{'epochs': 15}\n"
          ],
          "name": "stdout"
        }
      ]
    },
    {
      "cell_type": "code",
      "metadata": {
        "colab": {
          "base_uri": "https://localhost:8080/",
          "height": 1000
        },
        "id": "wrWe7P4cMdJc",
        "outputId": "e404e638-27f8-4d70-fec4-9e363c72af4f"
      },
      "source": [
        "network = models.Sequential()\n",
        "network.add(layers.Dense(512, activation='relu', input_shape=(81,)))\n",
        "network.add(layers.Dense(10, activation='softmax'))\n",
        "network.compile(optimizer='rmsprop',\n",
        "                loss='categorical_crossentropy',\n",
        "                metrics=['accuracy'])\n",
        "encoded_train_labels = to_categorical(train_labels)\n",
        "\n",
        "network.fit(imData2[:7500], encoded_train_labels[:7500], epochs=15, batch_size=128)\n",
        "\n",
        "test_loss, test_acc = network.evaluate(imData2[7500:10000], encoded_train_labels[7500:10000])\n",
        "print('\\nAccuracy:', test_acc)\n",
        "pred_probabilities = network.predict(imData2[7500:10000])\n",
        "# print(pred_probabilities[0:1])\n",
        "pred_labels = np.argmax(pred_probabilities,-1)\n",
        "\n",
        "cm = confusion_matrix(train_labels[7500:10000], pred_labels)\n",
        "print(\"\\nConfusion matrix:\")\n",
        "fig = plt.figure(figsize = (10,10))\n",
        "sns.heatmap(cm, annot = True, square = True, fmt = 'd', cbar = False)\n",
        "plt.show()\n",
        "\n",
        "print(\"\\nClassification report:\")\n",
        "print(classification_report(train_labels[7500:10000], pred_labels))\n",
        "\n"
      ],
      "execution_count": 96,
      "outputs": [
        {
          "output_type": "stream",
          "text": [
            "Epoch 1/15\n",
            "59/59 [==============================] - 0s 2ms/step - loss: 1.4963 - accuracy: 0.6874\n",
            "Epoch 2/15\n",
            "59/59 [==============================] - 0s 2ms/step - loss: 0.4488 - accuracy: 0.9137\n",
            "Epoch 3/15\n",
            "59/59 [==============================] - 0s 2ms/step - loss: 0.2653 - accuracy: 0.9325\n",
            "Epoch 4/15\n",
            "59/59 [==============================] - 0s 3ms/step - loss: 0.2045 - accuracy: 0.9424\n",
            "Epoch 5/15\n",
            "59/59 [==============================] - 0s 3ms/step - loss: 0.1746 - accuracy: 0.9506\n",
            "Epoch 6/15\n",
            "59/59 [==============================] - 0s 2ms/step - loss: 0.1553 - accuracy: 0.9536\n",
            "Epoch 7/15\n",
            "59/59 [==============================] - 0s 3ms/step - loss: 0.1536 - accuracy: 0.9551\n",
            "Epoch 8/15\n",
            "59/59 [==============================] - 0s 2ms/step - loss: 0.1370 - accuracy: 0.9572\n",
            "Epoch 9/15\n",
            "59/59 [==============================] - 0s 2ms/step - loss: 0.1225 - accuracy: 0.9615\n",
            "Epoch 10/15\n",
            "59/59 [==============================] - 0s 2ms/step - loss: 0.1090 - accuracy: 0.9675\n",
            "Epoch 11/15\n",
            "59/59 [==============================] - 0s 2ms/step - loss: 0.1123 - accuracy: 0.9663\n",
            "Epoch 12/15\n",
            "59/59 [==============================] - 0s 2ms/step - loss: 0.1094 - accuracy: 0.9667\n",
            "Epoch 13/15\n",
            "59/59 [==============================] - 0s 2ms/step - loss: 0.1020 - accuracy: 0.9675\n",
            "Epoch 14/15\n",
            "59/59 [==============================] - 0s 2ms/step - loss: 0.1058 - accuracy: 0.9678\n",
            "Epoch 15/15\n",
            "59/59 [==============================] - 0s 2ms/step - loss: 0.0978 - accuracy: 0.9722\n",
            "79/79 [==============================] - 0s 2ms/step - loss: 0.1350 - accuracy: 0.9596\n",
            "\n",
            "Accuracy: 0.9595999717712402\n",
            "\n",
            "Confusion matrix:\n"
          ],
          "name": "stdout"
        },
        {
          "output_type": "display_data",
          "data": {
            "image/png": "[encoded data removed]",
            "text/plain": [
              "<Figure size 720x720 with 1 Axes>"
            ]
          },
          "metadata": {
            "tags": [],
            "needs_background": "light"
          }
        },
        {
          "output_type": "stream",
          "text": [
            "\n",
            "Classification report:\n",
            "              precision    recall  f1-score   support\n",
            "\n",
            "           0       0.97      0.96      0.96       256\n",
            "           1       1.00      0.99      0.99       285\n",
            "           2       0.92      0.96      0.94       264\n",
            "           3       0.98      0.95      0.97       270\n",
            "           4       0.97      0.96      0.96       222\n",
            "           5       0.97      0.96      0.97       200\n",
            "           6       0.98      0.97      0.98       263\n",
            "           7       0.94      0.95      0.94       265\n",
            "           8       0.92      0.94      0.93       243\n",
            "           9       0.94      0.96      0.95       232\n",
            "\n",
            "    accuracy                           0.96      2500\n",
            "   macro avg       0.96      0.96      0.96      2500\n",
            "weighted avg       0.96      0.96      0.96      2500\n",
            "\n"
          ],
          "name": "stdout"
        }
      ]
    },
    {
      "cell_type": "markdown",
      "metadata": {
        "id": "X4Dws4p2A5SY"
      },
      "source": [
        "### Klasyfikatory dla surowych danych "
      ]
    },
    {
      "cell_type": "code",
      "metadata": {
        "colab": {
          "base_uri": "https://localhost:8080/"
        },
        "id": "5Fb5V511BH_-",
        "outputId": "e091866b-1861-42d0-f483-4707dcef939a"
      },
      "source": [
        "from keras.datasets import mnist\n",
        "\n",
        "(train_images, train_labels), (test_images, test_labels) = mnist.load_data()\n",
        "\n",
        "train_deskewed = [deskew(im) for im in im_list[0:train_images.shape[0]]]\n",
        "test_deskewed = [deskew(im) for im in im_list[train_images.shape[0]:]]\n",
        "\n",
        "train_deskewed = np.asarray(train_deskewed)\n",
        "test_deskewed = np.asarray(test_deskewed)\n",
        "\n",
        "im_list3 = [train_deskewed[i] for i in range(0,train_deskewed.shape[0])] + [test_deskewed[i] for i in range(0,test_deskewed.shape[0])]\n",
        "im_list3_reshaped = [im_list3[im].reshape(-1) for im in range (0,len(im_list3))]\n",
        "\n",
        "imData3 = np.float32(im_list3_reshaped).reshape(-1,784)\n",
        "print(imData3.shape)"
      ],
      "execution_count": 98,
      "outputs": [
        {
          "output_type": "stream",
          "text": [
            "(70000, 784)\n"
          ],
          "name": "stdout"
        }
      ]
    },
    {
      "cell_type": "markdown",
      "metadata": {
        "id": "MTC9eQozFdd0"
      },
      "source": [
        "**SVM**"
      ]
    },
    {
      "cell_type": "code",
      "metadata": {
        "colab": {
          "base_uri": "https://localhost:8080/",
          "height": 1000
        },
        "id": "nE2oxm7mJ0Q5",
        "outputId": "87f7b9ed-5598-4316-fdf9-345345035fc3"
      },
      "source": [
        "SVM_classifier(imData3,train_labels)"
      ],
      "execution_count": null,
      "outputs": [
        {
          "output_type": "stream",
          "text": [
            "Fitting 5 folds for each of 8 candidates, totalling 40 fits\n",
            "[CV] C=1, gamma=scale, kernel=linear .................................\n"
          ],
          "name": "stdout"
        },
        {
          "output_type": "stream",
          "text": [
            "[Parallel(n_jobs=1)]: Using backend SequentialBackend with 1 concurrent workers.\n"
          ],
          "name": "stderr"
        },
        {
          "output_type": "stream",
          "text": [
            "[CV] ..... C=1, gamma=scale, kernel=linear, score=0.934, total=   5.7s\n",
            "[CV] C=1, gamma=scale, kernel=linear .................................\n"
          ],
          "name": "stdout"
        },
        {
          "output_type": "stream",
          "text": [
            "[Parallel(n_jobs=1)]: Done   1 out of   1 | elapsed:    5.7s remaining:    0.0s\n"
          ],
          "name": "stderr"
        },
        {
          "output_type": "stream",
          "text": [
            "[CV] ..... C=1, gamma=scale, kernel=linear, score=0.946, total=   5.9s\n",
            "[CV] C=1, gamma=scale, kernel=linear .................................\n"
          ],
          "name": "stdout"
        },
        {
          "output_type": "stream",
          "text": [
            "[Parallel(n_jobs=1)]: Done   2 out of   2 | elapsed:   11.6s remaining:    0.0s\n"
          ],
          "name": "stderr"
        },
        {
          "output_type": "stream",
          "text": [
            "[CV] ..... C=1, gamma=scale, kernel=linear, score=0.946, total=   5.9s\n",
            "[CV] C=1, gamma=scale, kernel=linear .................................\n",
            "[CV] ..... C=1, gamma=scale, kernel=linear, score=0.944, total=   5.9s\n",
            "[CV] C=1, gamma=scale, kernel=linear .................................\n",
            "[CV] ..... C=1, gamma=scale, kernel=linear, score=0.921, total=   5.7s\n",
            "[CV] C=1, gamma=scale, kernel=rbf ....................................\n",
            "[CV] ........ C=1, gamma=scale, kernel=rbf, score=0.953, total=  10.2s\n",
            "[CV] C=1, gamma=scale, kernel=rbf ....................................\n",
            "[CV] ........ C=1, gamma=scale, kernel=rbf, score=0.967, total=  10.6s\n",
            "[CV] C=1, gamma=scale, kernel=rbf ....................................\n",
            "[CV] ........ C=1, gamma=scale, kernel=rbf, score=0.969, total=  10.6s\n",
            "[CV] C=1, gamma=scale, kernel=rbf ....................................\n",
            "[CV] ........ C=1, gamma=scale, kernel=rbf, score=0.963, total=  10.7s\n",
            "[CV] C=1, gamma=scale, kernel=rbf ....................................\n",
            "[CV] ........ C=1, gamma=scale, kernel=rbf, score=0.958, total=  10.7s\n",
            "[CV] C=1, gamma=auto, kernel=linear ..................................\n",
            "[CV] ...... C=1, gamma=auto, kernel=linear, score=0.934, total=   5.8s\n",
            "[CV] C=1, gamma=auto, kernel=linear ..................................\n",
            "[CV] ...... C=1, gamma=auto, kernel=linear, score=0.946, total=   6.0s\n",
            "[CV] C=1, gamma=auto, kernel=linear ..................................\n",
            "[CV] ...... C=1, gamma=auto, kernel=linear, score=0.946, total=   6.0s\n",
            "[CV] C=1, gamma=auto, kernel=linear ..................................\n",
            "[CV] ...... C=1, gamma=auto, kernel=linear, score=0.944, total=   5.9s\n",
            "[CV] C=1, gamma=auto, kernel=linear ..................................\n",
            "[CV] ...... C=1, gamma=auto, kernel=linear, score=0.921, total=   5.7s\n",
            "[CV] C=1, gamma=auto, kernel=rbf .....................................\n",
            "[CV] ......... C=1, gamma=auto, kernel=rbf, score=0.112, total=  59.6s\n",
            "[CV] C=1, gamma=auto, kernel=rbf .....................................\n",
            "[CV] ......... C=1, gamma=auto, kernel=rbf, score=0.112, total= 1.0min\n",
            "[CV] C=1, gamma=auto, kernel=rbf .....................................\n",
            "[CV] ......... C=1, gamma=auto, kernel=rbf, score=0.112, total= 1.0min\n",
            "[CV] C=1, gamma=auto, kernel=rbf .....................................\n",
            "[CV] ......... C=1, gamma=auto, kernel=rbf, score=0.112, total= 1.0min\n",
            "[CV] C=1, gamma=auto, kernel=rbf .....................................\n",
            "[CV] ......... C=1, gamma=auto, kernel=rbf, score=0.113, total= 1.0min\n",
            "[CV] C=10, gamma=scale, kernel=linear ................................\n",
            "[CV] .... C=10, gamma=scale, kernel=linear, score=0.934, total=   5.8s\n",
            "[CV] C=10, gamma=scale, kernel=linear ................................\n",
            "[CV] .... C=10, gamma=scale, kernel=linear, score=0.946, total=   6.0s\n",
            "[CV] C=10, gamma=scale, kernel=linear ................................\n",
            "[CV] .... C=10, gamma=scale, kernel=linear, score=0.946, total=   6.0s\n",
            "[CV] C=10, gamma=scale, kernel=linear ................................\n",
            "[CV] .... C=10, gamma=scale, kernel=linear, score=0.944, total=   5.9s\n",
            "[CV] C=10, gamma=scale, kernel=linear ................................\n",
            "[CV] .... C=10, gamma=scale, kernel=linear, score=0.921, total=   5.8s\n",
            "[CV] C=10, gamma=scale, kernel=rbf ...................................\n",
            "[CV] ....... C=10, gamma=scale, kernel=rbf, score=0.954, total=   9.7s\n",
            "[CV] C=10, gamma=scale, kernel=rbf ...................................\n",
            "[CV] ....... C=10, gamma=scale, kernel=rbf, score=0.971, total=   9.9s\n",
            "[CV] C=10, gamma=scale, kernel=rbf ...................................\n",
            "[CV] ....... C=10, gamma=scale, kernel=rbf, score=0.973, total=  10.0s\n",
            "[CV] C=10, gamma=scale, kernel=rbf ...................................\n",
            "[CV] ....... C=10, gamma=scale, kernel=rbf, score=0.974, total=   9.8s\n",
            "[CV] C=10, gamma=scale, kernel=rbf ...................................\n",
            "[CV] ....... C=10, gamma=scale, kernel=rbf, score=0.963, total=   9.8s\n",
            "[CV] C=10, gamma=auto, kernel=linear .................................\n",
            "[CV] ..... C=10, gamma=auto, kernel=linear, score=0.934, total=   5.7s\n",
            "[CV] C=10, gamma=auto, kernel=linear .................................\n",
            "[CV] ..... C=10, gamma=auto, kernel=linear, score=0.946, total=   5.8s\n",
            "[CV] C=10, gamma=auto, kernel=linear .................................\n",
            "[CV] ..... C=10, gamma=auto, kernel=linear, score=0.946, total=   5.9s\n",
            "[CV] C=10, gamma=auto, kernel=linear .................................\n",
            "[CV] ..... C=10, gamma=auto, kernel=linear, score=0.944, total=   5.8s\n",
            "[CV] C=10, gamma=auto, kernel=linear .................................\n",
            "[CV] ..... C=10, gamma=auto, kernel=linear, score=0.921, total=   5.7s\n",
            "[CV] C=10, gamma=auto, kernel=rbf ....................................\n",
            "[CV] ........ C=10, gamma=auto, kernel=rbf, score=0.112, total= 1.0min\n",
            "[CV] C=10, gamma=auto, kernel=rbf ....................................\n",
            "[CV] ........ C=10, gamma=auto, kernel=rbf, score=0.112, total= 1.0min\n",
            "[CV] C=10, gamma=auto, kernel=rbf ....................................\n",
            "[CV] ........ C=10, gamma=auto, kernel=rbf, score=0.112, total= 1.0min\n",
            "[CV] C=10, gamma=auto, kernel=rbf ....................................\n",
            "[CV] ........ C=10, gamma=auto, kernel=rbf, score=0.112, total= 1.0min\n",
            "[CV] C=10, gamma=auto, kernel=rbf ....................................\n",
            "[CV] ........ C=10, gamma=auto, kernel=rbf, score=0.113, total= 1.0min\n"
          ],
          "name": "stdout"
        },
        {
          "output_type": "stream",
          "text": [
            "[Parallel(n_jobs=1)]: Done  40 out of  40 | elapsed: 13.8min finished\n"
          ],
          "name": "stderr"
        },
        {
          "output_type": "stream",
          "text": [
            "\n",
            "Best score: \n",
            "0.9671666666666667\n",
            "\n",
            "Best params: \n",
            "{'C': 10, 'gamma': 'scale', 'kernel': 'rbf'}\n",
            "\n",
            "Accuracy:\n",
            "92.25\n",
            "\n",
            "Confusion matrix:\n"
          ],
          "name": "stdout"
        },
        {
          "output_type": "display_data",
          "data": {
            "image/png": "[encoded data removed]",
            "text/plain": [
              "<Figure size 720x720 with 1 Axes>"
            ]
          },
          "metadata": {
            "tags": [],
            "needs_background": "light"
          }
        },
        {
          "output_type": "stream",
          "text": [
            "\n",
            "Classification report:\n",
            "              precision    recall  f1-score   support\n",
            "\n",
            "           0       0.90      0.97      0.94        39\n",
            "           1       0.97      1.00      0.99        37\n",
            "           2       0.89      0.94      0.92        35\n",
            "           3       0.97      0.94      0.96        34\n",
            "           4       0.85      0.89      0.87        46\n",
            "           5       0.90      0.93      0.92        41\n",
            "           6       0.92      0.90      0.91        40\n",
            "           7       0.98      0.96      0.97        55\n",
            "           8       0.92      0.89      0.91        38\n",
            "           9       0.90      0.77      0.83        35\n",
            "\n",
            "    accuracy                           0.92       400\n",
            "   macro avg       0.92      0.92      0.92       400\n",
            "weighted avg       0.92      0.92      0.92       400\n",
            "\n"
          ],
          "name": "stdout"
        }
      ]
    },
    {
      "cell_type": "markdown",
      "metadata": {
        "id": "8spoW2I2FdeQ"
      },
      "source": [
        "**RFC**"
      ]
    },
    {
      "cell_type": "code",
      "metadata": {
        "colab": {
          "base_uri": "https://localhost:8080/",
          "height": 1000
        },
        "id": "rTpODYvEFdeQ",
        "outputId": "4364eb4c-a707-4ca2-aa11-d26a4460665b"
      },
      "source": [
        "RFC_classifier(imData3,train_labels)"
      ],
      "execution_count": null,
      "outputs": [
        {
          "output_type": "stream",
          "text": [
            "Fitting 5 folds for each of 18 candidates, totalling 90 fits\n",
            "[CV] criterion=entropy, max_depth=5, max_features=1 ..................\n"
          ],
          "name": "stdout"
        },
        {
          "output_type": "stream",
          "text": [
            "[Parallel(n_jobs=1)]: Using backend SequentialBackend with 1 concurrent workers.\n"
          ],
          "name": "stderr"
        },
        {
          "output_type": "stream",
          "text": [
            "[CV]  criterion=entropy, max_depth=5, max_features=1, score=0.800, total=   0.4s\n",
            "[CV] criterion=entropy, max_depth=5, max_features=1 ..................\n"
          ],
          "name": "stdout"
        },
        {
          "output_type": "stream",
          "text": [
            "[Parallel(n_jobs=1)]: Done   1 out of   1 | elapsed:    0.4s remaining:    0.0s\n"
          ],
          "name": "stderr"
        },
        {
          "output_type": "stream",
          "text": [
            "[CV]  criterion=entropy, max_depth=5, max_features=1, score=0.838, total=   0.4s\n",
            "[CV] criterion=entropy, max_depth=5, max_features=1 ..................\n"
          ],
          "name": "stdout"
        },
        {
          "output_type": "stream",
          "text": [
            "[Parallel(n_jobs=1)]: Done   2 out of   2 | elapsed:    0.8s remaining:    0.0s\n"
          ],
          "name": "stderr"
        },
        {
          "output_type": "stream",
          "text": [
            "[CV]  criterion=entropy, max_depth=5, max_features=1, score=0.801, total=   0.4s\n",
            "[CV] criterion=entropy, max_depth=5, max_features=1 ..................\n"
          ],
          "name": "stdout"
        },
        {
          "output_type": "stream",
          "text": [
            "[Parallel(n_jobs=1)]: Done   3 out of   3 | elapsed:    1.2s remaining:    0.0s\n"
          ],
          "name": "stderr"
        },
        {
          "output_type": "stream",
          "text": [
            "[CV]  criterion=entropy, max_depth=5, max_features=1, score=0.819, total=   0.4s\n",
            "[CV] criterion=entropy, max_depth=5, max_features=1 ..................\n",
            "[CV]  criterion=entropy, max_depth=5, max_features=1, score=0.817, total=   0.4s\n",
            "[CV] criterion=entropy, max_depth=5, max_features=15 .................\n",
            "[CV]  criterion=entropy, max_depth=5, max_features=15, score=0.897, total=   1.9s\n",
            "[CV] criterion=entropy, max_depth=5, max_features=15 .................\n",
            "[CV]  criterion=entropy, max_depth=5, max_features=15, score=0.907, total=   1.9s\n",
            "[CV] criterion=entropy, max_depth=5, max_features=15 .................\n",
            "[CV]  criterion=entropy, max_depth=5, max_features=15, score=0.903, total=   1.9s\n",
            "[CV] criterion=entropy, max_depth=5, max_features=15 .................\n",
            "[CV]  criterion=entropy, max_depth=5, max_features=15, score=0.884, total=   1.9s\n",
            "[CV] criterion=entropy, max_depth=5, max_features=15 .................\n",
            "[CV]  criterion=entropy, max_depth=5, max_features=15, score=0.889, total=   1.9s\n",
            "[CV] criterion=entropy, max_depth=5, max_features=30 .................\n",
            "[CV]  criterion=entropy, max_depth=5, max_features=30, score=0.902, total=   3.5s\n",
            "[CV] criterion=entropy, max_depth=5, max_features=30 .................\n",
            "[CV]  criterion=entropy, max_depth=5, max_features=30, score=0.914, total=   3.6s\n",
            "[CV] criterion=entropy, max_depth=5, max_features=30 .................\n",
            "[CV]  criterion=entropy, max_depth=5, max_features=30, score=0.916, total=   3.5s\n",
            "[CV] criterion=entropy, max_depth=5, max_features=30 .................\n",
            "[CV]  criterion=entropy, max_depth=5, max_features=30, score=0.887, total=   3.4s\n",
            "[CV] criterion=entropy, max_depth=5, max_features=30 .................\n",
            "[CV]  criterion=entropy, max_depth=5, max_features=30, score=0.893, total=   3.7s\n",
            "[CV] criterion=entropy, max_depth=10, max_features=1 .................\n",
            "[CV]  criterion=entropy, max_depth=10, max_features=1, score=0.887, total=   0.7s\n",
            "[CV] criterion=entropy, max_depth=10, max_features=1 .................\n",
            "[CV]  criterion=entropy, max_depth=10, max_features=1, score=0.920, total=   0.7s\n",
            "[CV] criterion=entropy, max_depth=10, max_features=1 .................\n",
            "[CV]  criterion=entropy, max_depth=10, max_features=1, score=0.897, total=   0.7s\n",
            "[CV] criterion=entropy, max_depth=10, max_features=1 .................\n",
            "[CV]  criterion=entropy, max_depth=10, max_features=1, score=0.906, total=   0.7s\n",
            "[CV] criterion=entropy, max_depth=10, max_features=1 .................\n",
            "[CV]  criterion=entropy, max_depth=10, max_features=1, score=0.898, total=   0.8s\n",
            "[CV] criterion=entropy, max_depth=10, max_features=15 ................\n",
            "[CV]  criterion=entropy, max_depth=10, max_features=15, score=0.943, total=   3.6s\n",
            "[CV] criterion=entropy, max_depth=10, max_features=15 ................\n",
            "[CV]  criterion=entropy, max_depth=10, max_features=15, score=0.956, total=   3.5s\n",
            "[CV] criterion=entropy, max_depth=10, max_features=15 ................\n",
            "[CV]  criterion=entropy, max_depth=10, max_features=15, score=0.960, total=   3.5s\n",
            "[CV] criterion=entropy, max_depth=10, max_features=15 ................\n",
            "[CV]  criterion=entropy, max_depth=10, max_features=15, score=0.946, total=   3.5s\n",
            "[CV] criterion=entropy, max_depth=10, max_features=15 ................\n",
            "[CV]  criterion=entropy, max_depth=10, max_features=15, score=0.938, total=   3.4s\n",
            "[CV] criterion=entropy, max_depth=10, max_features=30 ................\n",
            "[CV]  criterion=entropy, max_depth=10, max_features=30, score=0.948, total=   5.9s\n",
            "[CV] criterion=entropy, max_depth=10, max_features=30 ................\n",
            "[CV]  criterion=entropy, max_depth=10, max_features=30, score=0.954, total=   5.9s\n",
            "[CV] criterion=entropy, max_depth=10, max_features=30 ................\n",
            "[CV]  criterion=entropy, max_depth=10, max_features=30, score=0.955, total=   5.9s\n",
            "[CV] criterion=entropy, max_depth=10, max_features=30 ................\n",
            "[CV]  criterion=entropy, max_depth=10, max_features=30, score=0.944, total=   5.8s\n",
            "[CV] criterion=entropy, max_depth=10, max_features=30 ................\n",
            "[CV]  criterion=entropy, max_depth=10, max_features=30, score=0.942, total=   5.8s\n",
            "[CV] criterion=entropy, max_depth=25, max_features=1 .................\n",
            "[CV]  criterion=entropy, max_depth=25, max_features=1, score=0.938, total=   1.1s\n",
            "[CV] criterion=entropy, max_depth=25, max_features=1 .................\n",
            "[CV]  criterion=entropy, max_depth=25, max_features=1, score=0.953, total=   1.1s\n",
            "[CV] criterion=entropy, max_depth=25, max_features=1 .................\n",
            "[CV]  criterion=entropy, max_depth=25, max_features=1, score=0.954, total=   1.2s\n",
            "[CV] criterion=entropy, max_depth=25, max_features=1 .................\n",
            "[CV]  criterion=entropy, max_depth=25, max_features=1, score=0.938, total=   1.2s\n",
            "[CV] criterion=entropy, max_depth=25, max_features=1 .................\n",
            "[CV]  criterion=entropy, max_depth=25, max_features=1, score=0.932, total=   1.1s\n",
            "[CV] criterion=entropy, max_depth=25, max_features=15 ................\n",
            "[CV]  criterion=entropy, max_depth=25, max_features=15, score=0.945, total=   3.4s\n",
            "[CV] criterion=entropy, max_depth=25, max_features=15 ................\n",
            "[CV]  criterion=entropy, max_depth=25, max_features=15, score=0.963, total=   3.5s\n",
            "[CV] criterion=entropy, max_depth=25, max_features=15 ................\n",
            "[CV]  criterion=entropy, max_depth=25, max_features=15, score=0.956, total=   3.5s\n",
            "[CV] criterion=entropy, max_depth=25, max_features=15 ................\n",
            "[CV]  criterion=entropy, max_depth=25, max_features=15, score=0.948, total=   3.5s\n",
            "[CV] criterion=entropy, max_depth=25, max_features=15 ................\n",
            "[CV]  criterion=entropy, max_depth=25, max_features=15, score=0.941, total=   3.4s\n",
            "[CV] criterion=entropy, max_depth=25, max_features=30 ................\n",
            "[CV]  criterion=entropy, max_depth=25, max_features=30, score=0.943, total=   5.8s\n",
            "[CV] criterion=entropy, max_depth=25, max_features=30 ................\n",
            "[CV]  criterion=entropy, max_depth=25, max_features=30, score=0.958, total=   5.8s\n",
            "[CV] criterion=entropy, max_depth=25, max_features=30 ................\n",
            "[CV]  criterion=entropy, max_depth=25, max_features=30, score=0.959, total=   5.8s\n",
            "[CV] criterion=entropy, max_depth=25, max_features=30 ................\n",
            "[CV]  criterion=entropy, max_depth=25, max_features=30, score=0.948, total=   5.9s\n",
            "[CV] criterion=entropy, max_depth=25, max_features=30 ................\n",
            "[CV]  criterion=entropy, max_depth=25, max_features=30, score=0.941, total=   5.9s\n",
            "[CV] criterion=gini, max_depth=5, max_features=1 .....................\n",
            "[CV]  criterion=gini, max_depth=5, max_features=1, score=0.777, total=   0.3s\n",
            "[CV] criterion=gini, max_depth=5, max_features=1 .....................\n",
            "[CV]  criterion=gini, max_depth=5, max_features=1, score=0.842, total=   0.3s\n",
            "[CV] criterion=gini, max_depth=5, max_features=1 .....................\n",
            "[CV]  criterion=gini, max_depth=5, max_features=1, score=0.805, total=   0.3s\n",
            "[CV] criterion=gini, max_depth=5, max_features=1 .....................\n",
            "[CV]  criterion=gini, max_depth=5, max_features=1, score=0.813, total=   0.3s\n",
            "[CV] criterion=gini, max_depth=5, max_features=1 .....................\n",
            "[CV]  criterion=gini, max_depth=5, max_features=1, score=0.800, total=   0.3s\n",
            "[CV] criterion=gini, max_depth=5, max_features=15 ....................\n",
            "[CV]  criterion=gini, max_depth=5, max_features=15, score=0.903, total=   1.0s\n",
            "[CV] criterion=gini, max_depth=5, max_features=15 ....................\n",
            "[CV]  criterion=gini, max_depth=5, max_features=15, score=0.902, total=   1.1s\n",
            "[CV] criterion=gini, max_depth=5, max_features=15 ....................\n",
            "[CV]  criterion=gini, max_depth=5, max_features=15, score=0.912, total=   1.0s\n",
            "[CV] criterion=gini, max_depth=5, max_features=15 ....................\n",
            "[CV]  criterion=gini, max_depth=5, max_features=15, score=0.885, total=   1.1s\n",
            "[CV] criterion=gini, max_depth=5, max_features=15 ....................\n",
            "[CV]  criterion=gini, max_depth=5, max_features=15, score=0.886, total=   1.0s\n",
            "[CV] criterion=gini, max_depth=5, max_features=30 ....................\n",
            "[CV]  criterion=gini, max_depth=5, max_features=30, score=0.895, total=   1.7s\n",
            "[CV] criterion=gini, max_depth=5, max_features=30 ....................\n",
            "[CV]  criterion=gini, max_depth=5, max_features=30, score=0.903, total=   1.7s\n",
            "[CV] criterion=gini, max_depth=5, max_features=30 ....................\n",
            "[CV]  criterion=gini, max_depth=5, max_features=30, score=0.912, total=   1.6s\n",
            "[CV] criterion=gini, max_depth=5, max_features=30 ....................\n",
            "[CV]  criterion=gini, max_depth=5, max_features=30, score=0.887, total=   1.6s\n",
            "[CV] criterion=gini, max_depth=5, max_features=30 ....................\n",
            "[CV]  criterion=gini, max_depth=5, max_features=30, score=0.883, total=   1.6s\n",
            "[CV] criterion=gini, max_depth=10, max_features=1 ....................\n",
            "[CV]  criterion=gini, max_depth=10, max_features=1, score=0.891, total=   0.4s\n",
            "[CV] criterion=gini, max_depth=10, max_features=1 ....................\n",
            "[CV]  criterion=gini, max_depth=10, max_features=1, score=0.906, total=   0.4s\n",
            "[CV] criterion=gini, max_depth=10, max_features=1 ....................\n",
            "[CV]  criterion=gini, max_depth=10, max_features=1, score=0.902, total=   0.4s\n",
            "[CV] criterion=gini, max_depth=10, max_features=1 ....................\n",
            "[CV]  criterion=gini, max_depth=10, max_features=1, score=0.896, total=   0.4s\n",
            "[CV] criterion=gini, max_depth=10, max_features=1 ....................\n",
            "[CV]  criterion=gini, max_depth=10, max_features=1, score=0.889, total=   0.4s\n",
            "[CV] criterion=gini, max_depth=10, max_features=15 ...................\n",
            "[CV]  criterion=gini, max_depth=10, max_features=15, score=0.941, total=   1.6s\n",
            "[CV] criterion=gini, max_depth=10, max_features=15 ...................\n",
            "[CV]  criterion=gini, max_depth=10, max_features=15, score=0.953, total=   1.6s\n",
            "[CV] criterion=gini, max_depth=10, max_features=15 ...................\n",
            "[CV]  criterion=gini, max_depth=10, max_features=15, score=0.958, total=   1.6s\n",
            "[CV] criterion=gini, max_depth=10, max_features=15 ...................\n",
            "[CV]  criterion=gini, max_depth=10, max_features=15, score=0.940, total=   1.7s\n",
            "[CV] criterion=gini, max_depth=10, max_features=15 ...................\n",
            "[CV]  criterion=gini, max_depth=10, max_features=15, score=0.938, total=   1.6s\n",
            "[CV] criterion=gini, max_depth=10, max_features=30 ...................\n",
            "[CV]  criterion=gini, max_depth=10, max_features=30, score=0.942, total=   2.7s\n",
            "[CV] criterion=gini, max_depth=10, max_features=30 ...................\n",
            "[CV]  criterion=gini, max_depth=10, max_features=30, score=0.953, total=   2.7s\n",
            "[CV] criterion=gini, max_depth=10, max_features=30 ...................\n",
            "[CV]  criterion=gini, max_depth=10, max_features=30, score=0.956, total=   2.7s\n",
            "[CV] criterion=gini, max_depth=10, max_features=30 ...................\n",
            "[CV]  criterion=gini, max_depth=10, max_features=30, score=0.938, total=   2.7s\n",
            "[CV] criterion=gini, max_depth=10, max_features=30 ...................\n",
            "[CV]  criterion=gini, max_depth=10, max_features=30, score=0.939, total=   2.7s\n",
            "[CV] criterion=gini, max_depth=25, max_features=1 ....................\n",
            "[CV]  criterion=gini, max_depth=25, max_features=1, score=0.924, total=   0.7s\n",
            "[CV] criterion=gini, max_depth=25, max_features=1 ....................\n",
            "[CV]  criterion=gini, max_depth=25, max_features=1, score=0.942, total=   0.7s\n",
            "[CV] criterion=gini, max_depth=25, max_features=1 ....................\n",
            "[CV]  criterion=gini, max_depth=25, max_features=1, score=0.938, total=   0.7s\n",
            "[CV] criterion=gini, max_depth=25, max_features=1 ....................\n",
            "[CV]  criterion=gini, max_depth=25, max_features=1, score=0.937, total=   0.7s\n",
            "[CV] criterion=gini, max_depth=25, max_features=1 ....................\n",
            "[CV]  criterion=gini, max_depth=25, max_features=1, score=0.933, total=   0.7s\n",
            "[CV] criterion=gini, max_depth=25, max_features=15 ...................\n",
            "[CV]  criterion=gini, max_depth=25, max_features=15, score=0.945, total=   1.8s\n",
            "[CV] criterion=gini, max_depth=25, max_features=15 ...................\n",
            "[CV]  criterion=gini, max_depth=25, max_features=15, score=0.958, total=   1.8s\n",
            "[CV] criterion=gini, max_depth=25, max_features=15 ...................\n",
            "[CV]  criterion=gini, max_depth=25, max_features=15, score=0.962, total=   1.8s\n",
            "[CV] criterion=gini, max_depth=25, max_features=15 ...................\n",
            "[CV]  criterion=gini, max_depth=25, max_features=15, score=0.944, total=   1.8s\n",
            "[CV] criterion=gini, max_depth=25, max_features=15 ...................\n",
            "[CV]  criterion=gini, max_depth=25, max_features=15, score=0.944, total=   1.8s\n",
            "[CV] criterion=gini, max_depth=25, max_features=30 ...................\n",
            "[CV]  criterion=gini, max_depth=25, max_features=30, score=0.947, total=   3.0s\n",
            "[CV] criterion=gini, max_depth=25, max_features=30 ...................\n",
            "[CV]  criterion=gini, max_depth=25, max_features=30, score=0.960, total=   3.0s\n",
            "[CV] criterion=gini, max_depth=25, max_features=30 ...................\n",
            "[CV]  criterion=gini, max_depth=25, max_features=30, score=0.961, total=   3.0s\n",
            "[CV] criterion=gini, max_depth=25, max_features=30 ...................\n",
            "[CV]  criterion=gini, max_depth=25, max_features=30, score=0.945, total=   3.0s\n",
            "[CV] criterion=gini, max_depth=25, max_features=30 ...................\n",
            "[CV]  criterion=gini, max_depth=25, max_features=30, score=0.942, total=   3.0s\n"
          ],
          "name": "stdout"
        },
        {
          "output_type": "stream",
          "text": [
            "[Parallel(n_jobs=1)]: Done  90 out of  90 | elapsed:  3.3min finished\n"
          ],
          "name": "stderr"
        },
        {
          "output_type": "stream",
          "text": [
            "Best score: \n",
            "0.9508333333333333\n",
            "\n",
            "Best params: \n",
            "{'criterion': 'gini', 'max_depth': 25, 'max_features': 30}\n",
            "\n",
            "Accuracy:\n",
            "89.5\n",
            "\n",
            "Confusion matrix:\n"
          ],
          "name": "stdout"
        },
        {
          "output_type": "display_data",
          "data": {
            "image/png": "[encoded data removed]",
            "text/plain": [
              "<Figure size 720x720 with 1 Axes>"
            ]
          },
          "metadata": {
            "tags": [],
            "needs_background": "light"
          }
        },
        {
          "output_type": "stream",
          "text": [
            "\n",
            "Classification report:\n",
            "              precision    recall  f1-score   support\n",
            "\n",
            "           0       0.95      0.95      0.95        39\n",
            "           1       0.86      1.00      0.92        37\n",
            "           2       0.91      0.91      0.91        35\n",
            "           3       0.84      0.91      0.87        34\n",
            "           4       0.89      0.87      0.88        46\n",
            "           5       0.82      0.88      0.85        41\n",
            "           6       0.90      0.93      0.91        40\n",
            "           7       0.98      0.93      0.95        55\n",
            "           8       0.88      0.76      0.82        38\n",
            "           9       0.90      0.80      0.85        35\n",
            "\n",
            "    accuracy                           0.90       400\n",
            "   macro avg       0.89      0.89      0.89       400\n",
            "weighted avg       0.90      0.90      0.89       400\n",
            "\n"
          ],
          "name": "stdout"
        }
      ]
    },
    {
      "cell_type": "markdown",
      "metadata": {
        "id": "yEpALnjRFdeR"
      },
      "source": [
        "**Sieć**"
      ]
    },
    {
      "cell_type": "code",
      "metadata": {
        "colab": {
          "base_uri": "https://localhost:8080/"
        },
        "id": "ZYaQDoN7Kfk-",
        "outputId": "a3f1db82-4d5d-4260-e912-47841195eb8c"
      },
      "source": [
        "network = create_model\n",
        "NN_best_params(imData3, encoded_train_labels, KerasClassifier(network))"
      ],
      "execution_count": 99,
      "outputs": [
        {
          "output_type": "stream",
          "text": [
            "Epoch 1/15\n",
            "59/59 [==============================] - 1s 3ms/step - loss: 1.4943 - accuracy: 0.6814\n",
            "Epoch 2/15\n",
            "59/59 [==============================] - 0s 3ms/step - loss: 0.4328 - accuracy: 0.9149\n",
            "Epoch 3/15\n",
            "59/59 [==============================] - 0s 2ms/step - loss: 0.2639 - accuracy: 0.9327\n",
            "Epoch 4/15\n",
            "59/59 [==============================] - 0s 2ms/step - loss: 0.2083 - accuracy: 0.9407\n",
            "Epoch 5/15\n",
            "59/59 [==============================] - 0s 2ms/step - loss: 0.1776 - accuracy: 0.9492\n",
            "Epoch 6/15\n",
            "59/59 [==============================] - 0s 2ms/step - loss: 0.1580 - accuracy: 0.9573\n",
            "Epoch 7/15\n",
            "59/59 [==============================] - 0s 2ms/step - loss: 0.1452 - accuracy: 0.9563\n",
            "Epoch 8/15\n",
            "59/59 [==============================] - 0s 2ms/step - loss: 0.1284 - accuracy: 0.9626\n",
            "Epoch 9/15\n",
            "59/59 [==============================] - 0s 3ms/step - loss: 0.1203 - accuracy: 0.9624\n",
            "Epoch 10/15\n",
            "59/59 [==============================] - 0s 2ms/step - loss: 0.1256 - accuracy: 0.9602\n",
            "Epoch 11/15\n",
            "59/59 [==============================] - 0s 2ms/step - loss: 0.1085 - accuracy: 0.9660\n",
            "Epoch 12/15\n",
            "59/59 [==============================] - 0s 2ms/step - loss: 0.1091 - accuracy: 0.9643\n",
            "Epoch 13/15\n",
            "59/59 [==============================] - 0s 3ms/step - loss: 0.1028 - accuracy: 0.9688\n",
            "Epoch 14/15\n",
            "59/59 [==============================] - 0s 2ms/step - loss: 0.1032 - accuracy: 0.9670\n",
            "Epoch 15/15\n",
            "59/59 [==============================] - 0s 2ms/step - loss: 0.0948 - accuracy: 0.9711\n",
            "Best score: 0.8991\n",
            "\n",
            "Best params: \n",
            "{'epochs': 15}\n"
          ],
          "name": "stdout"
        }
      ]
    },
    {
      "cell_type": "code",
      "metadata": {
        "colab": {
          "base_uri": "https://localhost:8080/",
          "height": 1000
        },
        "id": "KH9_45zSFdeS",
        "outputId": "9ed26004-6da2-4577-a812-5235ee995743"
      },
      "source": [
        "network = models.Sequential()\n",
        "network.add(layers.Dense(512, activation='relu', input_shape=(784,)))\n",
        "network.add(layers.Dense(10, activation='softmax'))\n",
        "\n",
        "network.compile(optimizer='rmsprop',\n",
        "                loss='categorical_crossentropy',\n",
        "                metrics=['accuracy'])\n",
        "\n",
        "encoded_train_labels = to_categorical(train_labels)\n",
        "network.fit(imData3[:7500], encoded_train_labels[:7500], epochs=15, batch_size=128)\n",
        "\n",
        "test_loss, test_acc = network.evaluate(imData3[7500:10000], encoded_train_labels[7500:10000])\n",
        "print('test_acc:', test_acc)\n",
        "\n",
        "pred_probabilities = network.predict(imData3[7500:10000])\n",
        "\n",
        "pred_labels = np.argmax(pred_probabilities,-1)\n",
        "\n",
        "cm = confusion_matrix(train_labels[7500:10000], pred_labels)\n",
        "fig = plt.figure(figsize = (10,10))\n",
        "sns.heatmap(cm, annot = True, square = True, fmt = 'd', cbar = False)\n",
        "plt.show()\n",
        "print(classification_report(train_labels[7500:10000], pred_labels))"
      ],
      "execution_count": 100,
      "outputs": [
        {
          "output_type": "stream",
          "text": [
            "Epoch 1/15\n",
            "59/59 [==============================] - 1s 3ms/step - loss: 54.6793 - accuracy: 0.6877\n",
            "Epoch 2/15\n",
            "59/59 [==============================] - 0s 3ms/step - loss: 4.0452 - accuracy: 0.9189\n",
            "Epoch 3/15\n",
            "59/59 [==============================] - 0s 3ms/step - loss: 1.9345 - accuracy: 0.9470\n",
            "Epoch 4/15\n",
            "59/59 [==============================] - 0s 3ms/step - loss: 1.2129 - accuracy: 0.9611\n",
            "Epoch 5/15\n",
            "59/59 [==============================] - 0s 3ms/step - loss: 0.9808 - accuracy: 0.9677\n",
            "Epoch 6/15\n",
            "59/59 [==============================] - 0s 3ms/step - loss: 0.6533 - accuracy: 0.9773\n",
            "Epoch 7/15\n",
            "59/59 [==============================] - 0s 3ms/step - loss: 0.4439 - accuracy: 0.9803\n",
            "Epoch 8/15\n",
            "59/59 [==============================] - 0s 3ms/step - loss: 0.4592 - accuracy: 0.9806\n",
            "Epoch 9/15\n",
            "59/59 [==============================] - 0s 3ms/step - loss: 0.4113 - accuracy: 0.9814\n",
            "Epoch 10/15\n",
            "59/59 [==============================] - 0s 3ms/step - loss: 0.4249 - accuracy: 0.9822\n",
            "Epoch 11/15\n",
            "59/59 [==============================] - 0s 3ms/step - loss: 0.2980 - accuracy: 0.9888\n",
            "Epoch 12/15\n",
            "59/59 [==============================] - 0s 3ms/step - loss: 0.3776 - accuracy: 0.9871\n",
            "Epoch 13/15\n",
            "59/59 [==============================] - 0s 3ms/step - loss: 0.2655 - accuracy: 0.9895\n",
            "Epoch 14/15\n",
            "59/59 [==============================] - 0s 3ms/step - loss: 0.4542 - accuracy: 0.9838\n",
            "Epoch 15/15\n",
            "59/59 [==============================] - 0s 3ms/step - loss: 0.2277 - accuracy: 0.9905\n",
            "79/79 [==============================] - 0s 2ms/step - loss: 3.7032 - accuracy: 0.9376\n",
            "test_acc: 0.9376000165939331\n"
          ],
          "name": "stdout"
        },
        {
          "output_type": "display_data",
          "data": {
            "image/png": "[encoded data removed]",
            "text/plain": [
              "<Figure size 720x720 with 1 Axes>"
            ]
          },
          "metadata": {
            "tags": [],
            "needs_background": "light"
          }
        },
        {
          "output_type": "stream",
          "text": [
            "              precision    recall  f1-score   support\n",
            "\n",
            "           0       0.98      0.97      0.97       256\n",
            "           1       0.99      0.98      0.99       285\n",
            "           2       0.95      0.92      0.93       264\n",
            "           3       0.95      0.90      0.93       270\n",
            "           4       0.86      0.99      0.92       222\n",
            "           5       0.98      0.81      0.88       200\n",
            "           6       0.98      0.97      0.98       263\n",
            "           7       0.94      0.97      0.95       265\n",
            "           8       0.82      0.92      0.87       243\n",
            "           9       0.94      0.92      0.93       232\n",
            "\n",
            "    accuracy                           0.94      2500\n",
            "   macro avg       0.94      0.93      0.94      2500\n",
            "weighted avg       0.94      0.94      0.94      2500\n",
            "\n"
          ],
          "name": "stdout"
        }
      ]
    },
    {
      "cell_type": "markdown",
      "metadata": {
        "id": "wD2nR6odNeiT"
      },
      "source": [
        "### Klasyfikatory dla zmieszanych danych \n"
      ]
    },
    {
      "cell_type": "code",
      "metadata": {
        "colab": {
          "base_uri": "https://localhost:8080/"
        },
        "id": "B0hxoyqvNp_V",
        "outputId": "5c610c4f-f3ee-4ab0-eee8-9f724ba22207"
      },
      "source": [
        "from keras.datasets import mnist\n",
        "\n",
        "(train_images, train_labels), (test_images, test_labels) = mnist.load_data()\n",
        "\n",
        "train_deskewed = [deskew(im) for im in im_list[0:train_images.shape[0]]]\n",
        "test_deskewed = [deskew(im) for im in im_list[train_images.shape[0]:]]\n",
        "\n",
        "train_deskewed = np.asarray(train_deskewed)\n",
        "test_deskewed = np.asarray(test_deskewed)\n",
        "\n",
        "im_list4 = [train_deskewed[i] for i in range(0,train_deskewed.shape[0])] + [test_deskewed[i] for i in range(0,test_deskewed.shape[0])]\n",
        "\n",
        "for i in im_list4:\n",
        "    np.random.shuffle(i)\n",
        "\n",
        "imData4 = np.float32(im_list4).reshape(-1,784)\n",
        "print(imData4.shape)"
      ],
      "execution_count": 101,
      "outputs": [
        {
          "output_type": "stream",
          "text": [
            "(70000, 784)\n"
          ],
          "name": "stdout"
        }
      ]
    },
    {
      "cell_type": "code",
      "metadata": {
        "colab": {
          "base_uri": "https://localhost:8080/",
          "height": 1000
        },
        "id": "Dfrjsps3VQ9P",
        "outputId": "37416831-1912-427f-eee1-671b7b714d09"
      },
      "source": [
        "SVM_classifier(imData4,train_labels)"
      ],
      "execution_count": null,
      "outputs": [
        {
          "output_type": "stream",
          "text": [
            "Fitting 5 folds for each of 8 candidates, totalling 40 fits\n",
            "[CV] C=1, gamma=scale, kernel=linear .................................\n"
          ],
          "name": "stdout"
        },
        {
          "output_type": "stream",
          "text": [
            "[Parallel(n_jobs=1)]: Using backend SequentialBackend with 1 concurrent workers.\n"
          ],
          "name": "stderr"
        },
        {
          "output_type": "stream",
          "text": [
            "[CV] ..... C=1, gamma=scale, kernel=linear, score=0.466, total=  39.5s\n",
            "[CV] C=1, gamma=scale, kernel=linear .................................\n"
          ],
          "name": "stdout"
        },
        {
          "output_type": "stream",
          "text": [
            "[Parallel(n_jobs=1)]: Done   1 out of   1 | elapsed:   39.5s remaining:    0.0s\n"
          ],
          "name": "stderr"
        },
        {
          "output_type": "stream",
          "text": [
            "[CV] ..... C=1, gamma=scale, kernel=linear, score=0.457, total=  38.0s\n",
            "[CV] C=1, gamma=scale, kernel=linear .................................\n"
          ],
          "name": "stdout"
        },
        {
          "output_type": "stream",
          "text": [
            "[Parallel(n_jobs=1)]: Done   2 out of   2 | elapsed:  1.3min remaining:    0.0s\n"
          ],
          "name": "stderr"
        },
        {
          "output_type": "stream",
          "text": [
            "[CV] ..... C=1, gamma=scale, kernel=linear, score=0.431, total=  35.9s\n",
            "[CV] C=1, gamma=scale, kernel=linear .................................\n",
            "[CV] ..... C=1, gamma=scale, kernel=linear, score=0.443, total=  38.9s\n",
            "[CV] C=1, gamma=scale, kernel=linear .................................\n",
            "[CV] ..... C=1, gamma=scale, kernel=linear, score=0.454, total=  37.7s\n",
            "[CV] C=1, gamma=scale, kernel=rbf ....................................\n",
            "[CV] ........ C=1, gamma=scale, kernel=rbf, score=0.615, total=  40.8s\n",
            "[CV] C=1, gamma=scale, kernel=rbf ....................................\n",
            "[CV] ........ C=1, gamma=scale, kernel=rbf, score=0.576, total=  40.8s\n",
            "[CV] C=1, gamma=scale, kernel=rbf ....................................\n",
            "[CV] ........ C=1, gamma=scale, kernel=rbf, score=0.572, total=  40.7s\n",
            "[CV] C=1, gamma=scale, kernel=rbf ....................................\n",
            "[CV] ........ C=1, gamma=scale, kernel=rbf, score=0.578, total=  40.2s\n",
            "[CV] C=1, gamma=scale, kernel=rbf ....................................\n",
            "[CV] ........ C=1, gamma=scale, kernel=rbf, score=0.583, total=  40.0s\n",
            "[CV] C=1, gamma=auto, kernel=linear ..................................\n",
            "[CV] ...... C=1, gamma=auto, kernel=linear, score=0.466, total=  39.3s\n",
            "[CV] C=1, gamma=auto, kernel=linear ..................................\n",
            "[CV] ...... C=1, gamma=auto, kernel=linear, score=0.457, total=  37.7s\n",
            "[CV] C=1, gamma=auto, kernel=linear ..................................\n",
            "[CV] ...... C=1, gamma=auto, kernel=linear, score=0.431, total=  35.4s\n",
            "[CV] C=1, gamma=auto, kernel=linear ..................................\n",
            "[CV] ...... C=1, gamma=auto, kernel=linear, score=0.443, total=  39.0s\n",
            "[CV] C=1, gamma=auto, kernel=linear ..................................\n",
            "[CV] ...... C=1, gamma=auto, kernel=linear, score=0.454, total=  37.9s\n",
            "[CV] C=1, gamma=auto, kernel=rbf .....................................\n",
            "[CV] ......... C=1, gamma=auto, kernel=rbf, score=0.112, total= 1.0min\n",
            "[CV] C=1, gamma=auto, kernel=rbf .....................................\n",
            "[CV] ......... C=1, gamma=auto, kernel=rbf, score=0.112, total= 1.1min\n",
            "[CV] C=1, gamma=auto, kernel=rbf .....................................\n",
            "[CV] ......... C=1, gamma=auto, kernel=rbf, score=0.112, total= 1.1min\n",
            "[CV] C=1, gamma=auto, kernel=rbf .....................................\n",
            "[CV] ......... C=1, gamma=auto, kernel=rbf, score=0.112, total= 1.1min\n",
            "[CV] C=1, gamma=auto, kernel=rbf .....................................\n",
            "[CV] ......... C=1, gamma=auto, kernel=rbf, score=0.113, total= 1.0min\n",
            "[CV] C=10, gamma=scale, kernel=linear ................................\n",
            "[CV] .... C=10, gamma=scale, kernel=linear, score=0.466, total=  39.3s\n",
            "[CV] C=10, gamma=scale, kernel=linear ................................\n",
            "[CV] .... C=10, gamma=scale, kernel=linear, score=0.457, total=  37.5s\n",
            "[CV] C=10, gamma=scale, kernel=linear ................................\n",
            "[CV] .... C=10, gamma=scale, kernel=linear, score=0.431, total=  35.5s\n",
            "[CV] C=10, gamma=scale, kernel=linear ................................\n",
            "[CV] .... C=10, gamma=scale, kernel=linear, score=0.443, total=  39.3s\n",
            "[CV] C=10, gamma=scale, kernel=linear ................................\n",
            "[CV] .... C=10, gamma=scale, kernel=linear, score=0.454, total=  38.6s\n",
            "[CV] C=10, gamma=scale, kernel=rbf ...................................\n",
            "[CV] ....... C=10, gamma=scale, kernel=rbf, score=0.648, total=  50.2s\n",
            "[CV] C=10, gamma=scale, kernel=rbf ...................................\n",
            "[CV] ....... C=10, gamma=scale, kernel=rbf, score=0.601, total=  51.3s\n",
            "[CV] C=10, gamma=scale, kernel=rbf ...................................\n",
            "[CV] ....... C=10, gamma=scale, kernel=rbf, score=0.587, total=  58.4s\n",
            "[CV] C=10, gamma=scale, kernel=rbf ...................................\n",
            "[CV] ....... C=10, gamma=scale, kernel=rbf, score=0.595, total= 1.0min\n",
            "[CV] C=10, gamma=scale, kernel=rbf ...................................\n",
            "[CV] ....... C=10, gamma=scale, kernel=rbf, score=0.611, total=  51.9s\n",
            "[CV] C=10, gamma=auto, kernel=linear .................................\n",
            "[CV] ..... C=10, gamma=auto, kernel=linear, score=0.466, total=  41.6s\n",
            "[CV] C=10, gamma=auto, kernel=linear .................................\n",
            "[CV] ..... C=10, gamma=auto, kernel=linear, score=0.457, total=  40.8s\n",
            "[CV] C=10, gamma=auto, kernel=linear .................................\n",
            "[CV] ..... C=10, gamma=auto, kernel=linear, score=0.431, total=  39.9s\n",
            "[CV] C=10, gamma=auto, kernel=linear .................................\n",
            "[CV] ..... C=10, gamma=auto, kernel=linear, score=0.443, total=  41.3s\n",
            "[CV] C=10, gamma=auto, kernel=linear .................................\n",
            "[CV] ..... C=10, gamma=auto, kernel=linear, score=0.454, total=  40.9s\n",
            "[CV] C=10, gamma=auto, kernel=rbf ....................................\n",
            "[CV] ........ C=10, gamma=auto, kernel=rbf, score=0.112, total= 1.2min\n",
            "[CV] C=10, gamma=auto, kernel=rbf ....................................\n",
            "[CV] ........ C=10, gamma=auto, kernel=rbf, score=0.112, total= 1.1min\n",
            "[CV] C=10, gamma=auto, kernel=rbf ....................................\n",
            "[CV] ........ C=10, gamma=auto, kernel=rbf, score=0.112, total= 1.1min\n",
            "[CV] C=10, gamma=auto, kernel=rbf ....................................\n",
            "[CV] ........ C=10, gamma=auto, kernel=rbf, score=0.112, total= 1.1min\n",
            "[CV] C=10, gamma=auto, kernel=rbf ....................................\n",
            "[CV] ........ C=10, gamma=auto, kernel=rbf, score=0.113, total= 1.1min\n"
          ],
          "name": "stdout"
        },
        {
          "output_type": "stream",
          "text": [
            "[Parallel(n_jobs=1)]: Done  40 out of  40 | elapsed: 31.7min finished\n"
          ],
          "name": "stderr"
        },
        {
          "output_type": "stream",
          "text": [
            "\n",
            "Best score: \n",
            "0.6083333333333333\n",
            "\n",
            "Best params: \n",
            "{'C': 10, 'gamma': 'scale', 'kernel': 'rbf'}\n",
            "\n",
            "Accuracy:\n",
            "42.0\n",
            "\n",
            "Confusion matrix:\n"
          ],
          "name": "stdout"
        },
        {
          "output_type": "display_data",
          "data": {
            "image/png": "[encoded data removed]",
            "text/plain": [
              "<Figure size 720x720 with 1 Axes>"
            ]
          },
          "metadata": {
            "tags": [],
            "needs_background": "light"
          }
        },
        {
          "output_type": "stream",
          "text": [
            "\n",
            "Classification report:\n",
            "              precision    recall  f1-score   support\n",
            "\n",
            "           0       0.48      0.72      0.58        39\n",
            "           1       0.88      1.00      0.94        37\n",
            "           2       0.23      0.43      0.30        35\n",
            "           3       0.31      0.50      0.39        34\n",
            "           4       0.74      0.30      0.43        46\n",
            "           5       0.22      0.20      0.21        41\n",
            "           6       0.43      0.33      0.37        40\n",
            "           7       0.44      0.33      0.37        55\n",
            "           8       0.44      0.29      0.35        38\n",
            "           9       0.23      0.20      0.22        35\n",
            "\n",
            "    accuracy                           0.42       400\n",
            "   macro avg       0.44      0.43      0.41       400\n",
            "weighted avg       0.45      0.42      0.41       400\n",
            "\n"
          ],
          "name": "stdout"
        }
      ]
    },
    {
      "cell_type": "code",
      "metadata": {
        "colab": {
          "base_uri": "https://localhost:8080/",
          "height": 1000
        },
        "id": "qEydcBaKVXuv",
        "outputId": "186c4b76-80c9-4d57-847d-17184bf51a5d"
      },
      "source": [
        "RFC_classifier(imData4,train_labels)"
      ],
      "execution_count": null,
      "outputs": [
        {
          "output_type": "stream",
          "text": [
            "Fitting 5 folds for each of 18 candidates, totalling 90 fits\n",
            "[CV] criterion=entropy, max_depth=5, max_features=1 ..................\n"
          ],
          "name": "stdout"
        },
        {
          "output_type": "stream",
          "text": [
            "[Parallel(n_jobs=1)]: Using backend SequentialBackend with 1 concurrent workers.\n"
          ],
          "name": "stderr"
        },
        {
          "output_type": "stream",
          "text": [
            "[CV]  criterion=entropy, max_depth=5, max_features=1, score=0.338, total=   0.4s\n",
            "[CV] criterion=entropy, max_depth=5, max_features=1 ..................\n"
          ],
          "name": "stdout"
        },
        {
          "output_type": "stream",
          "text": [
            "[Parallel(n_jobs=1)]: Done   1 out of   1 | elapsed:    0.4s remaining:    0.0s\n"
          ],
          "name": "stderr"
        },
        {
          "output_type": "stream",
          "text": [
            "[CV]  criterion=entropy, max_depth=5, max_features=1, score=0.340, total=   0.4s\n",
            "[CV] criterion=entropy, max_depth=5, max_features=1 ..................\n"
          ],
          "name": "stdout"
        },
        {
          "output_type": "stream",
          "text": [
            "[Parallel(n_jobs=1)]: Done   2 out of   2 | elapsed:    0.8s remaining:    0.0s\n"
          ],
          "name": "stderr"
        },
        {
          "output_type": "stream",
          "text": [
            "[CV]  criterion=entropy, max_depth=5, max_features=1, score=0.316, total=   0.4s\n",
            "[CV] criterion=entropy, max_depth=5, max_features=1 ..................\n"
          ],
          "name": "stdout"
        },
        {
          "output_type": "stream",
          "text": [
            "[Parallel(n_jobs=1)]: Done   3 out of   3 | elapsed:    1.2s remaining:    0.0s\n"
          ],
          "name": "stderr"
        },
        {
          "output_type": "stream",
          "text": [
            "[CV]  criterion=entropy, max_depth=5, max_features=1, score=0.316, total=   0.4s\n",
            "[CV] criterion=entropy, max_depth=5, max_features=1 ..................\n",
            "[CV]  criterion=entropy, max_depth=5, max_features=1, score=0.343, total=   0.4s\n",
            "[CV] criterion=entropy, max_depth=5, max_features=15 .................\n",
            "[CV]  criterion=entropy, max_depth=5, max_features=15, score=0.417, total=   2.3s\n",
            "[CV] criterion=entropy, max_depth=5, max_features=15 .................\n",
            "[CV]  criterion=entropy, max_depth=5, max_features=15, score=0.420, total=   2.2s\n",
            "[CV] criterion=entropy, max_depth=5, max_features=15 .................\n",
            "[CV]  criterion=entropy, max_depth=5, max_features=15, score=0.394, total=   2.2s\n",
            "[CV] criterion=entropy, max_depth=5, max_features=15 .................\n",
            "[CV]  criterion=entropy, max_depth=5, max_features=15, score=0.412, total=   2.2s\n",
            "[CV] criterion=entropy, max_depth=5, max_features=15 .................\n",
            "[CV]  criterion=entropy, max_depth=5, max_features=15, score=0.412, total=   2.3s\n",
            "[CV] criterion=entropy, max_depth=5, max_features=30 .................\n",
            "[CV]  criterion=entropy, max_depth=5, max_features=30, score=0.449, total=   4.1s\n",
            "[CV] criterion=entropy, max_depth=5, max_features=30 .................\n",
            "[CV]  criterion=entropy, max_depth=5, max_features=30, score=0.443, total=   4.2s\n",
            "[CV] criterion=entropy, max_depth=5, max_features=30 .................\n",
            "[CV]  criterion=entropy, max_depth=5, max_features=30, score=0.417, total=   4.2s\n",
            "[CV] criterion=entropy, max_depth=5, max_features=30 .................\n",
            "[CV]  criterion=entropy, max_depth=5, max_features=30, score=0.438, total=   4.1s\n",
            "[CV] criterion=entropy, max_depth=5, max_features=30 .................\n",
            "[CV]  criterion=entropy, max_depth=5, max_features=30, score=0.408, total=   4.1s\n",
            "[CV] criterion=entropy, max_depth=10, max_features=1 .................\n",
            "[CV]  criterion=entropy, max_depth=10, max_features=1, score=0.415, total=   0.6s\n",
            "[CV] criterion=entropy, max_depth=10, max_features=1 .................\n",
            "[CV]  criterion=entropy, max_depth=10, max_features=1, score=0.422, total=   0.6s\n",
            "[CV] criterion=entropy, max_depth=10, max_features=1 .................\n",
            "[CV]  criterion=entropy, max_depth=10, max_features=1, score=0.392, total=   0.6s\n",
            "[CV] criterion=entropy, max_depth=10, max_features=1 .................\n",
            "[CV]  criterion=entropy, max_depth=10, max_features=1, score=0.413, total=   0.7s\n",
            "[CV] criterion=entropy, max_depth=10, max_features=1 .................\n",
            "[CV]  criterion=entropy, max_depth=10, max_features=1, score=0.380, total=   0.7s\n",
            "[CV] criterion=entropy, max_depth=10, max_features=15 ................\n",
            "[CV]  criterion=entropy, max_depth=10, max_features=15, score=0.478, total=   4.7s\n",
            "[CV] criterion=entropy, max_depth=10, max_features=15 ................\n",
            "[CV]  criterion=entropy, max_depth=10, max_features=15, score=0.457, total=   4.6s\n",
            "[CV] criterion=entropy, max_depth=10, max_features=15 ................\n",
            "[CV]  criterion=entropy, max_depth=10, max_features=15, score=0.475, total=   4.7s\n",
            "[CV] criterion=entropy, max_depth=10, max_features=15 ................\n",
            "[CV]  criterion=entropy, max_depth=10, max_features=15, score=0.472, total=   4.7s\n",
            "[CV] criterion=entropy, max_depth=10, max_features=15 ................\n",
            "[CV]  criterion=entropy, max_depth=10, max_features=15, score=0.469, total=   4.7s\n",
            "[CV] criterion=entropy, max_depth=10, max_features=30 ................\n",
            "[CV]  criterion=entropy, max_depth=10, max_features=30, score=0.494, total=   8.8s\n",
            "[CV] criterion=entropy, max_depth=10, max_features=30 ................\n",
            "[CV]  criterion=entropy, max_depth=10, max_features=30, score=0.499, total=   8.7s\n",
            "[CV] criterion=entropy, max_depth=10, max_features=30 ................\n",
            "[CV]  criterion=entropy, max_depth=10, max_features=30, score=0.475, total=   8.6s\n",
            "[CV] criterion=entropy, max_depth=10, max_features=30 ................\n",
            "[CV]  criterion=entropy, max_depth=10, max_features=30, score=0.469, total=   8.6s\n",
            "[CV] criterion=entropy, max_depth=10, max_features=30 ................\n",
            "[CV]  criterion=entropy, max_depth=10, max_features=30, score=0.463, total=   8.7s\n",
            "[CV] criterion=entropy, max_depth=25, max_features=1 .................\n",
            "[CV]  criterion=entropy, max_depth=25, max_features=1, score=0.407, total=   1.3s\n",
            "[CV] criterion=entropy, max_depth=25, max_features=1 .................\n",
            "[CV]  criterion=entropy, max_depth=25, max_features=1, score=0.433, total=   1.3s\n",
            "[CV] criterion=entropy, max_depth=25, max_features=1 .................\n",
            "[CV]  criterion=entropy, max_depth=25, max_features=1, score=0.425, total=   1.3s\n",
            "[CV] criterion=entropy, max_depth=25, max_features=1 .................\n",
            "[CV]  criterion=entropy, max_depth=25, max_features=1, score=0.412, total=   1.3s\n",
            "[CV] criterion=entropy, max_depth=25, max_features=1 .................\n",
            "[CV]  criterion=entropy, max_depth=25, max_features=1, score=0.398, total=   1.3s\n",
            "[CV] criterion=entropy, max_depth=25, max_features=15 ................\n",
            "[CV]  criterion=entropy, max_depth=25, max_features=15, score=0.465, total=   5.8s\n",
            "[CV] criterion=entropy, max_depth=25, max_features=15 ................\n",
            "[CV]  criterion=entropy, max_depth=25, max_features=15, score=0.437, total=   5.7s\n",
            "[CV] criterion=entropy, max_depth=25, max_features=15 ................\n",
            "[CV]  criterion=entropy, max_depth=25, max_features=15, score=0.440, total=   5.6s\n",
            "[CV] criterion=entropy, max_depth=25, max_features=15 ................\n",
            "[CV]  criterion=entropy, max_depth=25, max_features=15, score=0.464, total=   5.7s\n",
            "[CV] criterion=entropy, max_depth=25, max_features=15 ................\n",
            "[CV]  criterion=entropy, max_depth=25, max_features=15, score=0.465, total=   5.6s\n",
            "[CV] criterion=entropy, max_depth=25, max_features=30 ................\n",
            "[CV]  criterion=entropy, max_depth=25, max_features=30, score=0.477, total=  10.3s\n",
            "[CV] criterion=entropy, max_depth=25, max_features=30 ................\n",
            "[CV]  criterion=entropy, max_depth=25, max_features=30, score=0.461, total=  10.1s\n",
            "[CV] criterion=entropy, max_depth=25, max_features=30 ................\n",
            "[CV]  criterion=entropy, max_depth=25, max_features=30, score=0.464, total=  10.2s\n",
            "[CV] criterion=entropy, max_depth=25, max_features=30 ................\n",
            "[CV]  criterion=entropy, max_depth=25, max_features=30, score=0.474, total=  10.2s\n",
            "[CV] criterion=entropy, max_depth=25, max_features=30 ................\n",
            "[CV]  criterion=entropy, max_depth=25, max_features=30, score=0.465, total=  10.2s\n",
            "[CV] criterion=gini, max_depth=5, max_features=1 .....................\n",
            "[CV]  criterion=gini, max_depth=5, max_features=1, score=0.360, total=   0.3s\n",
            "[CV] criterion=gini, max_depth=5, max_features=1 .....................\n",
            "[CV]  criterion=gini, max_depth=5, max_features=1, score=0.340, total=   0.3s\n",
            "[CV] criterion=gini, max_depth=5, max_features=1 .....................\n",
            "[CV]  criterion=gini, max_depth=5, max_features=1, score=0.341, total=   0.3s\n",
            "[CV] criterion=gini, max_depth=5, max_features=1 .....................\n",
            "[CV]  criterion=gini, max_depth=5, max_features=1, score=0.341, total=   0.3s\n",
            "[CV] criterion=gini, max_depth=5, max_features=1 .....................\n",
            "[CV]  criterion=gini, max_depth=5, max_features=1, score=0.348, total=   0.3s\n",
            "[CV] criterion=gini, max_depth=5, max_features=15 ....................\n",
            "[CV]  criterion=gini, max_depth=5, max_features=15, score=0.423, total=   1.0s\n",
            "[CV] criterion=gini, max_depth=5, max_features=15 ....................\n",
            "[CV]  criterion=gini, max_depth=5, max_features=15, score=0.450, total=   1.0s\n",
            "[CV] criterion=gini, max_depth=5, max_features=15 ....................\n",
            "[CV]  criterion=gini, max_depth=5, max_features=15, score=0.413, total=   1.0s\n",
            "[CV] criterion=gini, max_depth=5, max_features=15 ....................\n",
            "[CV]  criterion=gini, max_depth=5, max_features=15, score=0.423, total=   1.0s\n",
            "[CV] criterion=gini, max_depth=5, max_features=15 ....................\n",
            "[CV]  criterion=gini, max_depth=5, max_features=15, score=0.404, total=   1.0s\n",
            "[CV] criterion=gini, max_depth=5, max_features=30 ....................\n",
            "[CV]  criterion=gini, max_depth=5, max_features=30, score=0.439, total=   1.7s\n",
            "[CV] criterion=gini, max_depth=5, max_features=30 ....................\n",
            "[CV]  criterion=gini, max_depth=5, max_features=30, score=0.453, total=   1.7s\n",
            "[CV] criterion=gini, max_depth=5, max_features=30 ....................\n",
            "[CV]  criterion=gini, max_depth=5, max_features=30, score=0.408, total=   1.7s\n",
            "[CV] criterion=gini, max_depth=5, max_features=30 ....................\n",
            "[CV]  criterion=gini, max_depth=5, max_features=30, score=0.423, total=   1.7s\n",
            "[CV] criterion=gini, max_depth=5, max_features=30 ....................\n",
            "[CV]  criterion=gini, max_depth=5, max_features=30, score=0.425, total=   1.7s\n",
            "[CV] criterion=gini, max_depth=10, max_features=1 ....................\n",
            "[CV]  criterion=gini, max_depth=10, max_features=1, score=0.407, total=   0.4s\n",
            "[CV] criterion=gini, max_depth=10, max_features=1 ....................\n",
            "[CV]  criterion=gini, max_depth=10, max_features=1, score=0.418, total=   0.4s\n",
            "[CV] criterion=gini, max_depth=10, max_features=1 ....................\n",
            "[CV]  criterion=gini, max_depth=10, max_features=1, score=0.385, total=   0.4s\n",
            "[CV] criterion=gini, max_depth=10, max_features=1 ....................\n",
            "[CV]  criterion=gini, max_depth=10, max_features=1, score=0.404, total=   0.4s\n",
            "[CV] criterion=gini, max_depth=10, max_features=1 ....................\n",
            "[CV]  criterion=gini, max_depth=10, max_features=1, score=0.400, total=   0.4s\n",
            "[CV] criterion=gini, max_depth=10, max_features=15 ...................\n",
            "[CV]  criterion=gini, max_depth=10, max_features=15, score=0.482, total=   1.8s\n",
            "[CV] criterion=gini, max_depth=10, max_features=15 ...................\n",
            "[CV]  criterion=gini, max_depth=10, max_features=15, score=0.463, total=   1.8s\n",
            "[CV] criterion=gini, max_depth=10, max_features=15 ...................\n",
            "[CV]  criterion=gini, max_depth=10, max_features=15, score=0.473, total=   1.8s\n",
            "[CV] criterion=gini, max_depth=10, max_features=15 ...................\n",
            "[CV]  criterion=gini, max_depth=10, max_features=15, score=0.481, total=   1.8s\n",
            "[CV] criterion=gini, max_depth=10, max_features=15 ...................\n",
            "[CV]  criterion=gini, max_depth=10, max_features=15, score=0.475, total=   1.8s\n",
            "[CV] criterion=gini, max_depth=10, max_features=30 ...................\n",
            "[CV]  criterion=gini, max_depth=10, max_features=30, score=0.517, total=   3.0s\n",
            "[CV] criterion=gini, max_depth=10, max_features=30 ...................\n",
            "[CV]  criterion=gini, max_depth=10, max_features=30, score=0.486, total=   3.1s\n",
            "[CV] criterion=gini, max_depth=10, max_features=30 ...................\n",
            "[CV]  criterion=gini, max_depth=10, max_features=30, score=0.487, total=   3.0s\n",
            "[CV] criterion=gini, max_depth=10, max_features=30 ...................\n",
            "[CV]  criterion=gini, max_depth=10, max_features=30, score=0.497, total=   3.0s\n",
            "[CV] criterion=gini, max_depth=10, max_features=30 ...................\n",
            "[CV]  criterion=gini, max_depth=10, max_features=30, score=0.474, total=   3.0s\n",
            "[CV] criterion=gini, max_depth=25, max_features=1 ....................\n",
            "[CV]  criterion=gini, max_depth=25, max_features=1, score=0.409, total=   0.7s\n",
            "[CV] criterion=gini, max_depth=25, max_features=1 ....................\n",
            "[CV]  criterion=gini, max_depth=25, max_features=1, score=0.451, total=   0.8s\n",
            "[CV] criterion=gini, max_depth=25, max_features=1 ....................\n",
            "[CV]  criterion=gini, max_depth=25, max_features=1, score=0.414, total=   0.8s\n",
            "[CV] criterion=gini, max_depth=25, max_features=1 ....................\n",
            "[CV]  criterion=gini, max_depth=25, max_features=1, score=0.429, total=   0.8s\n",
            "[CV] criterion=gini, max_depth=25, max_features=1 ....................\n",
            "[CV]  criterion=gini, max_depth=25, max_features=1, score=0.410, total=   0.8s\n",
            "[CV] criterion=gini, max_depth=25, max_features=15 ...................\n",
            "[CV]  criterion=gini, max_depth=25, max_features=15, score=0.484, total=   2.5s\n",
            "[CV] criterion=gini, max_depth=25, max_features=15 ...................\n",
            "[CV]  criterion=gini, max_depth=25, max_features=15, score=0.453, total=   2.5s\n",
            "[CV] criterion=gini, max_depth=25, max_features=15 ...................\n",
            "[CV]  criterion=gini, max_depth=25, max_features=15, score=0.440, total=   2.5s\n",
            "[CV] criterion=gini, max_depth=25, max_features=15 ...................\n",
            "[CV]  criterion=gini, max_depth=25, max_features=15, score=0.453, total=   2.5s\n",
            "[CV] criterion=gini, max_depth=25, max_features=15 ...................\n",
            "[CV]  criterion=gini, max_depth=25, max_features=15, score=0.461, total=   2.5s\n",
            "[CV] criterion=gini, max_depth=25, max_features=30 ...................\n",
            "[CV]  criterion=gini, max_depth=25, max_features=30, score=0.498, total=   4.2s\n",
            "[CV] criterion=gini, max_depth=25, max_features=30 ...................\n",
            "[CV]  criterion=gini, max_depth=25, max_features=30, score=0.476, total=   4.2s\n",
            "[CV] criterion=gini, max_depth=25, max_features=30 ...................\n",
            "[CV]  criterion=gini, max_depth=25, max_features=30, score=0.487, total=   4.2s\n",
            "[CV] criterion=gini, max_depth=25, max_features=30 ...................\n",
            "[CV]  criterion=gini, max_depth=25, max_features=30, score=0.479, total=   4.2s\n",
            "[CV] criterion=gini, max_depth=25, max_features=30 ...................\n",
            "[CV]  criterion=gini, max_depth=25, max_features=30, score=0.467, total=   4.2s\n"
          ],
          "name": "stdout"
        },
        {
          "output_type": "stream",
          "text": [
            "[Parallel(n_jobs=1)]: Done  90 out of  90 | elapsed:  4.5min finished\n"
          ],
          "name": "stderr"
        },
        {
          "output_type": "stream",
          "text": [
            "Best score: \n",
            "0.4923333333333334\n",
            "\n",
            "Best params: \n",
            "{'criterion': 'gini', 'max_depth': 10, 'max_features': 30}\n",
            "\n",
            "Accuracy:\n",
            "37.5\n",
            "\n",
            "Confusion matrix:\n"
          ],
          "name": "stdout"
        },
        {
          "output_type": "display_data",
          "data": {
            "image/png": "[encoded data removed]",
            "text/plain": [
              "<Figure size 720x720 with 1 Axes>"
            ]
          },
          "metadata": {
            "tags": [],
            "needs_background": "light"
          }
        },
        {
          "output_type": "stream",
          "text": [
            "\n",
            "Classification report:\n",
            "              precision    recall  f1-score   support\n",
            "\n",
            "           0       0.41      0.54      0.47        39\n",
            "           1       0.67      1.00      0.80        37\n",
            "           2       0.25      0.31      0.28        35\n",
            "           3       0.24      0.29      0.27        34\n",
            "           4       0.49      0.43      0.46        46\n",
            "           5       0.36      0.12      0.18        41\n",
            "           6       0.40      0.15      0.22        40\n",
            "           7       0.45      0.35      0.39        55\n",
            "           8       0.35      0.21      0.26        38\n",
            "           9       0.18      0.37      0.24        35\n",
            "\n",
            "    accuracy                           0.38       400\n",
            "   macro avg       0.38      0.38      0.36       400\n",
            "weighted avg       0.39      0.38      0.36       400\n",
            "\n"
          ],
          "name": "stdout"
        }
      ]
    },
    {
      "cell_type": "code",
      "metadata": {
        "colab": {
          "base_uri": "https://localhost:8080/"
        },
        "id": "73fL8CqAKxTP",
        "outputId": "88e8d867-b524-43e1-bacb-dbec6b5e66b1"
      },
      "source": [
        "network = create_model\n",
        "NN_best_params(imData4, encoded_train_labels, KerasClassifier(network))"
      ],
      "execution_count": 102,
      "outputs": [
        {
          "output_type": "stream",
          "text": [
            "Epoch 1/15\n",
            "59/59 [==============================] - 0s 2ms/step - loss: 1.4922 - accuracy: 0.6765\n",
            "Epoch 2/15\n",
            "59/59 [==============================] - 0s 3ms/step - loss: 0.4640 - accuracy: 0.9028\n",
            "Epoch 3/15\n",
            "59/59 [==============================] - 0s 2ms/step - loss: 0.2676 - accuracy: 0.9335\n",
            "Epoch 4/15\n",
            "59/59 [==============================] - 0s 2ms/step - loss: 0.2085 - accuracy: 0.9441\n",
            "Epoch 5/15\n",
            "59/59 [==============================] - 0s 2ms/step - loss: 0.1773 - accuracy: 0.9489\n",
            "Epoch 6/15\n",
            "59/59 [==============================] - 0s 2ms/step - loss: 0.1571 - accuracy: 0.9550\n",
            "Epoch 7/15\n",
            "59/59 [==============================] - 0s 2ms/step - loss: 0.1401 - accuracy: 0.9554\n",
            "Epoch 8/15\n",
            "59/59 [==============================] - 0s 3ms/step - loss: 0.1274 - accuracy: 0.9602\n",
            "Epoch 9/15\n",
            "59/59 [==============================] - 0s 2ms/step - loss: 0.1286 - accuracy: 0.9629\n",
            "Epoch 10/15\n",
            "59/59 [==============================] - 0s 2ms/step - loss: 0.1182 - accuracy: 0.9649\n",
            "Epoch 11/15\n",
            "59/59 [==============================] - 0s 2ms/step - loss: 0.1188 - accuracy: 0.9642\n",
            "Epoch 12/15\n",
            "59/59 [==============================] - 0s 2ms/step - loss: 0.1128 - accuracy: 0.9661\n",
            "Epoch 13/15\n",
            "59/59 [==============================] - 0s 2ms/step - loss: 0.1123 - accuracy: 0.9630\n",
            "Epoch 14/15\n",
            "59/59 [==============================] - 0s 2ms/step - loss: 0.0954 - accuracy: 0.9688\n",
            "Epoch 15/15\n",
            "59/59 [==============================] - 0s 2ms/step - loss: 0.0997 - accuracy: 0.9677\n",
            "Best score: 0.8991\n",
            "\n",
            "Best params: \n",
            "{'epochs': 15}\n"
          ],
          "name": "stdout"
        }
      ]
    },
    {
      "cell_type": "code",
      "metadata": {
        "colab": {
          "base_uri": "https://localhost:8080/",
          "height": 1000
        },
        "id": "xq8ZAvhtR8pY",
        "outputId": "4b8c1793-edcb-435a-c5d2-d5528ee4c4ac"
      },
      "source": [
        "network = models.Sequential()\n",
        "network.add(layers.Dense(512, activation='relu', input_shape=(784,)))\n",
        "network.add(layers.Dense(10, activation='softmax'))\n",
        "\n",
        "network.compile(optimizer='rmsprop',\n",
        "                loss='categorical_crossentropy',\n",
        "                metrics=['accuracy'])\n",
        "\n",
        "encoded_train_labels = to_categorical(train_labels)\n",
        "network.fit(imData4[:7500], encoded_train_labels[:7500], epochs=15, batch_size=128)\n",
        "\n",
        "test_loss, test_acc = network.evaluate(imData4[7500:10000], encoded_train_labels[7500:10000])\n",
        "print('test_acc:', test_acc)\n",
        "\n",
        "pred_probabilities = network.predict(imData4[7500:10000])\n",
        "\n",
        "pred_labels = np.argmax(pred_probabilities,-1)\n",
        "\n",
        "cm = confusion_matrix(train_labels[7500:10000], pred_labels)\n",
        "fig = plt.figure(figsize = (10,10))\n",
        "sns.heatmap(cm, annot = True, square = True, fmt = 'd', cbar = False)\n",
        "plt.show()\n",
        "print(classification_report(train_labels[7500:10000], pred_labels))"
      ],
      "execution_count": 103,
      "outputs": [
        {
          "output_type": "stream",
          "text": [
            "Epoch 1/15\n",
            "59/59 [==============================] - 1s 3ms/step - loss: 125.5397 - accuracy: 0.2842\n",
            "Epoch 2/15\n",
            "59/59 [==============================] - 0s 3ms/step - loss: 14.8506 - accuracy: 0.4664\n",
            "Epoch 3/15\n",
            "59/59 [==============================] - 0s 3ms/step - loss: 5.0242 - accuracy: 0.5959\n",
            "Epoch 4/15\n",
            "59/59 [==============================] - 0s 3ms/step - loss: 2.1509 - accuracy: 0.6913\n",
            "Epoch 5/15\n",
            "59/59 [==============================] - 0s 3ms/step - loss: 1.1452 - accuracy: 0.7960\n",
            "Epoch 6/15\n",
            "59/59 [==============================] - 0s 3ms/step - loss: 0.8559 - accuracy: 0.8425\n",
            "Epoch 7/15\n",
            "59/59 [==============================] - 0s 3ms/step - loss: 0.5998 - accuracy: 0.8857\n",
            "Epoch 8/15\n",
            "59/59 [==============================] - 0s 3ms/step - loss: 0.3895 - accuracy: 0.9177\n",
            "Epoch 9/15\n",
            "59/59 [==============================] - 0s 3ms/step - loss: 0.4102 - accuracy: 0.9156\n",
            "Epoch 10/15\n",
            "59/59 [==============================] - 0s 3ms/step - loss: 0.3698 - accuracy: 0.9295\n",
            "Epoch 11/15\n",
            "59/59 [==============================] - 0s 3ms/step - loss: 0.3367 - accuracy: 0.9375\n",
            "Epoch 12/15\n",
            "59/59 [==============================] - 0s 3ms/step - loss: 0.2652 - accuracy: 0.9524\n",
            "Epoch 13/15\n",
            "59/59 [==============================] - 0s 3ms/step - loss: 0.2815 - accuracy: 0.9507\n",
            "Epoch 14/15\n",
            "59/59 [==============================] - 0s 3ms/step - loss: 0.2451 - accuracy: 0.9563\n",
            "Epoch 15/15\n",
            "59/59 [==============================] - 0s 3ms/step - loss: 0.2225 - accuracy: 0.9632\n",
            "79/79 [==============================] - 0s 2ms/step - loss: 10.4813 - accuracy: 0.5008\n",
            "test_acc: 0.5008000135421753\n"
          ],
          "name": "stdout"
        },
        {
          "output_type": "display_data",
          "data": {
            "image/png": "[encoded data removed]",
            "text/plain": [
              "<Figure size 720x720 with 1 Axes>"
            ]
          },
          "metadata": {
            "tags": [],
            "needs_background": "light"
          }
        },
        {
          "output_type": "stream",
          "text": [
            "              precision    recall  f1-score   support\n",
            "\n",
            "           0       0.57      0.76      0.65       256\n",
            "           1       0.98      0.94      0.96       285\n",
            "           2       0.38      0.25      0.30       264\n",
            "           3       0.48      0.36      0.41       270\n",
            "           4       0.46      0.41      0.44       222\n",
            "           5       0.32      0.30      0.31       200\n",
            "           6       0.49      0.52      0.50       263\n",
            "           7       0.42      0.57      0.48       265\n",
            "           8       0.43      0.39      0.41       243\n",
            "           9       0.35      0.41      0.38       232\n",
            "\n",
            "    accuracy                           0.50      2500\n",
            "   macro avg       0.49      0.49      0.48      2500\n",
            "weighted avg       0.50      0.50      0.49      2500\n",
            "\n"
          ],
          "name": "stdout"
        }
      ]
    },
    {
      "cell_type": "markdown",
      "metadata": {
        "id": "RyBaBvxwKkKL"
      },
      "source": [
        "# Podsumowanie"
      ]
    },
    {
      "cell_type": "markdown",
      "metadata": {
        "id": "Q4PFn_UJKsUj"
      },
      "source": [
        "### Porównanie wyników działania klasyfikatorów, trenowanymi obrazami oryginalnymi oraz obrazami po zadziałaniu funkcji Deskew:"
      ]
    },
    {
      "cell_type": "markdown",
      "metadata": {
        "id": "b3udfcUqKy9t"
      },
      "source": [
        "Z użyciem deskew:\n",
        "1.   SVM : 0.94\n",
        "2.   RFC : 0.93\n",
        "3.   Sieci 0.96\n",
        "\n",
        "Bez użycia deskew:\n",
        "1.   SVM : 0.92\n",
        "2.   RFC : 0.87\n",
        "3.   Sieci : 0.86\n",
        "\n",
        "**Wnioski**: Największą różnica przypada dla klasyfikatora Neural Network - funkcja deskew najbardziej pomaga w uczeniu.  W pozostałych przypadkach efekty również są lepsze jeśli użyjemy wspomnianej wcześniej funkcji. "
      ]
    },
    {
      "cell_type": "markdown",
      "metadata": {
        "id": "qL_EcubULWYF"
      },
      "source": [
        "### Porównanie wyników działania klasyfikatorów, trenowanymi obrazami oryginalnymi oraz danymi po zadziałaniu funkcji OpenCVHOG"
      ]
    },
    {
      "cell_type": "markdown",
      "metadata": {
        "id": "FBQU6JeiLetL"
      },
      "source": [
        "Z użyciem HOG:\n",
        "1.   SVM : 0.94\n",
        "2.   RFC : 0.93\n",
        "3.   Sieci 0.96\n",
        "\n",
        "Bez użycia HOG:\n",
        "1.   SVM : 0.92\n",
        "2.   RFC : 0.90\n",
        "3.   Sieci : 0.91\n",
        "\n",
        "**Wnioski**: W przypadku wszystkich klasyfikatorów pojawiły się niewielkie różnice. Najlepiej poradził tu sobie SVM dla przypadku bez użycia funkcji HOG.  Sieci natomiast najlepiej poradziły sobie w sytuacji użycia HOG'a. Mimo niedużych różnic można uznać, że HOG wpływa pozytywnie na uczenie.\n"
      ]
    },
    {
      "cell_type": "markdown",
      "metadata": {
        "id": "1XnvtMurLorY"
      },
      "source": [
        "### Porównanie wyników działania klasyfikatorów, trenowanymi obrazami oryginalnymi oraz danymi \"zmieszanymi\":"
      ]
    },
    {
      "cell_type": "markdown",
      "metadata": {
        "id": "Sef7bmgmLqBy"
      },
      "source": [
        "Niezmieszane :\n",
        "1.   SVM : 0.92\n",
        "2.   RFC : 0.90\n",
        "3.   Sieci : 0.94\n",
        "\n",
        "Zmieszane:\n",
        "1.   SVM : 0.42\n",
        "2.   RFC : 0.38\n",
        "3.   Sieci : 0.50 \n",
        "\n",
        "**Wnioski**: W ostatnim przypadku różnica jest naprawdę znacząca. Gołym okiem widać, że skuteczność jest dużo mniejsza, aczkolwiek i tak zaskakująco dobra dla danych zmieszanych. Po zmieszaniu najlepiej poradziła sobie sieć, jednak w porównaniu z SVM wyniki są podobne."
      ]
    }
  ]
}